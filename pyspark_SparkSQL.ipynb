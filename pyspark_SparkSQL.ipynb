{
  "nbformat": 4,
  "nbformat_minor": 0,
  "metadata": {
    "colab": {
      "provenance": [],
      "mount_file_id": "1uZiSS_kkL9MEa3IY1XCfCuW1vxw_YQDD",
      "authorship_tag": "ABX9TyPolFAjmHhAQ4bbWA/UmGSV",
      "include_colab_link": true
    },
    "kernelspec": {
      "name": "python3",
      "display_name": "Python 3"
    },
    "language_info": {
      "name": "python"
    }
  },
  "cells": [
    {
      "cell_type": "markdown",
      "metadata": {
        "id": "view-in-github",
        "colab_type": "text"
      },
      "source": [
        "<a href=\"https://colab.research.google.com/github/cruz-marco/pyspark_course/blob/main/pyspark_SparkSQL.ipynb\" target=\"_parent\"><img src=\"https://colab.research.google.com/assets/colab-badge.svg\" alt=\"Open In Colab\"/></a>"
      ]
    },
    {
      "cell_type": "code",
      "execution_count": null,
      "metadata": {
        "cellView": "form",
        "id": "qfHMMFM-LpIZ"
      },
      "outputs": [],
      "source": [
        "#@title\n",
        "!apt-get install openjdk-8-jdk-headless -qq > /dev/null\n",
        "!wget -q https://dlcdn.apache.org/spark/spark-3.2.3/spark-3.2.3-bin-hadoop3.2.tgz\n",
        "!tar xf spark-3.2.3-bin-hadoop3.2.tgz\n",
        "\n",
        "import os\n",
        "os.environ[\"JAVA_HOME\"] = \"/usr/lib/jvm/java-8-openjdk-amd64\" \n",
        "os.environ[\"SPARK_HOME\"] = '/content/spark-3.2.3-bin-hadoop3.2'\n",
        "\n",
        "!pip install -q findspark\n",
        "\n",
        "import findspark\n",
        "findspark.init()\n",
        "findspark.find()\n",
        "\n",
        "from pyspark.sql import SparkSession\n",
        "spark = SparkSession.builder.master(\"local[*]\").getOrCreate()\n",
        "sc = spark.sparkContext"
      ]
    },
    {
      "cell_type": "markdown",
      "source": [
        "# Spark SQL\n",
        "\n",
        "- O Spark permite també utilizar tabelas dentro de banco de dados um ambiente que se assemelha ao de um banco de dados relacional comum (Postgres, MySQL)\n",
        "\n",
        "- As tabelas são exatamente iguais em estrutura e funcionalidades aos bancos de dado SQL. Diferindo dos DataFrames, as tabelas são objetos que persistem depois que a sessão do Spark é finalizada.\n",
        "\n",
        "- Tabelas e DataFrames são totalmente interoperáveis no ambiente Spark, logo, podemos fazer o cast de um tipo de estrutura para outro sem muito problema.\n",
        "\n",
        "- Apesar de sermos completamente livres para fazer consultas e gerenciamento de bancos de dados e tabelas pelo spark, o retorno no framework do PySpark é sempre em um objeto DataFrame, o que não significa que a tabela seja mutável, mas que a saída daquela consulta usa o tipo de dado DataFrame.\n",
        "\n",
        "## 1. Tipos de Tabelas:\n",
        "> **Gerenciadas (Managed)**: Spark gerendia os dados e os metadados deta tabela. Se apagarmos esta tabela, ela desaparece por completo (dados e metadados desaparecem). Ficam armazenadas no Warehouse do Spark.\n",
        "\n",
        "> **Não Gerenciadas (External)**: É uma tabelo onde apenas os metadados são gerenciados pelo Spark e os dados em si estão localizados um um ludar diferente do Spark Warehouse.\n",
        "\n",
        "## 2. Views:\n",
        "As views são apelidos que podemos dar a uma tabela que é criada a partir de uma consulta. Usando joins ou criando novas colunas com os dados, por exemplo. O uso de views facilita o trabalho quando precisamos executar uma consulta mais complexa e que necessita de um aninhamento de selects, por exemplo.\n",
        "### Podem ser de dois tipos:\n",
        "> **Globais**: Visíveis em todas as sessões.\n",
        "\n",
        "> **Sessão**: Visíveis apenas na sessão atual, sendo destruídas quando a mesma é encerrada.\n",
        "\n",
        "\n"
      ],
      "metadata": {
        "id": "n12k3ojLTE2Q"
      }
    },
    {
      "cell_type": "markdown",
      "source": [
        "### Criando o dataframe despachantes para ser usado nos exemplos a seguir."
      ],
      "metadata": {
        "id": "ASkO2z0aWxzy"
      }
    },
    {
      "cell_type": "code",
      "source": [
        "from pyspark.sql.types import *\n",
        "\n",
        "arqschema = \"id INT, nome STRING, status STRING, cidade STRING, vendas INT, data STRING\"\n",
        "\n",
        "despachantes = spark.read.csv(\"/content/drive/MyDrive/Datasets/pyspark_course/despachantes.csv\", \n",
        "                              header=False, schema=arqschema)"
      ],
      "metadata": {
        "id": "Egn-CzhaLz-q"
      },
      "execution_count": null,
      "outputs": []
    },
    {
      "cell_type": "markdown",
      "source": [
        "### Mostrando e criando os bancos de dados."
      ],
      "metadata": {
        "id": "O1VvAYibW62_"
      }
    },
    {
      "cell_type": "code",
      "source": [
        "spark.sql('show databases').show()"
      ],
      "metadata": {
        "id": "ipkFnEN5PwZS",
        "colab": {
          "base_uri": "https://localhost:8080/"
        },
        "outputId": "1843e50e-4589-4e1f-b0ac-471075cc37b6"
      },
      "execution_count": null,
      "outputs": [
        {
          "output_type": "stream",
          "name": "stdout",
          "text": [
            "+---------+\n",
            "|namespace|\n",
            "+---------+\n",
            "|  default|\n",
            "+---------+\n",
            "\n"
          ]
        }
      ]
    },
    {
      "cell_type": "code",
      "source": [
        "spark.sql('create database desp').show() # Criando o banco de dados DESP"
      ],
      "metadata": {
        "id": "XecLutH0QUuI",
        "colab": {
          "base_uri": "https://localhost:8080/"
        },
        "outputId": "31184d08-46b5-4f1e-e71b-05ac3f30dcc1"
      },
      "execution_count": null,
      "outputs": [
        {
          "output_type": "stream",
          "name": "stdout",
          "text": [
            "++\n",
            "||\n",
            "++\n",
            "++\n",
            "\n"
          ]
        }
      ]
    },
    {
      "cell_type": "code",
      "source": [
        "spark.sql('show databases').show()"
      ],
      "metadata": {
        "id": "LB8ayVYxQhtl",
        "colab": {
          "base_uri": "https://localhost:8080/"
        },
        "outputId": "600a59aa-2885-4934-a8c3-fa4676406956"
      },
      "execution_count": null,
      "outputs": [
        {
          "output_type": "stream",
          "name": "stdout",
          "text": [
            "+---------+\n",
            "|namespace|\n",
            "+---------+\n",
            "|  default|\n",
            "|     desp|\n",
            "+---------+\n",
            "\n"
          ]
        }
      ]
    },
    {
      "cell_type": "code",
      "source": [
        "spark.sql('use desp') # Selecionando o banco de dados DESP para ser usado."
      ],
      "metadata": {
        "id": "dO5XEZMZQmQ9",
        "colab": {
          "base_uri": "https://localhost:8080/"
        },
        "outputId": "a4a93099-55f7-4632-e7cd-497e06f6e718"
      },
      "execution_count": null,
      "outputs": [
        {
          "output_type": "execute_result",
          "data": {
            "text/plain": [
              "DataFrame[]"
            ]
          },
          "metadata": {},
          "execution_count": 6
        }
      ]
    },
    {
      "cell_type": "markdown",
      "source": [
        "- Com o banco de dados criado e selecionado, podemos escrever o DataFrame *despachantes* completo como uma tabela dentro do banco de dados DESP com apenas umalinha de código."
      ],
      "metadata": {
        "id": "WQVdYBbnXI6g"
      }
    },
    {
      "cell_type": "code",
      "source": [
        "despachantes.write.saveAsTable(\"Despachantes\") "
      ],
      "metadata": {
        "id": "3b7uMySRQuMG"
      },
      "execution_count": null,
      "outputs": []
    },
    {
      "cell_type": "markdown",
      "source": [
        "### Mostrando a recém criada **TABELA** Despachantes usando um select clássico SQL."
      ],
      "metadata": {
        "id": "Ww6yEnIvXbni"
      }
    },
    {
      "cell_type": "code",
      "source": [
        "spark.sql('select * from Despachantes').show()"
      ],
      "metadata": {
        "id": "kPdTWRx5RTpR",
        "colab": {
          "base_uri": "https://localhost:8080/"
        },
        "outputId": "f0915401-fab9-4e7b-b15d-7762083b6c49"
      },
      "execution_count": null,
      "outputs": [
        {
          "output_type": "stream",
          "name": "stdout",
          "text": [
            "+---+-------------------+------+-------------+------+----------+\n",
            "| id|               nome|status|       cidade|vendas|      data|\n",
            "+---+-------------------+------+-------------+------+----------+\n",
            "|  1|   Carminda Pestana| Ativo|  Santa Maria|    23|2020-08-11|\n",
            "|  2|    Deolinda Vilela| Ativo|Novo Hamburgo|    34|2020-03-05|\n",
            "|  3|   Emídio Dornelles| Ativo| Porto Alegre|    34|2020-02-05|\n",
            "|  4|Felisbela Dornelles| Ativo| Porto Alegre|    36|2020-02-05|\n",
            "|  5|     Graça Ornellas| Ativo| Porto Alegre|    12|2020-02-05|\n",
            "|  6|   Matilde Rebouças| Ativo| Porto Alegre|    22|2019-01-05|\n",
            "|  7|    Noêmia   Orriça| Ativo|  Santa Maria|    45|2019-10-05|\n",
            "|  8|      Roque Vásquez| Ativo| Porto Alegre|    65|2020-03-05|\n",
            "|  9|      Uriel Queiroz| Ativo| Porto Alegre|    54|2018-05-05|\n",
            "| 10|   Viviana Sequeira| Ativo| Porto Alegre|     0|2020-09-05|\n",
            "+---+-------------------+------+-------------+------+----------+\n",
            "\n"
          ]
        }
      ]
    },
    {
      "cell_type": "markdown",
      "source": [
        "### Mostrando as tabelas contidas no banco de dados Desp"
      ],
      "metadata": {
        "id": "KCqALQcMXrId"
      }
    },
    {
      "cell_type": "code",
      "source": [
        "spark.sql('show tables').show()"
      ],
      "metadata": {
        "id": "Gw5GgJUqRcet",
        "colab": {
          "base_uri": "https://localhost:8080/"
        },
        "outputId": "ff173fec-a72d-4180-bf5f-7224ccf7deb8"
      },
      "execution_count": null,
      "outputs": [
        {
          "output_type": "stream",
          "name": "stdout",
          "text": [
            "+---------+------------+-----------+\n",
            "|namespace|   tableName|isTemporary|\n",
            "+---------+------------+-----------+\n",
            "|     desp|despachantes|      false|\n",
            "+---------+------------+-----------+\n",
            "\n"
          ]
        }
      ]
    },
    {
      "cell_type": "markdown",
      "source": [
        "### Inserindo o método \"*.mode()*\" podemos modificar o modo de escrita da tabela. Por exemplo, usando OVERWRITE para sobrescrever ou APPEND para adicionar mais linhas mantendo as que já estão persistidas na tabela.."
      ],
      "metadata": {
        "id": "wwEojlXPXxGx"
      }
    },
    {
      "cell_type": "code",
      "source": [
        "despachantes.write.mode('overwrite').saveAsTable(\"Despachantes\")"
      ],
      "metadata": {
        "id": "E5whO1GARibg"
      },
      "execution_count": null,
      "outputs": []
    },
    {
      "cell_type": "code",
      "source": [
        "despachantes_tb = spark.sql('select * from Despachantes')\n",
        "despachantes_tb.show()"
      ],
      "metadata": {
        "id": "BBW0hRm9R6Zn",
        "colab": {
          "base_uri": "https://localhost:8080/"
        },
        "outputId": "578604b4-87bd-407a-e1e4-17e5d96424de"
      },
      "execution_count": null,
      "outputs": [
        {
          "output_type": "stream",
          "name": "stdout",
          "text": [
            "+---+-------------------+------+-------------+------+----------+\n",
            "| id|               nome|status|       cidade|vendas|      data|\n",
            "+---+-------------------+------+-------------+------+----------+\n",
            "|  1|   Carminda Pestana| Ativo|  Santa Maria|    23|2020-08-11|\n",
            "|  2|    Deolinda Vilela| Ativo|Novo Hamburgo|    34|2020-03-05|\n",
            "|  3|   Emídio Dornelles| Ativo| Porto Alegre|    34|2020-02-05|\n",
            "|  4|Felisbela Dornelles| Ativo| Porto Alegre|    36|2020-02-05|\n",
            "|  5|     Graça Ornellas| Ativo| Porto Alegre|    12|2020-02-05|\n",
            "|  6|   Matilde Rebouças| Ativo| Porto Alegre|    22|2019-01-05|\n",
            "|  7|    Noêmia   Orriça| Ativo|  Santa Maria|    45|2019-10-05|\n",
            "|  8|      Roque Vásquez| Ativo| Porto Alegre|    65|2020-03-05|\n",
            "|  9|      Uriel Queiroz| Ativo| Porto Alegre|    54|2018-05-05|\n",
            "| 10|   Viviana Sequeira| Ativo| Porto Alegre|     0|2020-09-05|\n",
            "+---+-------------------+------+-------------+------+----------+\n",
            "\n"
          ]
        }
      ]
    },
    {
      "cell_type": "markdown",
      "source": [
        "## Tipos de Tabelas"
      ],
      "metadata": {
        "id": "XktCgxjVm8JA"
      }
    },
    {
      "cell_type": "markdown",
      "source": [
        "- Salvando um DataFrame como arquivo parquet"
      ],
      "metadata": {
        "id": "OzR0rtZInDbh"
      }
    },
    {
      "cell_type": "code",
      "source": [
        "despachantes_tb.write.format(\"parquet\").save(\"/content/pyspark_course/dfpqt01\")"
      ],
      "metadata": {
        "id": "7_dJ6sseZyPs"
      },
      "execution_count": null,
      "outputs": []
    },
    {
      "cell_type": "markdown",
      "source": [
        "- Salvando o DataFrame como tabela na pasta descrita no método option() como não gerenciado ou EXTERNAL"
      ],
      "metadata": {
        "id": "n8faLHo0nLAs"
      }
    },
    {
      "cell_type": "code",
      "source": [
        "#spark.sql.legacy.allowNonEmptyLocationInCTAS = True\n",
        "despachantes_tb.write.option('path', '/content/pyspark_course/dfpqt02').saveAsTable('Despachantes_ng')"
      ],
      "metadata": {
        "id": "7cClBGkQcai6"
      },
      "execution_count": null,
      "outputs": []
    },
    {
      "cell_type": "code",
      "source": [
        "spark.sql('select * from Despachantes_ng').show()"
      ],
      "metadata": {
        "id": "_YPAw_zJcxB2",
        "colab": {
          "base_uri": "https://localhost:8080/"
        },
        "outputId": "0a4ac4a4-8493-4204-98cc-e8b7029f3b76"
      },
      "execution_count": null,
      "outputs": [
        {
          "output_type": "stream",
          "name": "stdout",
          "text": [
            "+---+-------------------+------+-------------+------+----------+\n",
            "| id|               nome|status|       cidade|vendas|      data|\n",
            "+---+-------------------+------+-------------+------+----------+\n",
            "|  1|   Carminda Pestana| Ativo|  Santa Maria|    23|2020-08-11|\n",
            "|  2|    Deolinda Vilela| Ativo|Novo Hamburgo|    34|2020-03-05|\n",
            "|  3|   Emídio Dornelles| Ativo| Porto Alegre|    34|2020-02-05|\n",
            "|  4|Felisbela Dornelles| Ativo| Porto Alegre|    36|2020-02-05|\n",
            "|  5|     Graça Ornellas| Ativo| Porto Alegre|    12|2020-02-05|\n",
            "|  6|   Matilde Rebouças| Ativo| Porto Alegre|    22|2019-01-05|\n",
            "|  7|    Noêmia   Orriça| Ativo|  Santa Maria|    45|2019-10-05|\n",
            "|  8|      Roque Vásquez| Ativo| Porto Alegre|    65|2020-03-05|\n",
            "|  9|      Uriel Queiroz| Ativo| Porto Alegre|    54|2018-05-05|\n",
            "| 10|   Viviana Sequeira| Ativo| Porto Alegre|     0|2020-09-05|\n",
            "+---+-------------------+------+-------------+------+----------+\n",
            "\n"
          ]
        }
      ]
    },
    {
      "cell_type": "markdown",
      "source": [
        "> Despachantes é uma tabela gerenciada pois foi estruturada e populada devidamente dentro do banco de dados do Spark, logo, ele gerencia todo o conteúdo de dados e metadados da tabela."
      ],
      "metadata": {
        "id": "SWunrcHvndVw"
      }
    },
    {
      "cell_type": "code",
      "source": [
        "spark.sql('show create table Despachantes').show(truncate=False)"
      ],
      "metadata": {
        "id": "S0pAOhyTdCG2",
        "colab": {
          "base_uri": "https://localhost:8080/"
        },
        "outputId": "3831fdad-3edd-4719-9560-918916ec694b"
      },
      "execution_count": null,
      "outputs": [
        {
          "output_type": "stream",
          "name": "stdout",
          "text": [
            "+---------------------------------------------------------------------------------------------------------------------------------------------------------------+\n",
            "|createtab_stmt                                                                                                                                                 |\n",
            "+---------------------------------------------------------------------------------------------------------------------------------------------------------------+\n",
            "|CREATE TABLE `desp`.`Despachantes` (\\n  `id` INT,\\n  `nome` STRING,\\n  `status` STRING,\\n  `cidade` STRING,\\n  `vendas` INT,\\n  `data` STRING)\\nUSING parquet\\n|\n",
            "+---------------------------------------------------------------------------------------------------------------------------------------------------------------+\n",
            "\n"
          ]
        }
      ]
    },
    {
      "cell_type": "markdown",
      "source": [
        "> Já no caso de Despachantes_ng foi assossiada ao banco de dados DESP, entretanto foi salva num arquivo parquet fora da pasta de gerenciamento automático warehouse do spark (pasta \"spark-warehouse\"), logo, o spark tem controle apenas sobre os metadados da tabela e não sobre seus dados em si. Caso a tabela seja apagada, os dados persistirão no arquito parquet salvo em disco."
      ],
      "metadata": {
        "id": "jS6jZnGunzS6"
      }
    },
    {
      "cell_type": "code",
      "source": [
        "spark.sql('show create table Despachantes_ng').show(truncate=False)"
      ],
      "metadata": {
        "id": "XiW0znJXhgyH",
        "colab": {
          "base_uri": "https://localhost:8080/"
        },
        "outputId": "fbca476d-2e17-4591-9559-ca857746af60"
      },
      "execution_count": null,
      "outputs": [
        {
          "output_type": "stream",
          "name": "stdout",
          "text": [
            "+-------------------------------------------------------------------------------------------------------------------------------------------------------------------------------------------------------------------+\n",
            "|createtab_stmt                                                                                                                                                                                                     |\n",
            "+-------------------------------------------------------------------------------------------------------------------------------------------------------------------------------------------------------------------+\n",
            "|CREATE TABLE `desp`.`Despachantes_ng` (\\n  `id` INT,\\n  `nome` STRING,\\n  `status` STRING,\\n  `cidade` STRING,\\n  `vendas` INT,\\n  `data` STRING)\\nUSING parquet\\nLOCATION 'file:/content/pyspark_course/dfpqt02'\\n|\n",
            "+-------------------------------------------------------------------------------------------------------------------------------------------------------------------------------------------------------------------+\n",
            "\n"
          ]
        }
      ]
    },
    {
      "cell_type": "markdown",
      "source": [
        "> Comando que explicita as tabelas e seus respectivos tipos."
      ],
      "metadata": {
        "id": "qzfQ_WnUobkC"
      }
    },
    {
      "cell_type": "code",
      "source": [
        "spark.catalog.listTables()"
      ],
      "metadata": {
        "id": "kzM1frz1h7i7",
        "colab": {
          "base_uri": "https://localhost:8080/"
        },
        "outputId": "f6bd0465-d4bf-4740-d0b0-4dbb931ad0be"
      },
      "execution_count": null,
      "outputs": [
        {
          "output_type": "execute_result",
          "data": {
            "text/plain": [
              "[Table(name='despachantes', database='desp', description=None, tableType='MANAGED', isTemporary=False),\n",
              " Table(name='despachantes_ng', database='desp', description=None, tableType='EXTERNAL', isTemporary=False)]"
            ]
          },
          "metadata": {},
          "execution_count": 17
        }
      ]
    },
    {
      "cell_type": "markdown",
      "source": [
        "### Criando Views temporárias e Globais\n",
        "\n",
        "- As Views podem ser criadas a partir da API dos DataFrames ou usando os comandos SQL diretamente como um parâmetro do método *spark.sql()*"
      ],
      "metadata": {
        "id": "s7eG4H6sCyfi"
      }
    },
    {
      "cell_type": "markdown",
      "source": [
        "> Criando uma View temporária"
      ],
      "metadata": {
        "id": "rHjbTmlsC3Da"
      }
    },
    {
      "cell_type": "code",
      "source": [
        "despachantes.createOrReplaceTempView('Despachantes_V1') \n",
        "\n",
        "spark.sql('select * from Despachantes_v1').show()"
      ],
      "metadata": {
        "id": "MHpPQtcfl1y6",
        "colab": {
          "base_uri": "https://localhost:8080/"
        },
        "outputId": "9cd7ca18-7687-4a1f-ba47-50069751825c"
      },
      "execution_count": 18,
      "outputs": [
        {
          "output_type": "stream",
          "name": "stdout",
          "text": [
            "+---+-------------------+------+-------------+------+----------+\n",
            "| id|               nome|status|       cidade|vendas|      data|\n",
            "+---+-------------------+------+-------------+------+----------+\n",
            "|  1|   Carminda Pestana| Ativo|  Santa Maria|    23|2020-08-11|\n",
            "|  2|    Deolinda Vilela| Ativo|Novo Hamburgo|    34|2020-03-05|\n",
            "|  3|   Emídio Dornelles| Ativo| Porto Alegre|    34|2020-02-05|\n",
            "|  4|Felisbela Dornelles| Ativo| Porto Alegre|    36|2020-02-05|\n",
            "|  5|     Graça Ornellas| Ativo| Porto Alegre|    12|2020-02-05|\n",
            "|  6|   Matilde Rebouças| Ativo| Porto Alegre|    22|2019-01-05|\n",
            "|  7|    Noêmia   Orriça| Ativo|  Santa Maria|    45|2019-10-05|\n",
            "|  8|      Roque Vásquez| Ativo| Porto Alegre|    65|2020-03-05|\n",
            "|  9|      Uriel Queiroz| Ativo| Porto Alegre|    54|2018-05-05|\n",
            "| 10|   Viviana Sequeira| Ativo| Porto Alegre|     0|2020-09-05|\n",
            "+---+-------------------+------+-------------+------+----------+\n",
            "\n"
          ]
        }
      ]
    },
    {
      "cell_type": "markdown",
      "source": [
        "> Criando uma View Global"
      ],
      "metadata": {
        "id": "JOcZiF2wDUmO"
      }
    },
    {
      "cell_type": "code",
      "source": [
        "despachantes.createOrReplaceGlobalTempView('desp_v2')\n",
        "\n",
        "spark.sql('select * from global_temp.desp_v2').show()"
      ],
      "metadata": {
        "colab": {
          "base_uri": "https://localhost:8080/"
        },
        "id": "j4jCOyJ1-C6P",
        "outputId": "5028eaa6-ce37-4b3f-97ef-963c0162aca7"
      },
      "execution_count": 27,
      "outputs": [
        {
          "output_type": "stream",
          "name": "stdout",
          "text": [
            "+---+-------------------+------+-------------+------+----------+\n",
            "| id|               nome|status|       cidade|vendas|      data|\n",
            "+---+-------------------+------+-------------+------+----------+\n",
            "|  1|   Carminda Pestana| Ativo|  Santa Maria|    23|2020-08-11|\n",
            "|  2|    Deolinda Vilela| Ativo|Novo Hamburgo|    34|2020-03-05|\n",
            "|  3|   Emídio Dornelles| Ativo| Porto Alegre|    34|2020-02-05|\n",
            "|  4|Felisbela Dornelles| Ativo| Porto Alegre|    36|2020-02-05|\n",
            "|  5|     Graça Ornellas| Ativo| Porto Alegre|    12|2020-02-05|\n",
            "|  6|   Matilde Rebouças| Ativo| Porto Alegre|    22|2019-01-05|\n",
            "|  7|    Noêmia   Orriça| Ativo|  Santa Maria|    45|2019-10-05|\n",
            "|  8|      Roque Vásquez| Ativo| Porto Alegre|    65|2020-03-05|\n",
            "|  9|      Uriel Queiroz| Ativo| Porto Alegre|    54|2018-05-05|\n",
            "| 10|   Viviana Sequeira| Ativo| Porto Alegre|     0|2020-09-05|\n",
            "+---+-------------------+------+-------------+------+----------+\n",
            "\n"
          ]
        }
      ]
    },
    {
      "cell_type": "markdown",
      "source": [
        "> Criando uma View temporária usando diretamente o comando SQL"
      ],
      "metadata": {
        "id": "aMrGAueyDYvm"
      }
    },
    {
      "cell_type": "code",
      "source": [
        "spark.sql('CREATE OR REPLACE TEMP VIEW DESP_VIEW AS select * from despachantes')\n",
        "\n",
        "spark.sql('select * from desp_view').show()"
      ],
      "metadata": {
        "colab": {
          "base_uri": "https://localhost:8080/"
        },
        "id": "k_HfdKME-hvV",
        "outputId": "94aed58e-6662-4204-9b60-2827012d16d4"
      },
      "execution_count": 32,
      "outputs": [
        {
          "output_type": "stream",
          "name": "stdout",
          "text": [
            "+---+-------------------+------+-------------+------+----------+\n",
            "| id|               nome|status|       cidade|vendas|      data|\n",
            "+---+-------------------+------+-------------+------+----------+\n",
            "|  1|   Carminda Pestana| Ativo|  Santa Maria|    23|2020-08-11|\n",
            "|  2|    Deolinda Vilela| Ativo|Novo Hamburgo|    34|2020-03-05|\n",
            "|  3|   Emídio Dornelles| Ativo| Porto Alegre|    34|2020-02-05|\n",
            "|  4|Felisbela Dornelles| Ativo| Porto Alegre|    36|2020-02-05|\n",
            "|  5|     Graça Ornellas| Ativo| Porto Alegre|    12|2020-02-05|\n",
            "|  6|   Matilde Rebouças| Ativo| Porto Alegre|    22|2019-01-05|\n",
            "|  7|    Noêmia   Orriça| Ativo|  Santa Maria|    45|2019-10-05|\n",
            "|  8|      Roque Vásquez| Ativo| Porto Alegre|    65|2020-03-05|\n",
            "|  9|      Uriel Queiroz| Ativo| Porto Alegre|    54|2018-05-05|\n",
            "| 10|   Viviana Sequeira| Ativo| Porto Alegre|     0|2020-09-05|\n",
            "+---+-------------------+------+-------------+------+----------+\n",
            "\n"
          ]
        }
      ]
    },
    {
      "cell_type": "markdown",
      "source": [
        ">  Criando uma View global usando diretamente o comando SQL"
      ],
      "metadata": {
        "id": "wWahkQE-DgII"
      }
    },
    {
      "cell_type": "code",
      "source": [
        "spark.sql('CREATE OR REPLACE GLOBAL TEMP VIEW DESP_VIEW2 AS select * from despachantes')\n",
        "\n",
        "spark.sql('select * from global_temp.desp_view2').show()"
      ],
      "metadata": {
        "colab": {
          "base_uri": "https://localhost:8080/"
        },
        "id": "A4_xhLwl_uYJ",
        "outputId": "7468aef5-465b-43ef-d849-3ec5b9f8697d"
      },
      "execution_count": 31,
      "outputs": [
        {
          "output_type": "stream",
          "name": "stdout",
          "text": [
            "+---+-------------------+------+-------------+------+----------+\n",
            "| id|               nome|status|       cidade|vendas|      data|\n",
            "+---+-------------------+------+-------------+------+----------+\n",
            "|  1|   Carminda Pestana| Ativo|  Santa Maria|    23|2020-08-11|\n",
            "|  2|    Deolinda Vilela| Ativo|Novo Hamburgo|    34|2020-03-05|\n",
            "|  3|   Emídio Dornelles| Ativo| Porto Alegre|    34|2020-02-05|\n",
            "|  4|Felisbela Dornelles| Ativo| Porto Alegre|    36|2020-02-05|\n",
            "|  5|     Graça Ornellas| Ativo| Porto Alegre|    12|2020-02-05|\n",
            "|  6|   Matilde Rebouças| Ativo| Porto Alegre|    22|2019-01-05|\n",
            "|  7|    Noêmia   Orriça| Ativo|  Santa Maria|    45|2019-10-05|\n",
            "|  8|      Roque Vásquez| Ativo| Porto Alegre|    65|2020-03-05|\n",
            "|  9|      Uriel Queiroz| Ativo| Porto Alegre|    54|2018-05-05|\n",
            "| 10|   Viviana Sequeira| Ativo| Porto Alegre|     0|2020-09-05|\n",
            "+---+-------------------+------+-------------+------+----------+\n",
            "\n"
          ]
        }
      ]
    },
    {
      "cell_type": "markdown",
      "source": [
        "### Criando tabelas usando joins com SQL e API DataFrame"
      ],
      "metadata": {
        "id": "8LlTm9d2SjbO"
      }
    },
    {
      "cell_type": "markdown",
      "source": [
        "> Criando um DataFrame de reclamações."
      ],
      "metadata": {
        "id": "EgF7nzpXSpPO"
      }
    },
    {
      "cell_type": "code",
      "source": [
        "recschema = 'idrec INT, data TIMESTAMP, iddesp INT'\n",
        "reclamacoes = spark.read.load(('/content/drive/MyDrive/Datasets/pyspark_course/r'\n",
        "              'eclamacoes.csv'), format='csv', schema=recschema)"
      ],
      "metadata": {
        "id": "I4R69-6LAFQk"
      },
      "execution_count": 33,
      "outputs": []
    },
    {
      "cell_type": "code",
      "source": [
        "reclamacoes.show()"
      ],
      "metadata": {
        "colab": {
          "base_uri": "https://localhost:8080/"
        },
        "id": "spNbd4WMLP80",
        "outputId": "cea45daa-bf8d-4076-a911-0ca334fccd4a"
      },
      "execution_count": 34,
      "outputs": [
        {
          "output_type": "stream",
          "name": "stdout",
          "text": [
            "+-----+-------------------+------+\n",
            "|idrec|               data|iddesp|\n",
            "+-----+-------------------+------+\n",
            "|    1|2020-09-12 00:00:00|     2|\n",
            "|    2|2020-09-11 00:00:00|     2|\n",
            "|    3|2020-10-05 00:00:00|     4|\n",
            "|    4|2020-10-02 00:00:00|     5|\n",
            "|    5|2020-12-06 00:00:00|     5|\n",
            "|    6|2020-01-09 00:00:00|     5|\n",
            "|    7|2020-01-05 00:00:00|     9|\n",
            "+-----+-------------------+------+\n",
            "\n"
          ]
        }
      ]
    },
    {
      "cell_type": "markdown",
      "source": [
        "> Salvando este DataFrame como uma tabela no banco de dados DESP"
      ],
      "metadata": {
        "id": "w5ML64sOSuwS"
      }
    },
    {
      "cell_type": "code",
      "source": [
        "reclamacoes.write.saveAsTable('reclamacoes')"
      ],
      "metadata": {
        "id": "9Fv-29jgLVMO"
      },
      "execution_count": 35,
      "outputs": []
    },
    {
      "cell_type": "code",
      "source": [
        "spark.sql('show tables').show()"
      ],
      "metadata": {
        "colab": {
          "base_uri": "https://localhost:8080/"
        },
        "id": "KP2yxi6jLs_l",
        "outputId": "5d3740a4-5dac-41fa-9367-20d7ad7b1a09"
      },
      "execution_count": 36,
      "outputs": [
        {
          "output_type": "stream",
          "name": "stdout",
          "text": [
            "+---------+---------------+-----------+\n",
            "|namespace|      tableName|isTemporary|\n",
            "+---------+---------------+-----------+\n",
            "|     desp|   despachantes|      false|\n",
            "|     desp|despachantes_ng|      false|\n",
            "|     desp|    reclamacoes|      false|\n",
            "|         |      desp_view|       true|\n",
            "|         |despachantes_v1|       true|\n",
            "+---------+---------------+-----------+\n",
            "\n"
          ]
        }
      ]
    },
    {
      "cell_type": "markdown",
      "source": [
        "> Criando um Left Join em SQL"
      ],
      "metadata": {
        "id": "xKO3cWG-S6xQ"
      }
    },
    {
      "cell_type": "code",
      "source": [
        "spark.sql(('select despachantes.nome, reclamacoes.data, reclamacoes.idrec from'\n",
        "' despachantes left join reclamacoes on despachantes.id = reclamacoes.iddesp'\n",
        "' order by reclamacoes.idrec desc'))\\\n",
        ".show()"
      ],
      "metadata": {
        "colab": {
          "base_uri": "https://localhost:8080/"
        },
        "id": "xSCudElwL1We",
        "outputId": "70613c9c-a994-4162-fe28-235d7f7fba2d"
      },
      "execution_count": 44,
      "outputs": [
        {
          "output_type": "stream",
          "name": "stdout",
          "text": [
            "+-------------------+-------------------+-----+\n",
            "|               nome|               data|idrec|\n",
            "+-------------------+-------------------+-----+\n",
            "|      Uriel Queiroz|2020-01-05 00:00:00|    7|\n",
            "|     Graça Ornellas|2020-01-09 00:00:00|    6|\n",
            "|     Graça Ornellas|2020-12-06 00:00:00|    5|\n",
            "|     Graça Ornellas|2020-10-02 00:00:00|    4|\n",
            "|Felisbela Dornelles|2020-10-05 00:00:00|    3|\n",
            "|    Deolinda Vilela|2020-09-11 00:00:00|    2|\n",
            "|    Deolinda Vilela|2020-09-12 00:00:00|    1|\n",
            "|   Carminda Pestana|               null| null|\n",
            "|   Emídio Dornelles|               null| null|\n",
            "|      Roque Vásquez|               null| null|\n",
            "|   Matilde Rebouças|               null| null|\n",
            "|   Viviana Sequeira|               null| null|\n",
            "|    Noêmia   Orriça|               null| null|\n",
            "+-------------------+-------------------+-----+\n",
            "\n"
          ]
        }
      ]
    },
    {
      "cell_type": "markdown",
      "source": [
        "> Criando um Inner Join no SQL e analizando qual despachante tem mais reclamações, usando o Group By."
      ],
      "metadata": {
        "id": "TentCVZtS-Dg"
      }
    },
    {
      "cell_type": "code",
      "source": [
        "spark.sql(('select despachantes.nome,  count(reclamacoes.idrec) as n_recs from'\n",
        "' despachantes inner join reclamacoes on despachantes.id = reclamacoes.iddesp'\n",
        "' group by despachantes.nome order by n_recs desc'))\\\n",
        ".show()"
      ],
      "metadata": {
        "colab": {
          "base_uri": "https://localhost:8080/"
        },
        "id": "QqZHeFrOMfVm",
        "outputId": "06eadd7c-c52c-41ed-d859-0e73d4c66a1a"
      },
      "execution_count": 47,
      "outputs": [
        {
          "output_type": "stream",
          "name": "stdout",
          "text": [
            "+-------------------+------+\n",
            "|               nome|n_recs|\n",
            "+-------------------+------+\n",
            "|     Graça Ornellas|     3|\n",
            "|    Deolinda Vilela|     2|\n",
            "|Felisbela Dornelles|     1|\n",
            "|      Uriel Queiroz|     1|\n",
            "+-------------------+------+\n",
            "\n"
          ]
        }
      ]
    },
    {
      "cell_type": "markdown",
      "source": [
        "#### Fazendo o mesmo processo usando a API DataFrame\n",
        "\n",
        "Importando o módulo functions."
      ],
      "metadata": {
        "id": "PMWUjwnWTJGy"
      }
    },
    {
      "cell_type": "code",
      "source": [
        "from pyspark.sql import functions as f"
      ],
      "metadata": {
        "id": "P6PMg-thQzN6"
      },
      "execution_count": 50,
      "outputs": []
    },
    {
      "cell_type": "markdown",
      "source": [
        "> Fazendo um Inner Join com o DataFrame despachantes"
      ],
      "metadata": {
        "id": "ZrfVrr00TSPC"
      }
    },
    {
      "cell_type": "code",
      "source": [
        "reclamacoes.join(despachantes, reclamacoes.iddesp == despachantes.id, 'inner')\\\n",
        ".select('idrec', reclamacoes.data, despachantes.nome)\\\n",
        ".show()"
      ],
      "metadata": {
        "colab": {
          "base_uri": "https://localhost:8080/"
        },
        "id": "xEUdCNANOmDD",
        "outputId": "74d8cb39-447e-4fd7-baf8-e4a73f3e4f0b"
      },
      "execution_count": 49,
      "outputs": [
        {
          "output_type": "stream",
          "name": "stdout",
          "text": [
            "+-----+-------------------+-------------------+\n",
            "|idrec|               data|               nome|\n",
            "+-----+-------------------+-------------------+\n",
            "|    2|2020-09-11 00:00:00|    Deolinda Vilela|\n",
            "|    1|2020-09-12 00:00:00|    Deolinda Vilela|\n",
            "|    3|2020-10-05 00:00:00|Felisbela Dornelles|\n",
            "|    6|2020-01-09 00:00:00|     Graça Ornellas|\n",
            "|    5|2020-12-06 00:00:00|     Graça Ornellas|\n",
            "|    4|2020-10-02 00:00:00|     Graça Ornellas|\n",
            "|    7|2020-01-05 00:00:00|      Uriel Queiroz|\n",
            "+-----+-------------------+-------------------+\n",
            "\n"
          ]
        }
      ]
    },
    {
      "cell_type": "markdown",
      "source": [
        "> Agrupando por nome para descobrir qual despachante tem mais reclamações"
      ],
      "metadata": {
        "id": "li-lmthnTZz_"
      }
    },
    {
      "cell_type": "code",
      "source": [
        "reclamacoes.join(despachantes, reclamacoes.iddesp == despachantes.id, 'inner')\\\n",
        ".select('idrec', reclamacoes.data, despachantes.nome)\\\n",
        ".groupBy('nome').agg(f.count('idrec').alias('N rec'))\\\n",
        ".orderBy(f.col('N rec').desc())\\\n",
        ".show()"
      ],
      "metadata": {
        "colab": {
          "base_uri": "https://localhost:8080/"
        },
        "id": "jKLmBPxLQDlF",
        "outputId": "ac75c453-c395-422b-b76c-7a107a3365a5"
      },
      "execution_count": 54,
      "outputs": [
        {
          "output_type": "stream",
          "name": "stdout",
          "text": [
            "+-------------------+-----+\n",
            "|               nome|N rec|\n",
            "+-------------------+-----+\n",
            "|     Graça Ornellas|    3|\n",
            "|    Deolinda Vilela|    2|\n",
            "|Felisbela Dornelles|    1|\n",
            "|      Uriel Queiroz|    1|\n",
            "+-------------------+-----+\n",
            "\n"
          ]
        }
      ]
    },
    {
      "cell_type": "code",
      "source": [],
      "metadata": {
        "id": "6AAFFucORGES"
      },
      "execution_count": null,
      "outputs": []
    }
  ]
}