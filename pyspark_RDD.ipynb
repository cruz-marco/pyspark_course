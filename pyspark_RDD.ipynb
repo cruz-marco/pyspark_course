{
  "nbformat": 4,
  "nbformat_minor": 0,
  "metadata": {
    "colab": {
      "provenance": [],
      "collapsed_sections": [
        "E0Tk_uWXB7hb"
      ],
      "authorship_tag": "ABX9TyNKD73J0l4pIZUuc3th+p5Q",
      "include_colab_link": true
    },
    "kernelspec": {
      "name": "python3",
      "display_name": "Python 3"
    },
    "language_info": {
      "name": "python"
    }
  },
  "cells": [
    {
      "cell_type": "markdown",
      "metadata": {
        "id": "view-in-github",
        "colab_type": "text"
      },
      "source": [
        "<a href=\"https://colab.research.google.com/github/cruz-marco/pyspark_course/blob/main/pyspark_RDD.ipynb\" target=\"_parent\"><img src=\"https://colab.research.google.com/assets/colab-badge.svg\" alt=\"Open In Colab\"/></a>"
      ]
    },
    {
      "cell_type": "markdown",
      "source": [
        "# Instalação e configuração do Spark"
      ],
      "metadata": {
        "id": "E0Tk_uWXB7hb"
      }
    },
    {
      "cell_type": "code",
      "execution_count": null,
      "metadata": {
        "id": "5UZa7qn49zvC"
      },
      "outputs": [],
      "source": [
        "# Instalando a OpenJDK\n",
        "!apt-get install openjdk-8-jdk-headless -qq > /dev/null\n",
        "\n",
        "# Baixando o Spark\n",
        "!wget -q https://dlcdn.apache.org/spark/spark-3.2.3/spark-3.2.3-bin-hadoop3.2.tgz\n",
        "\n",
        "#Descompactando o Spark\n",
        "!tar xf spark-3.2.3-bin-hadoop3.2.tgz"
      ]
    },
    {
      "cell_type": "code",
      "source": [
        "# Ajustando as variáveis universais\n",
        "import os\n",
        "os.environ[\"JAVA_HOME\"] = \"/usr/lib/jvm/java-8-openjdk-amd64\" #PATH Java\n",
        "os.environ[\"SPARK_HOME\"] = '/content/spark-3.2.3-bin-hadoop3.2' #PATH Spark\n",
        "\n",
        "# Instalando o FindSpark\n",
        "!pip install -q findspark\n",
        "# Importando\n",
        "import findspark\n",
        "# Iniciando findspark\n",
        "findspark.init()\n",
        "# Checando o local onde está o Spark\n",
        "findspark.find()"
      ],
      "metadata": {
        "colab": {
          "base_uri": "https://localhost:8080/",
          "height": 35
        },
        "id": "lZVHypPa-NGT",
        "outputId": "95ddbcf9-001a-4f52-bbce-e4683881c103"
      },
      "execution_count": null,
      "outputs": [
        {
          "output_type": "execute_result",
          "data": {
            "text/plain": [
              "'/content/spark-3.2.3-bin-hadoop3.2'"
            ],
            "application/vnd.google.colaboratory.intrinsic+json": {
              "type": "string"
            }
          },
          "metadata": {},
          "execution_count": 2
        }
      ]
    },
    {
      "cell_type": "code",
      "source": [
        "# Import SparkSession\n",
        "from pyspark.sql import SparkSession\n",
        "# Create a Spark Session\n",
        "spark = SparkSession.builder.master(\"local[*]\").getOrCreate()\n",
        "# Check Spark Session Information\n",
        "\n",
        "sc = spark.sparkContext"
      ],
      "metadata": {
        "id": "ZhWuw6ygAMPQ"
      },
      "execution_count": null,
      "outputs": []
    },
    {
      "cell_type": "markdown",
      "source": [
        "# Resilient Distributed Dataset (RDD) \n",
        "\n",
        "> [Documentação](https://sparkbyexamples.com/pyspark/pyspark-parallelize-create-rdd/)\n",
        "\n",
        "- Estrutura de dados mais básica do Spark, é distribuído e verboso, os cálculos e transformações necessitam de mais linhas de código.\n",
        "\n",
        "- Todas as estruturas de dados do Spark são imutáveis, portanto as transformações só são aplicadas quando executamos alguma ação, substituíndo o conjunto de dados antigo pelo novo, caso desejemos. "
      ],
      "metadata": {
        "id": "1etI0sGQwJj6"
      }
    },
    {
      "cell_type": "code",
      "source": [
        "numeros = sc.parallelize(list(range(1,11)))\n",
        "numeros2 = sc.parallelize(list(range(6,11)))"
      ],
      "metadata": {
        "id": "1Qkzv2lRsuuE"
      },
      "execution_count": null,
      "outputs": []
    },
    {
      "cell_type": "code",
      "source": [
        "#Exemplos de funçõe do RDD (Resilient Distributed Dataset)\n",
        "display(\n",
        "    numeros.take(5), #pega os primeiros 5\n",
        "    numeros.top(3), #pega os 3 maiores\n",
        "    numeros.count(), #conta a quantidade de elementos\n",
        "    numeros.mean(), #retorna a média\n",
        "    numeros.sum(), #retorna a soma dos elementos\n",
        "    numeros.max(), #retorna o maior valor\n",
        "    numeros.min(), #retorna o menor valor\n",
        "    numeros.stdev() #retorna o desvio padrão\n",
        ")"
      ],
      "metadata": {
        "colab": {
          "base_uri": "https://localhost:8080/",
          "height": 156
        },
        "id": "A-W12sG5vOu_",
        "outputId": "d38a2a85-0826-486c-d8bc-cfb25fee0d1b"
      },
      "execution_count": null,
      "outputs": [
        {
          "output_type": "display_data",
          "data": {
            "text/plain": [
              "[1, 2, 3, 4, 5]"
            ]
          },
          "metadata": {}
        },
        {
          "output_type": "display_data",
          "data": {
            "text/plain": [
              "[10, 9, 8]"
            ]
          },
          "metadata": {}
        },
        {
          "output_type": "display_data",
          "data": {
            "text/plain": [
              "10"
            ]
          },
          "metadata": {}
        },
        {
          "output_type": "display_data",
          "data": {
            "text/plain": [
              "5.5"
            ]
          },
          "metadata": {}
        },
        {
          "output_type": "display_data",
          "data": {
            "text/plain": [
              "55"
            ]
          },
          "metadata": {}
        },
        {
          "output_type": "display_data",
          "data": {
            "text/plain": [
              "10"
            ]
          },
          "metadata": {}
        },
        {
          "output_type": "display_data",
          "data": {
            "text/plain": [
              "1"
            ]
          },
          "metadata": {}
        },
        {
          "output_type": "display_data",
          "data": {
            "text/plain": [
              "2.8722813232690143"
            ]
          },
          "metadata": {}
        }
      ]
    },
    {
      "cell_type": "markdown",
      "source": [
        "Criando um filtro usando um lambda"
      ],
      "metadata": {
        "id": "jsg3tsdT3pLb"
      }
    },
    {
      "cell_type": "code",
      "source": [
        "filtro = numeros.filter(lambda x: x%2 == 0)"
      ],
      "metadata": {
        "id": "X7OoIurMv6V4"
      },
      "execution_count": null,
      "outputs": []
    },
    {
      "cell_type": "code",
      "source": [
        "filtro.collect()"
      ],
      "metadata": {
        "colab": {
          "base_uri": "https://localhost:8080/"
        },
        "id": "qHPsTrmFynjs",
        "outputId": "618851a7-3f12-4f83-cdd7-979b21cc1d7d"
      },
      "execution_count": null,
      "outputs": [
        {
          "output_type": "execute_result",
          "data": {
            "text/plain": [
              "[2, 4, 6, 8, 10]"
            ]
          },
          "metadata": {},
          "execution_count": 19
        }
      ]
    },
    {
      "cell_type": "markdown",
      "source": [
        "Criando uma amostra."
      ],
      "metadata": {
        "id": "Y7yh_kYI3tgy"
      }
    },
    {
      "cell_type": "code",
      "source": [
        "amostra = numeros.sample(False, 0.4)\n",
        "amostra.collect()"
      ],
      "metadata": {
        "colab": {
          "base_uri": "https://localhost:8080/"
        },
        "id": "4MeQo61cyvCW",
        "outputId": "d0478f72-54e0-407e-a752-032820d67a60"
      },
      "execution_count": null,
      "outputs": [
        {
          "output_type": "execute_result",
          "data": {
            "text/plain": [
              "[2, 4, 5, 7, 8]"
            ]
          },
          "metadata": {},
          "execution_count": 38
        }
      ]
    },
    {
      "cell_type": "markdown",
      "source": [
        "Aplicando uma transformação no RDD usando o MAP, semelhante ao pandas"
      ],
      "metadata": {
        "id": "BQSctLVp4Pev"
      }
    },
    {
      "cell_type": "code",
      "source": [
        "mapa = numeros.map(lambda x: x**2)\n",
        "mapa.collect()"
      ],
      "metadata": {
        "colab": {
          "base_uri": "https://localhost:8080/"
        },
        "id": "qf5dU_59zgmE",
        "outputId": "ba98126a-7148-445d-f826-976ca46be4ea"
      },
      "execution_count": null,
      "outputs": [
        {
          "output_type": "execute_result",
          "data": {
            "text/plain": [
              "[1, 4, 9, 16, 25, 36, 49, 64, 81, 100]"
            ]
          },
          "metadata": {},
          "execution_count": 40
        }
      ]
    },
    {
      "cell_type": "markdown",
      "source": [
        "Unindo os dois RDD's"
      ],
      "metadata": {
        "id": "HDoNAkMu4Ylj"
      }
    },
    {
      "cell_type": "code",
      "source": [
        "uniao = numeros.union(numeros2)\n",
        "uniao.collect()"
      ],
      "metadata": {
        "colab": {
          "base_uri": "https://localhost:8080/"
        },
        "id": "Tnb7vUDCzxBQ",
        "outputId": "239e34e3-3b83-46ea-b634-e0135c1a6ca6"
      },
      "execution_count": null,
      "outputs": [
        {
          "output_type": "execute_result",
          "data": {
            "text/plain": [
              "[1, 2, 3, 4, 5, 6, 7, 8, 9, 10, 6, 7, 8, 9, 10]"
            ]
          },
          "metadata": {},
          "execution_count": 45
        }
      ]
    },
    {
      "cell_type": "markdown",
      "source": [
        "Verificando a intersecção dos RDD's"
      ],
      "metadata": {
        "id": "5ZnIzdKg4bv6"
      }
    },
    {
      "cell_type": "code",
      "source": [
        "intersect = numeros.intersection(numeros2)\n",
        "intersect.collect()"
      ],
      "metadata": {
        "colab": {
          "base_uri": "https://localhost:8080/"
        },
        "id": "UEepiVBl1B3g",
        "outputId": "9c5b14b1-f5fb-49f9-e539-aa408f5987e4"
      },
      "execution_count": null,
      "outputs": [
        {
          "output_type": "execute_result",
          "data": {
            "text/plain": [
              "[8, 9, 6, 10, 7]"
            ]
          },
          "metadata": {},
          "execution_count": 46
        }
      ]
    },
    {
      "cell_type": "markdown",
      "source": [
        "Retorna a diferença dos RDD's (numeros1 - numeros2)"
      ],
      "metadata": {
        "id": "W3lbbuwX4mDJ"
      }
    },
    {
      "cell_type": "code",
      "source": [
        "subtract = numeros.subtract(numeros2)\n",
        "subtract.collect()"
      ],
      "metadata": {
        "colab": {
          "base_uri": "https://localhost:8080/"
        },
        "id": "BtjNApOD1HM9",
        "outputId": "b44ad968-35e7-41c9-e308-1a71480bdc46"
      },
      "execution_count": null,
      "outputs": [
        {
          "output_type": "execute_result",
          "data": {
            "text/plain": [
              "[4, 1, 5, 2, 3]"
            ]
          },
          "metadata": {},
          "execution_count": 47
        }
      ]
    },
    {
      "cell_type": "markdown",
      "source": [
        "Retorna o produto cartesiano dos dois conjuntos"
      ],
      "metadata": {
        "id": "-vYHAtIX45VW"
      }
    },
    {
      "cell_type": "code",
      "source": [
        "prodCartesian = numeros.cartesian(numeros2)\n",
        "prodCartesian.collect()"
      ],
      "metadata": {
        "colab": {
          "base_uri": "https://localhost:8080/"
        },
        "id": "yk4jRklc1Pfi",
        "outputId": "07905315-dbaf-48c1-9305-5982929c502a"
      },
      "execution_count": null,
      "outputs": [
        {
          "output_type": "execute_result",
          "data": {
            "text/plain": [
              "[(1, 6),\n",
              " (1, 7),\n",
              " (2, 6),\n",
              " (2, 7),\n",
              " (3, 6),\n",
              " (3, 7),\n",
              " (4, 6),\n",
              " (4, 7),\n",
              " (5, 6),\n",
              " (5, 7),\n",
              " (1, 8),\n",
              " (1, 9),\n",
              " (2, 8),\n",
              " (2, 9),\n",
              " (3, 8),\n",
              " (3, 9),\n",
              " (4, 8),\n",
              " (4, 9),\n",
              " (5, 8),\n",
              " (5, 9),\n",
              " (1, 10),\n",
              " (2, 10),\n",
              " (3, 10),\n",
              " (4, 10),\n",
              " (5, 10),\n",
              " (6, 6),\n",
              " (6, 7),\n",
              " (7, 6),\n",
              " (7, 7),\n",
              " (8, 6),\n",
              " (8, 7),\n",
              " (9, 6),\n",
              " (9, 7),\n",
              " (10, 6),\n",
              " (10, 7),\n",
              " (6, 8),\n",
              " (6, 9),\n",
              " (7, 8),\n",
              " (7, 9),\n",
              " (8, 8),\n",
              " (8, 9),\n",
              " (9, 8),\n",
              " (9, 9),\n",
              " (10, 8),\n",
              " (10, 9),\n",
              " (6, 10),\n",
              " (7, 10),\n",
              " (8, 10),\n",
              " (9, 10),\n",
              " (10, 10)]"
            ]
          },
          "metadata": {},
          "execution_count": 48
        }
      ]
    },
    {
      "cell_type": "markdown",
      "source": [
        "Retorna o número de ocorrências de cada dado no RDD na forma de um dicionário."
      ],
      "metadata": {
        "id": "L96lJB2f49_1"
      }
    },
    {
      "cell_type": "code",
      "source": [
        "prodCartesian.countByValue()"
      ],
      "metadata": {
        "colab": {
          "base_uri": "https://localhost:8080/"
        },
        "id": "TTI4JemN1e-1",
        "outputId": "df0ccadd-5efb-4ed7-a463-6edf101f0ac7"
      },
      "execution_count": null,
      "outputs": [
        {
          "output_type": "execute_result",
          "data": {
            "text/plain": [
              "defaultdict(int,\n",
              "            {(1, 6): 1,\n",
              "             (1, 7): 1,\n",
              "             (2, 6): 1,\n",
              "             (2, 7): 1,\n",
              "             (3, 6): 1,\n",
              "             (3, 7): 1,\n",
              "             (4, 6): 1,\n",
              "             (4, 7): 1,\n",
              "             (5, 6): 1,\n",
              "             (5, 7): 1,\n",
              "             (1, 8): 1,\n",
              "             (1, 9): 1,\n",
              "             (2, 8): 1,\n",
              "             (2, 9): 1,\n",
              "             (3, 8): 1,\n",
              "             (3, 9): 1,\n",
              "             (4, 8): 1,\n",
              "             (4, 9): 1,\n",
              "             (5, 8): 1,\n",
              "             (5, 9): 1,\n",
              "             (1, 10): 1,\n",
              "             (2, 10): 1,\n",
              "             (3, 10): 1,\n",
              "             (4, 10): 1,\n",
              "             (5, 10): 1,\n",
              "             (6, 6): 1,\n",
              "             (6, 7): 1,\n",
              "             (7, 6): 1,\n",
              "             (7, 7): 1,\n",
              "             (8, 6): 1,\n",
              "             (8, 7): 1,\n",
              "             (9, 6): 1,\n",
              "             (9, 7): 1,\n",
              "             (10, 6): 1,\n",
              "             (10, 7): 1,\n",
              "             (6, 8): 1,\n",
              "             (6, 9): 1,\n",
              "             (7, 8): 1,\n",
              "             (7, 9): 1,\n",
              "             (8, 8): 1,\n",
              "             (8, 9): 1,\n",
              "             (9, 8): 1,\n",
              "             (9, 9): 1,\n",
              "             (10, 8): 1,\n",
              "             (10, 9): 1,\n",
              "             (6, 10): 1,\n",
              "             (7, 10): 1,\n",
              "             (8, 10): 1,\n",
              "             (9, 10): 1,\n",
              "             (10, 10): 1})"
            ]
          },
          "metadata": {},
          "execution_count": 49
        }
      ]
    },
    {
      "cell_type": "code",
      "source": [
        "id = tuple(range(1,6))\n",
        "values = (200, 300, 120, 250, 78)\n",
        "data = list(zip(id, values))\n",
        "\n",
        "data"
      ],
      "metadata": {
        "colab": {
          "base_uri": "https://localhost:8080/"
        },
        "id": "pLZijVnB1wna",
        "outputId": "04038df2-ce16-4b09-c7a4-564893632d7e"
      },
      "execution_count": null,
      "outputs": [
        {
          "output_type": "execute_result",
          "data": {
            "text/plain": [
              "[(1, 200), (2, 300), (3, 120), (4, 250), (5, 78)]"
            ]
          },
          "metadata": {},
          "execution_count": 52
        }
      ]
    },
    {
      "cell_type": "markdown",
      "source": [
        "Criando um RDD com Chave e valor"
      ],
      "metadata": {
        "id": "-4TFMw7B9W9b"
      }
    },
    {
      "cell_type": "code",
      "source": [
        "compras = sc.parallelize(data)\n",
        "compras.collect()"
      ],
      "metadata": {
        "colab": {
          "base_uri": "https://localhost:8080/"
        },
        "id": "NVD47sU07BBL",
        "outputId": "ddfd2d3b-dc0d-4239-d2dc-0f81bdbf00a1"
      },
      "execution_count": null,
      "outputs": [
        {
          "output_type": "execute_result",
          "data": {
            "text/plain": [
              "[(1, 200), (2, 300), (3, 120), (4, 250), (5, 78)]"
            ]
          },
          "metadata": {},
          "execution_count": 53
        }
      ]
    },
    {
      "cell_type": "markdown",
      "source": [
        "Mostrando as chaves"
      ],
      "metadata": {
        "id": "XrfeI_SA9bWL"
      }
    },
    {
      "cell_type": "code",
      "source": [
        "compras.keys().collect()"
      ],
      "metadata": {
        "colab": {
          "base_uri": "https://localhost:8080/"
        },
        "id": "AmgA96od7Khc",
        "outputId": "6fa81330-593f-4d09-c61a-8f2e5e031bee"
      },
      "execution_count": null,
      "outputs": [
        {
          "output_type": "execute_result",
          "data": {
            "text/plain": [
              "[1, 2, 3, 4, 5]"
            ]
          },
          "metadata": {},
          "execution_count": 55
        }
      ]
    },
    {
      "cell_type": "markdown",
      "source": [
        "Mostrando os valores"
      ],
      "metadata": {
        "id": "H7dIZIV_9dCR"
      }
    },
    {
      "cell_type": "code",
      "source": [
        "compras.values().collect()"
      ],
      "metadata": {
        "colab": {
          "base_uri": "https://localhost:8080/"
        },
        "id": "cWBim-Ri7SPF",
        "outputId": "d8dea520-17f4-4dd3-fe6d-c5bd9f60624c"
      },
      "execution_count": null,
      "outputs": [
        {
          "output_type": "execute_result",
          "data": {
            "text/plain": [
              "[200, 300, 120, 250, 78]"
            ]
          },
          "metadata": {},
          "execution_count": 56
        }
      ]
    },
    {
      "cell_type": "markdown",
      "source": [
        "Contando as ocorrências por chave"
      ],
      "metadata": {
        "id": "91IMKF8o9fC_"
      }
    },
    {
      "cell_type": "code",
      "source": [
        "compras.countByKey()"
      ],
      "metadata": {
        "colab": {
          "base_uri": "https://localhost:8080/"
        },
        "id": "estD9n5u7h03",
        "outputId": "92d7e5d9-dd12-429a-dd25-71bff1949ffd"
      },
      "execution_count": null,
      "outputs": [
        {
          "output_type": "execute_result",
          "data": {
            "text/plain": [
              "defaultdict(int, {1: 1, 2: 1, 3: 1, 4: 1, 5: 1})"
            ]
          },
          "metadata": {},
          "execution_count": 57
        }
      ]
    },
    {
      "cell_type": "markdown",
      "source": [
        "Aplicando uma transformação nos valores com o mapValues"
      ],
      "metadata": {
        "id": "tNF_KGMe9ick"
      }
    },
    {
      "cell_type": "code",
      "source": [
        "compras.mapValues(lambda x: x*2).collect()"
      ],
      "metadata": {
        "colab": {
          "base_uri": "https://localhost:8080/"
        },
        "id": "CJQYG6HD76xP",
        "outputId": "8e02d36b-9164-40aa-e24f-f2537ed7e674"
      },
      "execution_count": null,
      "outputs": [
        {
          "output_type": "execute_result",
          "data": {
            "text/plain": [
              "[(1, 400), (2, 600), (3, 240), (4, 500), (5, 156)]"
            ]
          },
          "metadata": {},
          "execution_count": 58
        }
      ]
    },
    {
      "cell_type": "markdown",
      "source": [
        "Criando um RDD com débitos"
      ],
      "metadata": {
        "id": "dRFHH0Vr9nlY"
      }
    },
    {
      "cell_type": "code",
      "source": [
        "debitos = sc.parallelize([(1,20), (2,300)])"
      ],
      "metadata": {
        "id": "hO0gfGU48SMv"
      },
      "execution_count": null,
      "outputs": []
    },
    {
      "cell_type": "markdown",
      "source": [
        "Fazendo um Join por chave com os dados das compras e débitos."
      ],
      "metadata": {
        "id": "WrMKG9iR9qOo"
      }
    },
    {
      "cell_type": "code",
      "source": [
        "resultados = compras.join(debitos)\n",
        "resultados.collect()"
      ],
      "metadata": {
        "colab": {
          "base_uri": "https://localhost:8080/"
        },
        "id": "xJkxW2JD8Zmu",
        "outputId": "e280a372-d7f6-40d1-951c-4d314d32e108"
      },
      "execution_count": null,
      "outputs": [
        {
          "output_type": "execute_result",
          "data": {
            "text/plain": [
              "[(1, (200, 20)), (2, (300, 300))]"
            ]
          },
          "metadata": {},
          "execution_count": 63
        }
      ]
    },
    {
      "cell_type": "markdown",
      "source": [
        "Retirando os clientes que não têm débitos"
      ],
      "metadata": {
        "id": "9j_tly0n9vyX"
      }
    },
    {
      "cell_type": "code",
      "source": [
        "semdebs = compras.subtractByKey(debitos)\n",
        "semdebs.collect()"
      ],
      "metadata": {
        "colab": {
          "base_uri": "https://localhost:8080/"
        },
        "id": "2tXx1KrS80Fn",
        "outputId": "ce618b7f-9926-4d97-e0b6-adc27106b0c1"
      },
      "execution_count": null,
      "outputs": [
        {
          "output_type": "execute_result",
          "data": {
            "text/plain": [
              "[(4, 250), (5, 78), (3, 120)]"
            ]
          },
          "metadata": {},
          "execution_count": 64
        }
      ]
    }
  ]
}