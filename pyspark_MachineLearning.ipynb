{
  "nbformat": 4,
  "nbformat_minor": 0,
  "metadata": {
    "colab": {
      "provenance": [],
      "mount_file_id": "1UupLI9ibBROOYB0TYxWJhRqW9kX29TKJ",
      "authorship_tag": "ABX9TyM0UGJoRkC6Ux5+/9oMrGCi",
      "include_colab_link": true
    },
    "kernelspec": {
      "name": "python3",
      "display_name": "Python 3"
    },
    "language_info": {
      "name": "python"
    }
  },
  "cells": [
    {
      "cell_type": "markdown",
      "metadata": {
        "id": "view-in-github",
        "colab_type": "text"
      },
      "source": [
        "<a href=\"https://colab.research.google.com/github/cruz-marco/pyspark_course/blob/main/pyspark_MachineLearning.ipynb\" target=\"_parent\"><img src=\"https://colab.research.google.com/assets/colab-badge.svg\" alt=\"Open In Colab\"/></a>"
      ]
    },
    {
      "cell_type": "code",
      "execution_count": 1,
      "metadata": {
        "id": "mmkJ_z1QDRf0"
      },
      "outputs": [],
      "source": [
        "#@title\n",
        "!apt-get install openjdk-8-jdk-headless -qq > /dev/null\n",
        "!wget -q https://dlcdn.apache.org/spark/spark-3.2.3/spark-3.2.3-bin-hadoop3.2.tgz\n",
        "!tar xf spark-3.2.3-bin-hadoop3.2.tgz\n",
        "\n",
        "import os\n",
        "os.environ[\"JAVA_HOME\"] = \"/usr/lib/jvm/java-8-openjdk-amd64\" \n",
        "os.environ[\"SPARK_HOME\"] = '/content/spark-3.2.3-bin-hadoop3.2'\n",
        "\n",
        "!pip install -q findspark\n",
        "\n",
        "import findspark\n",
        "findspark.init()\n",
        "findspark.find()\n",
        "\n",
        "from pyspark.sql import SparkSession\n",
        "spark = SparkSession.builder.master(\"local[*]\").getOrCreate()\n",
        "sc = spark.sparkContext"
      ]
    },
    {
      "cell_type": "markdown",
      "source": [
        "# Machine Learning com Spark\n",
        "\n",
        "- PySpark tem bibliotecas voltadas para o treinamento e avaliação de modelos de aprendzagem de máquina;\n",
        "\n",
        "- As variáveis independentes devem ficar, todas juntas, em um único vetor;\n",
        "\n",
        "\n",
        "> Importe das bibliotecas a serem usadas:"
      ],
      "metadata": {
        "id": "95j-_A7mId3I"
      }
    },
    {
      "cell_type": "code",
      "source": [
        "from pyspark.ml.regression import LinearRegression, RandomForestRegressor\n",
        "from pyspark.ml.evaluation import RegressionEvaluator\n",
        "from pyspark.ml.feature import VectorAssembler\n",
        "from pyspark.sql import functions as f"
      ],
      "metadata": {
        "id": "kpEt0Ps6D9QB"
      },
      "execution_count": 2,
      "outputs": []
    },
    {
      "cell_type": "markdown",
      "source": [
        "## Modelos de Regressão"
      ],
      "metadata": {
        "id": "JoP1QInSVOQi"
      }
    },
    {
      "cell_type": "markdown",
      "source": [
        "> Criação do DataFrame carros_temp, a idéia deste mini-projeto é prever a potência do carro."
      ],
      "metadata": {
        "id": "SrFLQ67nJFZm"
      }
    },
    {
      "cell_type": "code",
      "source": [
        "carros = spark.read.load(('/content/drive/MyDrive/Datasets/pyspark_course/'\n",
        "                              'Carros.csv'), format='csv', sep=';', header=True,\n",
        "                              inferSchema=True)\n",
        "\n",
        "carros.show()"
      ],
      "metadata": {
        "colab": {
          "base_uri": "https://localhost:8080/"
        },
        "id": "zV6d-GN6Hixe",
        "outputId": "aa5c56ca-6f52-4ce7-9603-cea9477acc66"
      },
      "execution_count": 3,
      "outputs": [
        {
          "output_type": "stream",
          "name": "stdout",
          "text": [
            "+-------+---------+-----------+---------------+----+-----+---------+-----------+-------+-----------+---+\n",
            "|Consumo|Cilindros|Cilindradas|RelEixoTraseiro|Peso|Tempo|TipoMotor|Transmissao|Marchas|Carburadors| HP|\n",
            "+-------+---------+-----------+---------------+----+-----+---------+-----------+-------+-----------+---+\n",
            "|     21|        6|        160|             39| 262| 1646|        0|          1|      4|          4|110|\n",
            "|     21|        6|        160|             39|2875| 1702|        0|          1|      4|          4|110|\n",
            "|    228|        4|        108|            385| 232| 1861|        1|          1|      4|          1| 93|\n",
            "|    214|        6|        258|            308|3215| 1944|        1|          0|      3|          1|110|\n",
            "|    187|        8|        360|            315| 344| 1702|        0|          0|      3|          2|175|\n",
            "|    181|        6|        225|            276| 346| 2022|        1|          0|      3|          1|105|\n",
            "|    143|        8|        360|            321| 357| 1584|        0|          0|      3|          4|245|\n",
            "|    244|        4|       1467|            369| 319|   20|        1|          0|      4|          2| 62|\n",
            "|    228|        4|       1408|            392| 315|  229|        1|          0|      4|          2| 95|\n",
            "|    192|        6|       1676|            392| 344|  183|        1|          0|      4|          4|123|\n",
            "|    178|        6|       1676|            392| 344|  189|        1|          0|      4|          4|123|\n",
            "|    164|        8|       2758|            307| 407|  174|        0|          0|      3|          3|180|\n",
            "|    173|        8|       2758|            307| 373|  176|        0|          0|      3|          3|180|\n",
            "|    152|        8|       2758|            307| 378|   18|        0|          0|      3|          3|180|\n",
            "|    104|        8|        472|            293| 525| 1798|        0|          0|      3|          4|205|\n",
            "|    104|        8|        460|              3|5424| 1782|        0|          0|      3|          4|215|\n",
            "|    147|        8|        440|            323|5345| 1742|        0|          0|      3|          4|230|\n",
            "|    324|        4|        787|            408|  22| 1947|        1|          1|      4|          1| 66|\n",
            "|    304|        4|        757|            493|1615| 1852|        1|          1|      4|          2| 52|\n",
            "|    339|        4|        711|            422|1835|  199|        1|          1|      4|          1| 65|\n",
            "+-------+---------+-----------+---------------+----+-----+---------+-----------+-------+-----------+---+\n",
            "only showing top 20 rows\n",
            "\n"
          ]
        }
      ]
    },
    {
      "cell_type": "markdown",
      "source": [
        "> Transformação das colunas em vetores."
      ],
      "metadata": {
        "id": "PJLznpY7VGNk"
      }
    },
    {
      "cell_type": "code",
      "source": [
        "vect_feats = VectorAssembler(inputCols=carros.columns[:-1], outputCol='vected_feats')"
      ],
      "metadata": {
        "id": "OXkg-HxiJuSb"
      },
      "execution_count": 4,
      "outputs": []
    },
    {
      "cell_type": "code",
      "source": [
        "carros = vect_feats.transform(carros)\n",
        "carros.show()"
      ],
      "metadata": {
        "colab": {
          "base_uri": "https://localhost:8080/"
        },
        "id": "HHFBxlm0LGsh",
        "outputId": "8ac365ac-b7d5-497f-a5eb-05d67eb44aba"
      },
      "execution_count": 5,
      "outputs": [
        {
          "output_type": "stream",
          "name": "stdout",
          "text": [
            "+-------+---------+-----------+---------------+----+-----+---------+-----------+-------+-----------+---+--------------------+\n",
            "|Consumo|Cilindros|Cilindradas|RelEixoTraseiro|Peso|Tempo|TipoMotor|Transmissao|Marchas|Carburadors| HP|        vected_feats|\n",
            "+-------+---------+-----------+---------------+----+-----+---------+-----------+-------+-----------+---+--------------------+\n",
            "|     21|        6|        160|             39| 262| 1646|        0|          1|      4|          4|110|[21.0,6.0,160.0,3...|\n",
            "|     21|        6|        160|             39|2875| 1702|        0|          1|      4|          4|110|[21.0,6.0,160.0,3...|\n",
            "|    228|        4|        108|            385| 232| 1861|        1|          1|      4|          1| 93|[228.0,4.0,108.0,...|\n",
            "|    214|        6|        258|            308|3215| 1944|        1|          0|      3|          1|110|[214.0,6.0,258.0,...|\n",
            "|    187|        8|        360|            315| 344| 1702|        0|          0|      3|          2|175|[187.0,8.0,360.0,...|\n",
            "|    181|        6|        225|            276| 346| 2022|        1|          0|      3|          1|105|[181.0,6.0,225.0,...|\n",
            "|    143|        8|        360|            321| 357| 1584|        0|          0|      3|          4|245|[143.0,8.0,360.0,...|\n",
            "|    244|        4|       1467|            369| 319|   20|        1|          0|      4|          2| 62|[244.0,4.0,1467.0...|\n",
            "|    228|        4|       1408|            392| 315|  229|        1|          0|      4|          2| 95|[228.0,4.0,1408.0...|\n",
            "|    192|        6|       1676|            392| 344|  183|        1|          0|      4|          4|123|[192.0,6.0,1676.0...|\n",
            "|    178|        6|       1676|            392| 344|  189|        1|          0|      4|          4|123|[178.0,6.0,1676.0...|\n",
            "|    164|        8|       2758|            307| 407|  174|        0|          0|      3|          3|180|[164.0,8.0,2758.0...|\n",
            "|    173|        8|       2758|            307| 373|  176|        0|          0|      3|          3|180|[173.0,8.0,2758.0...|\n",
            "|    152|        8|       2758|            307| 378|   18|        0|          0|      3|          3|180|[152.0,8.0,2758.0...|\n",
            "|    104|        8|        472|            293| 525| 1798|        0|          0|      3|          4|205|[104.0,8.0,472.0,...|\n",
            "|    104|        8|        460|              3|5424| 1782|        0|          0|      3|          4|215|[104.0,8.0,460.0,...|\n",
            "|    147|        8|        440|            323|5345| 1742|        0|          0|      3|          4|230|[147.0,8.0,440.0,...|\n",
            "|    324|        4|        787|            408|  22| 1947|        1|          1|      4|          1| 66|[324.0,4.0,787.0,...|\n",
            "|    304|        4|        757|            493|1615| 1852|        1|          1|      4|          2| 52|[304.0,4.0,757.0,...|\n",
            "|    339|        4|        711|            422|1835|  199|        1|          1|      4|          1| 65|[339.0,4.0,711.0,...|\n",
            "+-------+---------+-----------+---------------+----+-----+---------+-----------+-------+-----------+---+--------------------+\n",
            "only showing top 20 rows\n",
            "\n"
          ]
        }
      ]
    },
    {
      "cell_type": "markdown",
      "source": [
        "> Separando os dados de treino e teste."
      ],
      "metadata": {
        "id": "F047jfeEVjmU"
      }
    },
    {
      "cell_type": "code",
      "source": [
        "carrosTreino, carrosTeste = carros.randomSplit([0.7, 0.3])\n",
        "\n",
        "display(\n",
        "    carrosTreino.count(),\n",
        "    carrosTeste.count()\n",
        ")"
      ],
      "metadata": {
        "colab": {
          "base_uri": "https://localhost:8080/",
          "height": 52
        },
        "id": "_6CJkBACLfzX",
        "outputId": "269a561d-1de5-44a6-cf9e-45b2c0f48e25"
      },
      "execution_count": 6,
      "outputs": [
        {
          "output_type": "display_data",
          "data": {
            "text/plain": [
              "22"
            ]
          },
          "metadata": {}
        },
        {
          "output_type": "display_data",
          "data": {
            "text/plain": [
              "10"
            ]
          },
          "metadata": {}
        }
      ]
    },
    {
      "cell_type": "markdown",
      "source": [
        "> Instanciando, treinando e avaliando o algoritmo de regressão linear clássico"
      ],
      "metadata": {
        "id": "GO41I5L5VqDm"
      }
    },
    {
      "cell_type": "code",
      "source": [
        "reglin = LinearRegression(featuresCol='vected_feats', labelCol='HP')\n",
        "model_RL = reglin.fit(carrosTreino)"
      ],
      "metadata": {
        "id": "3XsK8xn2NwcK"
      },
      "execution_count": 8,
      "outputs": []
    },
    {
      "cell_type": "code",
      "source": [
        "carrosPred = model_RL.transform(carrosTeste)\n",
        "carrosPred.show()"
      ],
      "metadata": {
        "colab": {
          "base_uri": "https://localhost:8080/"
        },
        "id": "eHtpV84xOWwg",
        "outputId": "5eb24093-5c67-4bd9-a04c-d8d81c5193db"
      },
      "execution_count": 9,
      "outputs": [
        {
          "output_type": "stream",
          "name": "stdout",
          "text": [
            "+-------+---------+-----------+---------------+----+-----+---------+-----------+-------+-----------+---+--------------------+------------------+\n",
            "|Consumo|Cilindros|Cilindradas|RelEixoTraseiro|Peso|Tempo|TipoMotor|Transmissao|Marchas|Carburadors| HP|        vected_feats|        prediction|\n",
            "+-------+---------+-----------+---------------+----+-----+---------+-----------+-------+-----------+---+--------------------+------------------+\n",
            "|    104|        8|        460|              3|5424| 1782|        0|          0|      3|          4|215|[104.0,8.0,460.0,...| 173.5649974544997|\n",
            "|    133|        8|        350|            373| 384| 1541|        0|          0|      3|          4|245|[133.0,8.0,350.0,...|240.80817059157295|\n",
            "|    152|        8|        304|            315|3435|  173|        0|          0|      3|          2|150|[152.0,8.0,304.0,...|151.90544420558822|\n",
            "|    152|        8|       2758|            307| 378|   18|        0|          0|      3|          3|180|[152.0,8.0,2758.0...|177.68414836729426|\n",
            "|    158|        8|        351|            422| 317|  145|        0|          1|      5|          4|264|[158.0,8.0,351.0,...|141.59487813441586|\n",
            "|    178|        6|       1676|            392| 344|  189|        1|          0|      4|          4|123|[178.0,6.0,1676.0...|170.81927245480452|\n",
            "|    187|        8|        360|            315| 344| 1702|        0|          0|      3|          2|175|[187.0,8.0,360.0,...|153.08922728298438|\n",
            "|    244|        4|       1467|            369| 319|   20|        1|          0|      4|          2| 62|[244.0,4.0,1467.0...| 83.80086838941487|\n",
            "|    304|        4|        757|            493|1615| 1852|        1|          1|      4|          2| 52|[304.0,4.0,757.0,...|133.11939010248682|\n",
            "|    304|        4|        951|            377|1513|  169|        1|          1|      5|          2|113|[304.0,4.0,951.0,...| 39.58183007715543|\n",
            "+-------+---------+-----------+---------------+----+-----+---------+-----------+-------+-----------+---+--------------------+------------------+\n",
            "\n"
          ]
        }
      ]
    },
    {
      "cell_type": "code",
      "source": [
        "evaluate = RegressionEvaluator(predictionCol='prediction', labelCol='HP',\n",
        "                               metricName='rmse')\n",
        "\n",
        "rmse_RL = evaluate.evaluate(carrosPred)\n",
        "rmse_RL"
      ],
      "metadata": {
        "colab": {
          "base_uri": "https://localhost:8080/"
        },
        "id": "BgovQVTyOwOb",
        "outputId": "4bb12eaf-372c-4e88-ec9d-caf2ceea728f"
      },
      "execution_count": 13,
      "outputs": [
        {
          "output_type": "execute_result",
          "data": {
            "text/plain": [
              "56.514656844206385"
            ]
          },
          "metadata": {},
          "execution_count": 13
        }
      ]
    },
    {
      "cell_type": "markdown",
      "source": [
        "> Instanciando, treinando e avaliando o algoritmo de regressão por random forest."
      ],
      "metadata": {
        "id": "e2xtgsATV2fX"
      }
    },
    {
      "cell_type": "code",
      "source": [
        "rfreg = RandomForestRegressor(featuresCol='vected_feats', labelCol='HP')\n",
        "model_RF = rfreg.fit(carrosTreino)"
      ],
      "metadata": {
        "id": "hfwzR1g8Pp8_"
      },
      "execution_count": 14,
      "outputs": []
    },
    {
      "cell_type": "code",
      "source": [
        "carrosPredRF = model_RF.transform(carrosTeste)\n",
        "carrosPredRF.show()"
      ],
      "metadata": {
        "colab": {
          "base_uri": "https://localhost:8080/"
        },
        "id": "lhvHhfJIQdQP",
        "outputId": "c092e739-8e6c-4af5-db1c-ce9448d28786"
      },
      "execution_count": 16,
      "outputs": [
        {
          "output_type": "stream",
          "name": "stdout",
          "text": [
            "+-------+---------+-----------+---------------+----+-----+---------+-----------+-------+-----------+---+--------------------+------------------+\n",
            "|Consumo|Cilindros|Cilindradas|RelEixoTraseiro|Peso|Tempo|TipoMotor|Transmissao|Marchas|Carburadors| HP|        vected_feats|        prediction|\n",
            "+-------+---------+-----------+---------------+----+-----+---------+-----------+-------+-----------+---+--------------------+------------------+\n",
            "|    104|        8|        460|              3|5424| 1782|        0|          0|      3|          4|215|[104.0,8.0,460.0,...|            198.25|\n",
            "|    133|        8|        350|            373| 384| 1541|        0|          0|      3|          4|245|[133.0,8.0,350.0,...|205.91666666666669|\n",
            "|    152|        8|        304|            315|3435|  173|        0|          0|      3|          2|150|[152.0,8.0,304.0,...|             184.5|\n",
            "|    152|        8|       2758|            307| 378|   18|        0|          0|      3|          3|180|[152.0,8.0,2758.0...|200.11666666666667|\n",
            "|    158|        8|        351|            422| 317|  145|        0|          1|      5|          4|264|[158.0,8.0,351.0,...|201.51666666666668|\n",
            "|    178|        6|       1676|            392| 344|  189|        1|          0|      4|          4|123|[178.0,6.0,1676.0...|118.88166666666666|\n",
            "|    187|        8|        360|            315| 344| 1702|        0|          0|      3|          2|175|[187.0,8.0,360.0,...|             182.0|\n",
            "|    244|        4|       1467|            369| 319|   20|        1|          0|      4|          2| 62|[244.0,4.0,1467.0...| 146.3357142857143|\n",
            "|    304|        4|        757|            493|1615| 1852|        1|          1|      4|          2| 52|[304.0,4.0,757.0,...| 75.33571428571429|\n",
            "|    304|        4|        951|            377|1513|  169|        1|          1|      5|          2|113|[304.0,4.0,951.0,...| 77.43571428571428|\n",
            "+-------+---------+-----------+---------------+----+-----+---------+-----------+-------+-----------+---+--------------------+------------------+\n",
            "\n"
          ]
        }
      ]
    },
    {
      "cell_type": "code",
      "source": [
        "rmse_RF = evaluate.evaluate(carrosPredRF)\n",
        "rmse_RF"
      ],
      "metadata": {
        "colab": {
          "base_uri": "https://localhost:8080/"
        },
        "id": "5B_UEtlcQn4J",
        "outputId": "087b145f-85f6-4061-d81a-cd82732b3248"
      },
      "execution_count": 17,
      "outputs": [
        {
          "output_type": "execute_result",
          "data": {
            "text/plain": [
              "40.36708314924993"
            ]
          },
          "metadata": {},
          "execution_count": 17
        }
      ]
    },
    {
      "cell_type": "markdown",
      "source": [
        "## Modelo de Classificação"
      ],
      "metadata": {
        "id": "9gLS0d9AWBsg"
      }
    },
    {
      "cell_type": "markdown",
      "source": [
        "> Import das bibliotecas a serem usadas"
      ],
      "metadata": {
        "id": "TzcjF-uZbPQg"
      }
    },
    {
      "cell_type": "code",
      "source": [
        "from pyspark.ml.feature import RFormula\n",
        "from pyspark.ml.classification import DecisionTreeClassifier\n",
        "from pyspark.ml.evaluation import BinaryClassificationEvaluator"
      ],
      "metadata": {
        "id": "dt-IjgBXQ1KJ"
      },
      "execution_count": 18,
      "outputs": []
    },
    {
      "cell_type": "markdown",
      "source": [
        "> Criação do DataFrame"
      ],
      "metadata": {
        "id": "xPohkzm-bScm"
      }
    },
    {
      "cell_type": "code",
      "source": [
        "churn = spark.read.load(('/content/drive/MyDrive/Datasets/pyspark_course/Churn'\n",
        "        '.csv'), format='csv', sep=';', header=True, inferSchema=True)\n",
        "\n",
        "churn.show(5)"
      ],
      "metadata": {
        "colab": {
          "base_uri": "https://localhost:8080/"
        },
        "id": "WJFbLT6LWhZe",
        "outputId": "fe713ff6-d52b-4258-bdb9-6cc6f1edc04e"
      },
      "execution_count": 19,
      "outputs": [
        {
          "output_type": "stream",
          "name": "stdout",
          "text": [
            "+-----------+---------+------+---+------+--------+-------------+---------+--------------+---------------+------+\n",
            "|CreditScore|Geography|Gender|Age|Tenure| Balance|NumOfProducts|HasCrCard|IsActiveMember|EstimatedSalary|Exited|\n",
            "+-----------+---------+------+---+------+--------+-------------+---------+--------------+---------------+------+\n",
            "|        619|   France|Female| 42|     2|       0|            1|        1|             1|       10134888|     1|\n",
            "|        608|    Spain|Female| 41|     1| 8380786|            1|        0|             1|       11254258|     0|\n",
            "|        502|   France|Female| 42|     8| 1596608|            3|        1|             0|       11393157|     1|\n",
            "|        699|   France|Female| 39|     1|       0|            2|        0|             0|        9382663|     0|\n",
            "|        850|    Spain|Female| 43|     2|12551082|            1|        1|             1|         790841|     0|\n",
            "+-----------+---------+------+---+------+--------+-------------+---------+--------------+---------------+------+\n",
            "only showing top 5 rows\n",
            "\n"
          ]
        }
      ]
    },
    {
      "cell_type": "markdown",
      "source": [
        "> Separação/Transformação dos dados:\n",
        "\n",
        "- RFormula recebe uma fórmula do R e executa a transformação dos dados (one hot encoding e vetorização) usando métodos cuja lógica é semelhante a um modelo de machine learning. Lógica empregada no parâmetro fórmula: variável_target ~ features (usando o ponto '.' após o til indica que todas as outras colunas serão usadas como feature."
      ],
      "metadata": {
        "id": "BsGm3Q5TbVVu"
      }
    },
    {
      "cell_type": "code",
      "source": [
        "formula = RFormula(formula='Exited ~ .', featuresCol='features', \n",
        "                   labelCol='label', handleInvalid='skip')\n",
        "\n",
        "churn_rdy = formula.fit(churn).transform(churn).select('features', 'label')\n",
        "\n",
        "churn_rdy.show(truncate=False)"
      ],
      "metadata": {
        "colab": {
          "base_uri": "https://localhost:8080/"
        },
        "id": "eMD8o6KtW6YX",
        "outputId": "ef077032-ce6b-4b80-d8fc-5285da7ac187"
      },
      "execution_count": 21,
      "outputs": [
        {
          "output_type": "stream",
          "name": "stdout",
          "text": [
            "+----------------------------------------------------------------+-----+\n",
            "|features                                                        |label|\n",
            "+----------------------------------------------------------------+-----+\n",
            "|[619.0,1.0,0.0,0.0,42.0,2.0,0.0,1.0,1.0,1.0,1.0134888E7]        |1.0  |\n",
            "|[608.0,0.0,0.0,0.0,41.0,1.0,8380786.0,1.0,0.0,1.0,1.1254258E7]  |0.0  |\n",
            "|[502.0,1.0,0.0,0.0,42.0,8.0,1596608.0,3.0,1.0,0.0,1.1393157E7]  |1.0  |\n",
            "|(11,[0,1,4,5,7,10],[699.0,1.0,39.0,1.0,2.0,9382663.0])          |0.0  |\n",
            "|[850.0,0.0,0.0,0.0,43.0,2.0,1.2551082E7,1.0,1.0,1.0,790841.0]   |0.0  |\n",
            "|[645.0,0.0,0.0,1.0,44.0,8.0,1.1375578E7,2.0,1.0,0.0,1.4975671E7]|1.0  |\n",
            "|[822.0,1.0,0.0,1.0,50.0,7.0,0.0,2.0,1.0,1.0,100628.0]           |0.0  |\n",
            "|[376.0,0.0,1.0,0.0,29.0,4.0,1.1504674E7,4.0,1.0,0.0,1.1934688E7]|1.0  |\n",
            "|[501.0,1.0,0.0,1.0,44.0,4.0,1.4205107E7,2.0,0.0,1.0,749405.0]   |0.0  |\n",
            "|[684.0,1.0,0.0,1.0,27.0,2.0,1.3460388E7,1.0,1.0,1.0,7172573.0]  |0.0  |\n",
            "|[528.0,1.0,0.0,1.0,31.0,6.0,1.0201672E7,2.0,0.0,0.0,8018112.0]  |0.0  |\n",
            "|[497.0,0.0,0.0,1.0,24.0,3.0,0.0,2.0,1.0,0.0,7639001.0]          |0.0  |\n",
            "|[476.0,1.0,0.0,0.0,34.0,10.0,0.0,2.0,1.0,0.0,2626098.0]         |0.0  |\n",
            "|(11,[0,1,4,5,7,10],[549.0,1.0,25.0,5.0,2.0,1.9085779E7])        |0.0  |\n",
            "|[635.0,0.0,0.0,0.0,35.0,7.0,0.0,2.0,1.0,1.0,6595165.0]          |0.0  |\n",
            "|[616.0,0.0,1.0,1.0,45.0,3.0,1.4312941E7,2.0,0.0,1.0,6432726.0]  |0.0  |\n",
            "|[653.0,0.0,1.0,1.0,58.0,1.0,1.3260288E7,1.0,1.0,0.0,509767.0]   |1.0  |\n",
            "|[549.0,0.0,0.0,0.0,24.0,9.0,0.0,2.0,1.0,1.0,1440641.0]          |0.0  |\n",
            "|(11,[0,3,4,5,7,10],[587.0,1.0,45.0,6.0,1.0,1.5868481E7])        |0.0  |\n",
            "|[726.0,1.0,0.0,0.0,24.0,6.0,0.0,2.0,1.0,1.0,5472403.0]          |0.0  |\n",
            "+----------------------------------------------------------------+-----+\n",
            "only showing top 20 rows\n",
            "\n"
          ]
        }
      ]
    },
    {
      "cell_type": "markdown",
      "source": [
        "> Separação em treino e teste"
      ],
      "metadata": {
        "id": "P3dlP9_Ifjmw"
      }
    },
    {
      "cell_type": "code",
      "source": [
        "churnTreino, churnTeste = churn_rdy.randomSplit([0.7, 0.3])\n",
        "\n",
        "display(\n",
        "    churnTreino.count(),\n",
        "    churnTeste.count()\n",
        ")"
      ],
      "metadata": {
        "colab": {
          "base_uri": "https://localhost:8080/",
          "height": 52
        },
        "id": "CXv0yRV8a7mV",
        "outputId": "517e8256-6a0a-4daf-c173-15fa64794e1d"
      },
      "execution_count": 24,
      "outputs": [
        {
          "output_type": "display_data",
          "data": {
            "text/plain": [
              "7082"
            ]
          },
          "metadata": {}
        },
        {
          "output_type": "display_data",
          "data": {
            "text/plain": [
              "2918"
            ]
          },
          "metadata": {}
        }
      ]
    },
    {
      "cell_type": "markdown",
      "source": [
        "> Instanciação e treino do classificador"
      ],
      "metadata": {
        "id": "jH9qw8ckfnOi"
      }
    },
    {
      "cell_type": "code",
      "source": [
        "clf = DecisionTreeClassifier(labelCol='label', featuresCol='features')\n",
        "model_clf = clf.fit(churnTreino)"
      ],
      "metadata": {
        "id": "iETAsfVScc4l"
      },
      "execution_count": 25,
      "outputs": []
    },
    {
      "cell_type": "markdown",
      "source": [
        "> Previsão do modelo"
      ],
      "metadata": {
        "id": "YBe4jTKQfsEV"
      }
    },
    {
      "cell_type": "code",
      "source": [
        "churnPred = model_clf.transform(churnTeste)\n",
        "\n",
        "churnPred.show()"
      ],
      "metadata": {
        "colab": {
          "base_uri": "https://localhost:8080/"
        },
        "id": "fXId9q04dBu9",
        "outputId": "0bac7426-f51b-4388-9d62-a1e70d3e68cb"
      },
      "execution_count": 26,
      "outputs": [
        {
          "output_type": "stream",
          "name": "stdout",
          "text": [
            "+--------------------+-----+--------------+--------------------+----------+\n",
            "|            features|label| rawPrediction|         probability|prediction|\n",
            "+--------------------+-----+--------------+--------------------+----------+\n",
            "|(11,[0,1,3,4,7,10...|  0.0| [149.0,220.0]|[0.40379403794037...|       1.0|\n",
            "|(11,[0,1,3,4,7,10...|  0.0|[4395.0,517.0]|[0.89474755700325...|       0.0|\n",
            "|(11,[0,1,4,5,7,10...|  1.0|  [31.0,232.0]|[0.11787072243346...|       1.0|\n",
            "|(11,[0,1,4,5,7,10...|  1.0|  [186.0,45.0]|[0.80519480519480...|       0.0|\n",
            "|(11,[0,1,4,5,7,10...|  0.0|[4395.0,517.0]|[0.89474755700325...|       0.0|\n",
            "|(11,[0,1,4,5,7,10...|  0.0|[4395.0,517.0]|[0.89474755700325...|       0.0|\n",
            "|(11,[0,1,4,5,7,10...|  1.0| [149.0,220.0]|[0.40379403794037...|       1.0|\n",
            "|(11,[0,1,4,5,7,10...|  1.0|     [1.0,9.0]|           [0.1,0.9]|       1.0|\n",
            "|(11,[0,1,4,5,7,10...|  0.0|[4395.0,517.0]|[0.89474755700325...|       0.0|\n",
            "|(11,[0,1,4,5,7,10...|  1.0| [149.0,220.0]|[0.40379403794037...|       1.0|\n",
            "|(11,[0,1,4,5,7,10...|  0.0|[4395.0,517.0]|[0.89474755700325...|       0.0|\n",
            "|(11,[0,1,4,5,7,10...|  0.0|[4395.0,517.0]|[0.89474755700325...|       0.0|\n",
            "|(11,[0,1,4,5,7,10...|  0.0|[4395.0,517.0]|[0.89474755700325...|       0.0|\n",
            "|(11,[0,1,4,5,7,10...|  0.0|[4395.0,517.0]|[0.89474755700325...|       0.0|\n",
            "|(11,[0,1,4,5,7,10...|  1.0| [149.0,220.0]|[0.40379403794037...|       1.0|\n",
            "|(11,[0,1,4,5,7,10...|  1.0|  [186.0,45.0]|[0.80519480519480...|       0.0|\n",
            "|(11,[0,1,4,5,7,10...|  0.0|  [186.0,45.0]|[0.80519480519480...|       0.0|\n",
            "|(11,[0,1,4,5,7,10...|  0.0|[4395.0,517.0]|[0.89474755700325...|       0.0|\n",
            "|(11,[0,1,4,5,7,10...|  0.0|[4395.0,517.0]|[0.89474755700325...|       0.0|\n",
            "|(11,[0,1,4,5,7,10...|  1.0|[4395.0,517.0]|[0.89474755700325...|       0.0|\n",
            "+--------------------+-----+--------------+--------------------+----------+\n",
            "only showing top 20 rows\n",
            "\n"
          ]
        }
      ]
    },
    {
      "cell_type": "markdown",
      "source": [
        "> Avaliação do modelo:\n",
        "\n",
        "> Modelo acertando mais do que o acaso (acima de 50% da Area Under Curve)"
      ],
      "metadata": {
        "id": "gR41R07Dfamz"
      }
    },
    {
      "cell_type": "code",
      "source": [
        "evaluate_clf = BinaryClassificationEvaluator(rawPredictionCol='prediction', \n",
        "                labelCol='label', metricName='areaUnderROC')\n",
        "\n",
        "auc = evaluate_clf.evaluate(churnPred)\n",
        "\n",
        "auc"
      ],
      "metadata": {
        "colab": {
          "base_uri": "https://localhost:8080/"
        },
        "id": "VQrGckO6da7E",
        "outputId": "de654b97-203a-4306-df65-0953fee1c835"
      },
      "execution_count": 27,
      "outputs": [
        {
          "output_type": "execute_result",
          "data": {
            "text/plain": [
              "0.691766299393087"
            ]
          },
          "metadata": {},
          "execution_count": 27
        }
      ]
    },
    {
      "cell_type": "code",
      "source": [],
      "metadata": {
        "id": "uBdSguHRfS9i"
      },
      "execution_count": null,
      "outputs": []
    }
  ]
}