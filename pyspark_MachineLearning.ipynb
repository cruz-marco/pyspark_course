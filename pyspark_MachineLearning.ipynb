{
  "nbformat": 4,
  "nbformat_minor": 0,
  "metadata": {
    "colab": {
      "provenance": [],
      "collapsed_sections": [
        "9gLS0d9AWBsg"
      ],
      "mount_file_id": "1UupLI9ibBROOYB0TYxWJhRqW9kX29TKJ",
      "authorship_tag": "ABX9TyNEhjcoUoCuxCRUQpUTdEpH",
      "include_colab_link": true
    },
    "kernelspec": {
      "name": "python3",
      "display_name": "Python 3"
    },
    "language_info": {
      "name": "python"
    }
  },
  "cells": [
    {
      "cell_type": "markdown",
      "metadata": {
        "id": "view-in-github",
        "colab_type": "text"
      },
      "source": [
        "<a href=\"https://colab.research.google.com/github/cruz-marco/pyspark_course/blob/main/pyspark_MachineLearning.ipynb\" target=\"_parent\"><img src=\"https://colab.research.google.com/assets/colab-badge.svg\" alt=\"Open In Colab\"/></a>"
      ]
    },
    {
      "cell_type": "code",
      "execution_count": 28,
      "metadata": {
        "cellView": "form",
        "id": "mmkJ_z1QDRf0"
      },
      "outputs": [],
      "source": [
        "#@title\n",
        "!apt-get install openjdk-8-jdk-headless -qq > /dev/null\n",
        "!wget -q https://dlcdn.apache.org/spark/spark-3.2.3/spark-3.2.3-bin-hadoop3.2.tgz\n",
        "!tar xf spark-3.2.3-bin-hadoop3.2.tgz\n",
        "\n",
        "import os\n",
        "os.environ[\"JAVA_HOME\"] = \"/usr/lib/jvm/java-8-openjdk-amd64\" \n",
        "os.environ[\"SPARK_HOME\"] = '/content/spark-3.2.3-bin-hadoop3.2'\n",
        "\n",
        "!pip install -q findspark\n",
        "\n",
        "import findspark\n",
        "findspark.init()\n",
        "findspark.find()\n",
        "\n",
        "from pyspark.sql import SparkSession\n",
        "spark = SparkSession.builder.master(\"local[*]\").getOrCreate()\n",
        "sc = spark.sparkContext"
      ]
    },
    {
      "cell_type": "markdown",
      "source": [
        "# Machine Learning com Spark\n",
        "\n",
        "- PySpark tem bibliotecas voltadas para o treinamento e avaliação de modelos de aprendzagem de máquina;\n",
        "\n",
        "- As variáveis independentes devem ficar, todas juntas, em um único vetor;"
      ],
      "metadata": {
        "id": "95j-_A7mId3I"
      }
    },
    {
      "cell_type": "markdown",
      "source": [
        "## Modelos de Regressão\n",
        "\n",
        "> Importe das bibliotecas a serem usadas:"
      ],
      "metadata": {
        "id": "JoP1QInSVOQi"
      }
    },
    {
      "cell_type": "code",
      "source": [
        "from pyspark.ml.regression import LinearRegression, RandomForestRegressor\n",
        "from pyspark.ml.evaluation import RegressionEvaluator\n",
        "from pyspark.ml.feature import VectorAssembler\n",
        "from pyspark.sql import functions as f"
      ],
      "metadata": {
        "id": "kpEt0Ps6D9QB"
      },
      "execution_count": 29,
      "outputs": []
    },
    {
      "cell_type": "markdown",
      "source": [
        "> Criação do DataFrame carros_temp, a idéia deste mini-projeto é prever a potência do carro."
      ],
      "metadata": {
        "id": "SrFLQ67nJFZm"
      }
    },
    {
      "cell_type": "code",
      "source": [
        "carros = spark.read.load(('/content/drive/MyDrive/Datasets/pyspark_course/'\n",
        "                              'Carros.csv'), format='csv', sep=';', header=True,\n",
        "                              inferSchema=True)\n",
        "\n",
        "carros.show()"
      ],
      "metadata": {
        "colab": {
          "base_uri": "https://localhost:8080/"
        },
        "id": "zV6d-GN6Hixe",
        "outputId": "74ecdf26-8042-4b3b-b014-b5eb9fb62ef9"
      },
      "execution_count": 30,
      "outputs": [
        {
          "output_type": "stream",
          "name": "stdout",
          "text": [
            "+-------+---------+-----------+---------------+----+-----+---------+-----------+-------+-----------+---+\n",
            "|Consumo|Cilindros|Cilindradas|RelEixoTraseiro|Peso|Tempo|TipoMotor|Transmissao|Marchas|Carburadors| HP|\n",
            "+-------+---------+-----------+---------------+----+-----+---------+-----------+-------+-----------+---+\n",
            "|     21|        6|        160|             39| 262| 1646|        0|          1|      4|          4|110|\n",
            "|     21|        6|        160|             39|2875| 1702|        0|          1|      4|          4|110|\n",
            "|    228|        4|        108|            385| 232| 1861|        1|          1|      4|          1| 93|\n",
            "|    214|        6|        258|            308|3215| 1944|        1|          0|      3|          1|110|\n",
            "|    187|        8|        360|            315| 344| 1702|        0|          0|      3|          2|175|\n",
            "|    181|        6|        225|            276| 346| 2022|        1|          0|      3|          1|105|\n",
            "|    143|        8|        360|            321| 357| 1584|        0|          0|      3|          4|245|\n",
            "|    244|        4|       1467|            369| 319|   20|        1|          0|      4|          2| 62|\n",
            "|    228|        4|       1408|            392| 315|  229|        1|          0|      4|          2| 95|\n",
            "|    192|        6|       1676|            392| 344|  183|        1|          0|      4|          4|123|\n",
            "|    178|        6|       1676|            392| 344|  189|        1|          0|      4|          4|123|\n",
            "|    164|        8|       2758|            307| 407|  174|        0|          0|      3|          3|180|\n",
            "|    173|        8|       2758|            307| 373|  176|        0|          0|      3|          3|180|\n",
            "|    152|        8|       2758|            307| 378|   18|        0|          0|      3|          3|180|\n",
            "|    104|        8|        472|            293| 525| 1798|        0|          0|      3|          4|205|\n",
            "|    104|        8|        460|              3|5424| 1782|        0|          0|      3|          4|215|\n",
            "|    147|        8|        440|            323|5345| 1742|        0|          0|      3|          4|230|\n",
            "|    324|        4|        787|            408|  22| 1947|        1|          1|      4|          1| 66|\n",
            "|    304|        4|        757|            493|1615| 1852|        1|          1|      4|          2| 52|\n",
            "|    339|        4|        711|            422|1835|  199|        1|          1|      4|          1| 65|\n",
            "+-------+---------+-----------+---------------+----+-----+---------+-----------+-------+-----------+---+\n",
            "only showing top 20 rows\n",
            "\n"
          ]
        }
      ]
    },
    {
      "cell_type": "markdown",
      "source": [
        "> Transformação das colunas em vetores."
      ],
      "metadata": {
        "id": "PJLznpY7VGNk"
      }
    },
    {
      "cell_type": "code",
      "source": [
        "vect_feats = VectorAssembler(inputCols=carros.columns[:-1], outputCol='vected_feats')"
      ],
      "metadata": {
        "id": "OXkg-HxiJuSb"
      },
      "execution_count": 31,
      "outputs": []
    },
    {
      "cell_type": "code",
      "source": [
        "carros = vect_feats.transform(carros)\n",
        "carros.show()"
      ],
      "metadata": {
        "colab": {
          "base_uri": "https://localhost:8080/"
        },
        "id": "HHFBxlm0LGsh",
        "outputId": "121b825d-c1cb-4d32-b288-db534631072f"
      },
      "execution_count": 32,
      "outputs": [
        {
          "output_type": "stream",
          "name": "stdout",
          "text": [
            "+-------+---------+-----------+---------------+----+-----+---------+-----------+-------+-----------+---+--------------------+\n",
            "|Consumo|Cilindros|Cilindradas|RelEixoTraseiro|Peso|Tempo|TipoMotor|Transmissao|Marchas|Carburadors| HP|        vected_feats|\n",
            "+-------+---------+-----------+---------------+----+-----+---------+-----------+-------+-----------+---+--------------------+\n",
            "|     21|        6|        160|             39| 262| 1646|        0|          1|      4|          4|110|[21.0,6.0,160.0,3...|\n",
            "|     21|        6|        160|             39|2875| 1702|        0|          1|      4|          4|110|[21.0,6.0,160.0,3...|\n",
            "|    228|        4|        108|            385| 232| 1861|        1|          1|      4|          1| 93|[228.0,4.0,108.0,...|\n",
            "|    214|        6|        258|            308|3215| 1944|        1|          0|      3|          1|110|[214.0,6.0,258.0,...|\n",
            "|    187|        8|        360|            315| 344| 1702|        0|          0|      3|          2|175|[187.0,8.0,360.0,...|\n",
            "|    181|        6|        225|            276| 346| 2022|        1|          0|      3|          1|105|[181.0,6.0,225.0,...|\n",
            "|    143|        8|        360|            321| 357| 1584|        0|          0|      3|          4|245|[143.0,8.0,360.0,...|\n",
            "|    244|        4|       1467|            369| 319|   20|        1|          0|      4|          2| 62|[244.0,4.0,1467.0...|\n",
            "|    228|        4|       1408|            392| 315|  229|        1|          0|      4|          2| 95|[228.0,4.0,1408.0...|\n",
            "|    192|        6|       1676|            392| 344|  183|        1|          0|      4|          4|123|[192.0,6.0,1676.0...|\n",
            "|    178|        6|       1676|            392| 344|  189|        1|          0|      4|          4|123|[178.0,6.0,1676.0...|\n",
            "|    164|        8|       2758|            307| 407|  174|        0|          0|      3|          3|180|[164.0,8.0,2758.0...|\n",
            "|    173|        8|       2758|            307| 373|  176|        0|          0|      3|          3|180|[173.0,8.0,2758.0...|\n",
            "|    152|        8|       2758|            307| 378|   18|        0|          0|      3|          3|180|[152.0,8.0,2758.0...|\n",
            "|    104|        8|        472|            293| 525| 1798|        0|          0|      3|          4|205|[104.0,8.0,472.0,...|\n",
            "|    104|        8|        460|              3|5424| 1782|        0|          0|      3|          4|215|[104.0,8.0,460.0,...|\n",
            "|    147|        8|        440|            323|5345| 1742|        0|          0|      3|          4|230|[147.0,8.0,440.0,...|\n",
            "|    324|        4|        787|            408|  22| 1947|        1|          1|      4|          1| 66|[324.0,4.0,787.0,...|\n",
            "|    304|        4|        757|            493|1615| 1852|        1|          1|      4|          2| 52|[304.0,4.0,757.0,...|\n",
            "|    339|        4|        711|            422|1835|  199|        1|          1|      4|          1| 65|[339.0,4.0,711.0,...|\n",
            "+-------+---------+-----------+---------------+----+-----+---------+-----------+-------+-----------+---+--------------------+\n",
            "only showing top 20 rows\n",
            "\n"
          ]
        }
      ]
    },
    {
      "cell_type": "markdown",
      "source": [
        "> Separando os dados de treino e teste."
      ],
      "metadata": {
        "id": "F047jfeEVjmU"
      }
    },
    {
      "cell_type": "code",
      "source": [
        "carrosTreino, carrosTeste = carros.randomSplit([0.7, 0.3])\n",
        "\n",
        "display(\n",
        "    carrosTreino.count(),\n",
        "    carrosTeste.count()\n",
        ")"
      ],
      "metadata": {
        "colab": {
          "base_uri": "https://localhost:8080/",
          "height": 52
        },
        "id": "_6CJkBACLfzX",
        "outputId": "86858875-e612-43b5-e6e5-0ddf80800fd4"
      },
      "execution_count": 33,
      "outputs": [
        {
          "output_type": "display_data",
          "data": {
            "text/plain": [
              "21"
            ]
          },
          "metadata": {}
        },
        {
          "output_type": "display_data",
          "data": {
            "text/plain": [
              "11"
            ]
          },
          "metadata": {}
        }
      ]
    },
    {
      "cell_type": "markdown",
      "source": [
        "> Instanciando, treinando e avaliando o algoritmo de regressão linear clássico"
      ],
      "metadata": {
        "id": "GO41I5L5VqDm"
      }
    },
    {
      "cell_type": "code",
      "source": [
        "reglin = LinearRegression(featuresCol='vected_feats', labelCol='HP')\n",
        "model_RL = reglin.fit(carrosTreino)"
      ],
      "metadata": {
        "id": "3XsK8xn2NwcK"
      },
      "execution_count": 34,
      "outputs": []
    },
    {
      "cell_type": "code",
      "source": [
        "carrosPred = model_RL.transform(carrosTeste)\n",
        "carrosPred.show()"
      ],
      "metadata": {
        "colab": {
          "base_uri": "https://localhost:8080/"
        },
        "id": "eHtpV84xOWwg",
        "outputId": "d6b3ca84-5da7-47cb-e49e-30e3b4f3e201"
      },
      "execution_count": 35,
      "outputs": [
        {
          "output_type": "stream",
          "name": "stdout",
          "text": [
            "+-------+---------+-----------+---------------+----+-----+---------+-----------+-------+-----------+---+--------------------+------------------+\n",
            "|Consumo|Cilindros|Cilindradas|RelEixoTraseiro|Peso|Tempo|TipoMotor|Transmissao|Marchas|Carburadors| HP|        vected_feats|        prediction|\n",
            "+-------+---------+-----------+---------------+----+-----+---------+-----------+-------+-----------+---+--------------------+------------------+\n",
            "|    143|        8|        360|            321| 357| 1584|        0|          0|      3|          4|245|[143.0,8.0,360.0,...|218.50008548836007|\n",
            "|    155|        8|        318|            276| 352| 1687|        0|          0|      3|          2|150|[155.0,8.0,318.0,...|173.12829107831396|\n",
            "|    158|        8|        351|            422| 317|  145|        0|          1|      5|          4|264|[158.0,8.0,351.0,...|222.07795439592053|\n",
            "|    173|        8|       2758|            307| 373|  176|        0|          0|      3|          3|180|[173.0,8.0,2758.0...|  169.770121624353|\n",
            "|    181|        6|        225|            276| 346| 2022|        1|          0|      3|          1|105|[181.0,6.0,225.0,...|109.39180427221257|\n",
            "|    192|        6|       1676|            392| 344|  183|        1|          0|      4|          4|123|[192.0,6.0,1676.0...| 165.4421023893313|\n",
            "|    214|        4|        121|            411| 278|  186|        1|          1|      4|          2|109|[214.0,4.0,121.0,...| 76.50136985684793|\n",
            "|    215|        4|       1201|             37|2465| 2001|        1|          0|      3|          1| 97|[215.0,4.0,1201.0...| 4.102589046027958|\n",
            "|    304|        4|        951|            377|1513|  169|        1|          1|      5|          2|113|[304.0,4.0,951.0,...| 53.72763214977809|\n",
            "|    324|        4|        787|            408|  22| 1947|        1|          1|      4|          1| 66|[324.0,4.0,787.0,...|41.182991806426855|\n",
            "|    339|        4|        711|            422|1835|  199|        1|          1|      4|          1| 65|[339.0,4.0,711.0,...| 39.41667680810232|\n",
            "+-------+---------+-----------+---------------+----+-----+---------+-----------+-------+-----------+---+--------------------+------------------+\n",
            "\n"
          ]
        }
      ]
    },
    {
      "cell_type": "code",
      "source": [
        "evaluate = RegressionEvaluator(predictionCol='prediction', labelCol='HP',\n",
        "                               metricName='rmse')\n",
        "\n",
        "rmse_RL = evaluate.evaluate(carrosPred)\n",
        "rmse_RL"
      ],
      "metadata": {
        "colab": {
          "base_uri": "https://localhost:8080/"
        },
        "id": "BgovQVTyOwOb",
        "outputId": "18f3664e-3dca-4fbd-a8a0-1a6a43e3955d"
      },
      "execution_count": 36,
      "outputs": [
        {
          "output_type": "execute_result",
          "data": {
            "text/plain": [
              "41.98439696261191"
            ]
          },
          "metadata": {},
          "execution_count": 36
        }
      ]
    },
    {
      "cell_type": "markdown",
      "source": [
        "> Instanciando, treinando e avaliando o algoritmo de regressão por random forest."
      ],
      "metadata": {
        "id": "e2xtgsATV2fX"
      }
    },
    {
      "cell_type": "code",
      "source": [
        "rfreg = RandomForestRegressor(featuresCol='vected_feats', labelCol='HP')\n",
        "model_RF = rfreg.fit(carrosTreino)"
      ],
      "metadata": {
        "id": "hfwzR1g8Pp8_"
      },
      "execution_count": 37,
      "outputs": []
    },
    {
      "cell_type": "code",
      "source": [
        "carrosPredRF = model_RF.transform(carrosTeste)\n",
        "carrosPredRF.show()"
      ],
      "metadata": {
        "colab": {
          "base_uri": "https://localhost:8080/"
        },
        "id": "lhvHhfJIQdQP",
        "outputId": "9eb897cd-6ca9-44a4-8a9b-ba3321efce93"
      },
      "execution_count": 38,
      "outputs": [
        {
          "output_type": "stream",
          "name": "stdout",
          "text": [
            "+-------+---------+-----------+---------------+----+-----+---------+-----------+-------+-----------+---+--------------------+-----------------+\n",
            "|Consumo|Cilindros|Cilindradas|RelEixoTraseiro|Peso|Tempo|TipoMotor|Transmissao|Marchas|Carburadors| HP|        vected_feats|       prediction|\n",
            "+-------+---------+-----------+---------------+----+-----+---------+-----------+-------+-----------+---+--------------------+-----------------+\n",
            "|    143|        8|        360|            321| 357| 1584|        0|          0|      3|          4|245|[143.0,8.0,360.0,...|           215.95|\n",
            "|    155|        8|        318|            276| 352| 1687|        0|          0|      3|          2|150|[155.0,8.0,318.0,...|          164.075|\n",
            "|    158|        8|        351|            422| 317|  145|        0|          1|      5|          4|264|[158.0,8.0,351.0,...|          176.975|\n",
            "|    173|        8|       2758|            307| 373|  176|        0|          0|      3|          3|180|[173.0,8.0,2758.0...|            181.3|\n",
            "|    181|        6|        225|            276| 346| 2022|        1|          0|      3|          1|105|[181.0,6.0,225.0,...|          125.775|\n",
            "|    192|        6|       1676|            392| 344|  183|        1|          0|      4|          4|123|[192.0,6.0,1676.0...|           128.75|\n",
            "|    214|        4|        121|            411| 278|  186|        1|          1|      4|          2|109|[214.0,4.0,121.0,...|99.65833333333333|\n",
            "|    215|        4|       1201|             37|2465| 2001|        1|          0|      3|          1| 97|[215.0,4.0,1201.0...|           112.25|\n",
            "|    304|        4|        951|            377|1513|  169|        1|          1|      5|          2|113|[304.0,4.0,951.0,...|            68.55|\n",
            "|    324|        4|        787|            408|  22| 1947|        1|          1|      4|          1| 66|[324.0,4.0,787.0,...|            64.65|\n",
            "|    339|        4|        711|            422|1835|  199|        1|          1|      4|          1| 65|[339.0,4.0,711.0,...|62.43333333333334|\n",
            "+-------+---------+-----------+---------------+----+-----+---------+-----------+-------+-----------+---+--------------------+-----------------+\n",
            "\n"
          ]
        }
      ]
    },
    {
      "cell_type": "code",
      "source": [
        "rmse_RF = evaluate.evaluate(carrosPredRF)\n",
        "rmse_RF"
      ],
      "metadata": {
        "colab": {
          "base_uri": "https://localhost:8080/"
        },
        "id": "5B_UEtlcQn4J",
        "outputId": "3b8a19ad-aa2c-4e63-e7bb-ddf7a2838a06"
      },
      "execution_count": 39,
      "outputs": [
        {
          "output_type": "execute_result",
          "data": {
            "text/plain": [
              "32.172481025770075"
            ]
          },
          "metadata": {},
          "execution_count": 39
        }
      ]
    },
    {
      "cell_type": "markdown",
      "source": [
        "## Modelo de Classificação"
      ],
      "metadata": {
        "id": "9gLS0d9AWBsg"
      }
    },
    {
      "cell_type": "markdown",
      "source": [
        "> Import das bibliotecas a serem usadas"
      ],
      "metadata": {
        "id": "TzcjF-uZbPQg"
      }
    },
    {
      "cell_type": "code",
      "source": [
        "from pyspark.ml.feature import RFormula\n",
        "from pyspark.ml.classification import DecisionTreeClassifier\n",
        "from pyspark.ml.evaluation import BinaryClassificationEvaluator"
      ],
      "metadata": {
        "id": "dt-IjgBXQ1KJ"
      },
      "execution_count": 40,
      "outputs": []
    },
    {
      "cell_type": "markdown",
      "source": [
        "> Criação do DataFrame"
      ],
      "metadata": {
        "id": "xPohkzm-bScm"
      }
    },
    {
      "cell_type": "code",
      "source": [
        "churn = spark.read.load(('/content/drive/MyDrive/Datasets/pyspark_course/Churn'\n",
        "        '.csv'), format='csv', sep=';', header=True, inferSchema=True)\n",
        "\n",
        "churn.show(5)"
      ],
      "metadata": {
        "colab": {
          "base_uri": "https://localhost:8080/"
        },
        "id": "WJFbLT6LWhZe",
        "outputId": "63b34d7c-a82a-47b7-d228-ecbe776f5888"
      },
      "execution_count": 41,
      "outputs": [
        {
          "output_type": "stream",
          "name": "stdout",
          "text": [
            "+-----------+---------+------+---+------+--------+-------------+---------+--------------+---------------+------+\n",
            "|CreditScore|Geography|Gender|Age|Tenure| Balance|NumOfProducts|HasCrCard|IsActiveMember|EstimatedSalary|Exited|\n",
            "+-----------+---------+------+---+------+--------+-------------+---------+--------------+---------------+------+\n",
            "|        619|   France|Female| 42|     2|       0|            1|        1|             1|       10134888|     1|\n",
            "|        608|    Spain|Female| 41|     1| 8380786|            1|        0|             1|       11254258|     0|\n",
            "|        502|   France|Female| 42|     8| 1596608|            3|        1|             0|       11393157|     1|\n",
            "|        699|   France|Female| 39|     1|       0|            2|        0|             0|        9382663|     0|\n",
            "|        850|    Spain|Female| 43|     2|12551082|            1|        1|             1|         790841|     0|\n",
            "+-----------+---------+------+---+------+--------+-------------+---------+--------------+---------------+------+\n",
            "only showing top 5 rows\n",
            "\n"
          ]
        }
      ]
    },
    {
      "cell_type": "markdown",
      "source": [
        "> Separação/Transformação dos dados:\n",
        "\n",
        "- RFormula recebe uma fórmula do R e executa a transformação dos dados (one hot encoding e vetorização) usando métodos cuja lógica é semelhante a um modelo de machine learning. Lógica empregada no parâmetro fórmula: variável_target ~ features (usando o ponto '.' após o til indica que todas as outras colunas serão usadas como feature."
      ],
      "metadata": {
        "id": "BsGm3Q5TbVVu"
      }
    },
    {
      "cell_type": "code",
      "source": [
        "formula = RFormula(formula='Exited ~ .', featuresCol='features', \n",
        "                   labelCol='label', handleInvalid='skip')\n",
        "\n",
        "churn_rdy = formula.fit(churn).transform(churn).select('features', 'label')\n",
        "\n",
        "churn_rdy.show(truncate=False)"
      ],
      "metadata": {
        "colab": {
          "base_uri": "https://localhost:8080/"
        },
        "id": "eMD8o6KtW6YX",
        "outputId": "f62f4e56-a454-4a5c-b00c-28418aafc0ef"
      },
      "execution_count": 42,
      "outputs": [
        {
          "output_type": "stream",
          "name": "stdout",
          "text": [
            "+----------------------------------------------------------------+-----+\n",
            "|features                                                        |label|\n",
            "+----------------------------------------------------------------+-----+\n",
            "|[619.0,1.0,0.0,0.0,42.0,2.0,0.0,1.0,1.0,1.0,1.0134888E7]        |1.0  |\n",
            "|[608.0,0.0,0.0,0.0,41.0,1.0,8380786.0,1.0,0.0,1.0,1.1254258E7]  |0.0  |\n",
            "|[502.0,1.0,0.0,0.0,42.0,8.0,1596608.0,3.0,1.0,0.0,1.1393157E7]  |1.0  |\n",
            "|(11,[0,1,4,5,7,10],[699.0,1.0,39.0,1.0,2.0,9382663.0])          |0.0  |\n",
            "|[850.0,0.0,0.0,0.0,43.0,2.0,1.2551082E7,1.0,1.0,1.0,790841.0]   |0.0  |\n",
            "|[645.0,0.0,0.0,1.0,44.0,8.0,1.1375578E7,2.0,1.0,0.0,1.4975671E7]|1.0  |\n",
            "|[822.0,1.0,0.0,1.0,50.0,7.0,0.0,2.0,1.0,1.0,100628.0]           |0.0  |\n",
            "|[376.0,0.0,1.0,0.0,29.0,4.0,1.1504674E7,4.0,1.0,0.0,1.1934688E7]|1.0  |\n",
            "|[501.0,1.0,0.0,1.0,44.0,4.0,1.4205107E7,2.0,0.0,1.0,749405.0]   |0.0  |\n",
            "|[684.0,1.0,0.0,1.0,27.0,2.0,1.3460388E7,1.0,1.0,1.0,7172573.0]  |0.0  |\n",
            "|[528.0,1.0,0.0,1.0,31.0,6.0,1.0201672E7,2.0,0.0,0.0,8018112.0]  |0.0  |\n",
            "|[497.0,0.0,0.0,1.0,24.0,3.0,0.0,2.0,1.0,0.0,7639001.0]          |0.0  |\n",
            "|[476.0,1.0,0.0,0.0,34.0,10.0,0.0,2.0,1.0,0.0,2626098.0]         |0.0  |\n",
            "|(11,[0,1,4,5,7,10],[549.0,1.0,25.0,5.0,2.0,1.9085779E7])        |0.0  |\n",
            "|[635.0,0.0,0.0,0.0,35.0,7.0,0.0,2.0,1.0,1.0,6595165.0]          |0.0  |\n",
            "|[616.0,0.0,1.0,1.0,45.0,3.0,1.4312941E7,2.0,0.0,1.0,6432726.0]  |0.0  |\n",
            "|[653.0,0.0,1.0,1.0,58.0,1.0,1.3260288E7,1.0,1.0,0.0,509767.0]   |1.0  |\n",
            "|[549.0,0.0,0.0,0.0,24.0,9.0,0.0,2.0,1.0,1.0,1440641.0]          |0.0  |\n",
            "|(11,[0,3,4,5,7,10],[587.0,1.0,45.0,6.0,1.0,1.5868481E7])        |0.0  |\n",
            "|[726.0,1.0,0.0,0.0,24.0,6.0,0.0,2.0,1.0,1.0,5472403.0]          |0.0  |\n",
            "+----------------------------------------------------------------+-----+\n",
            "only showing top 20 rows\n",
            "\n"
          ]
        }
      ]
    },
    {
      "cell_type": "markdown",
      "source": [
        "> Separação em treino e teste"
      ],
      "metadata": {
        "id": "P3dlP9_Ifjmw"
      }
    },
    {
      "cell_type": "code",
      "source": [
        "churnTreino, churnTeste = churn_rdy.randomSplit([0.7, 0.3])\n",
        "\n",
        "display(\n",
        "    churnTreino.count(),\n",
        "    churnTeste.count()\n",
        ")"
      ],
      "metadata": {
        "colab": {
          "base_uri": "https://localhost:8080/",
          "height": 0
        },
        "id": "CXv0yRV8a7mV",
        "outputId": "ebbde4ab-5a51-4099-d95b-a739a8abd52e"
      },
      "execution_count": 43,
      "outputs": [
        {
          "output_type": "display_data",
          "data": {
            "text/plain": [
              "7082"
            ]
          },
          "metadata": {}
        },
        {
          "output_type": "display_data",
          "data": {
            "text/plain": [
              "2918"
            ]
          },
          "metadata": {}
        }
      ]
    },
    {
      "cell_type": "markdown",
      "source": [
        "> Instanciação e treino do classificador"
      ],
      "metadata": {
        "id": "jH9qw8ckfnOi"
      }
    },
    {
      "cell_type": "code",
      "source": [
        "clf = DecisionTreeClassifier(labelCol='label', featuresCol='features')\n",
        "model_clf = clf.fit(churnTreino)"
      ],
      "metadata": {
        "id": "iETAsfVScc4l"
      },
      "execution_count": 44,
      "outputs": []
    },
    {
      "cell_type": "markdown",
      "source": [
        "> Previsão do modelo"
      ],
      "metadata": {
        "id": "YBe4jTKQfsEV"
      }
    },
    {
      "cell_type": "code",
      "source": [
        "churnPred = model_clf.transform(churnTeste)\n",
        "\n",
        "churnPred.show()"
      ],
      "metadata": {
        "colab": {
          "base_uri": "https://localhost:8080/"
        },
        "id": "fXId9q04dBu9",
        "outputId": "dcc8332d-5c44-404b-9a26-610be9b48919"
      },
      "execution_count": 45,
      "outputs": [
        {
          "output_type": "stream",
          "name": "stdout",
          "text": [
            "+--------------------+-----+--------------+--------------------+----------+\n",
            "|            features|label| rawPrediction|         probability|prediction|\n",
            "+--------------------+-----+--------------+--------------------+----------+\n",
            "|(11,[0,1,3,4,7,10...|  0.0|[4402.0,504.0]|[0.89726865063187...|       0.0|\n",
            "|(11,[0,1,4,5,7,10...|  0.0|[4402.0,504.0]|[0.89726865063187...|       0.0|\n",
            "|(11,[0,1,4,5,7,10...|  1.0|  [181.0,37.0]|[0.83027522935779...|       0.0|\n",
            "|(11,[0,1,4,5,7,10...|  0.0|[4402.0,504.0]|[0.89726865063187...|       0.0|\n",
            "|(11,[0,1,4,5,7,10...|  0.0|[4402.0,504.0]|[0.89726865063187...|       0.0|\n",
            "|(11,[0,1,4,5,7,10...|  0.0|[4402.0,504.0]|[0.89726865063187...|       0.0|\n",
            "|(11,[0,1,4,5,7,10...|  0.0|[4402.0,504.0]|[0.89726865063187...|       0.0|\n",
            "|(11,[0,1,4,5,7,10...|  1.0| [119.0,114.0]|[0.51072961373390...|       0.0|\n",
            "|(11,[0,1,4,5,7,10...|  1.0|[4402.0,504.0]|[0.89726865063187...|       0.0|\n",
            "|(11,[0,1,4,5,7,10...|  0.0|[4402.0,504.0]|[0.89726865063187...|       0.0|\n",
            "|(11,[0,1,4,5,7,10...|  1.0| [119.0,114.0]|[0.51072961373390...|       0.0|\n",
            "|(11,[0,1,4,5,7,10...|  0.0|[4402.0,504.0]|[0.89726865063187...|       0.0|\n",
            "|(11,[0,1,4,5,7,10...|  0.0|  [181.0,37.0]|[0.83027522935779...|       0.0|\n",
            "|(11,[0,1,4,5,7,10...|  0.0|[4402.0,504.0]|[0.89726865063187...|       0.0|\n",
            "|(11,[0,1,4,5,7,10...|  1.0|  [181.0,37.0]|[0.83027522935779...|       0.0|\n",
            "|(11,[0,1,4,5,7,10...|  0.0|[4402.0,504.0]|[0.89726865063187...|       0.0|\n",
            "|(11,[0,1,4,5,7,10...|  0.0|[4402.0,504.0]|[0.89726865063187...|       0.0|\n",
            "|(11,[0,1,4,5,7,10...|  0.0|[4402.0,504.0]|[0.89726865063187...|       0.0|\n",
            "|(11,[0,1,4,5,7,10...|  0.0|[4402.0,504.0]|[0.89726865063187...|       0.0|\n",
            "|(11,[0,1,4,5,7,10...|  0.0|[4402.0,504.0]|[0.89726865063187...|       0.0|\n",
            "+--------------------+-----+--------------+--------------------+----------+\n",
            "only showing top 20 rows\n",
            "\n"
          ]
        }
      ]
    },
    {
      "cell_type": "markdown",
      "source": [
        "> Avaliação do modelo:\n",
        "\n",
        "> Modelo acertando mais do que o acaso (acima de 50% da Area Under Curve)"
      ],
      "metadata": {
        "id": "gR41R07Dfamz"
      }
    },
    {
      "cell_type": "code",
      "source": [
        "evaluate_clf = BinaryClassificationEvaluator(rawPredictionCol='prediction', \n",
        "                labelCol='label', metricName='areaUnderROC')\n",
        "\n",
        "auc = evaluate_clf.evaluate(churnPred)\n",
        "\n",
        "auc"
      ],
      "metadata": {
        "colab": {
          "base_uri": "https://localhost:8080/"
        },
        "id": "VQrGckO6da7E",
        "outputId": "bb9cf4ae-136b-439d-a384-8c649d34a2ec"
      },
      "execution_count": 46,
      "outputs": [
        {
          "output_type": "execute_result",
          "data": {
            "text/plain": [
              "0.7037557198247631"
            ]
          },
          "metadata": {},
          "execution_count": 46
        }
      ]
    },
    {
      "cell_type": "markdown",
      "source": [
        "## Pipelines\n",
        "\n",
        "- Pipelines são formas de automatizar o fluxo de transformações e treino de um modelo, é a automatização juntamente com a abstração do workflow do modelo."
      ],
      "metadata": {
        "id": "J6wwIMh2hGV6"
      }
    },
    {
      "cell_type": "markdown",
      "source": [
        "> Importando a classe Pipeline"
      ],
      "metadata": {
        "id": "xgOkCo3h23lQ"
      }
    },
    {
      "cell_type": "code",
      "source": [
        "from pyspark.ml import Pipeline"
      ],
      "metadata": {
        "id": "ideqz6Wk0sJM"
      },
      "execution_count": 58,
      "outputs": []
    },
    {
      "cell_type": "markdown",
      "source": [
        "> Recriando o DataFrame de carros"
      ],
      "metadata": {
        "id": "ncO44Sqt27MW"
      }
    },
    {
      "cell_type": "code",
      "source": [
        "carros_2 = spark.read.load(('/content/drive/MyDrive/Datasets/pyspark_course/'\n",
        "                              'Carros.csv'), format='csv', sep=';', header=True,\n",
        "                              inferSchema=True)\n",
        "\n",
        "carros_2.show(5)"
      ],
      "metadata": {
        "id": "uBdSguHRfS9i",
        "colab": {
          "base_uri": "https://localhost:8080/"
        },
        "outputId": "6e8da1ae-91d4-4175-b579-19f17b5166fd"
      },
      "execution_count": 59,
      "outputs": [
        {
          "output_type": "stream",
          "name": "stdout",
          "text": [
            "+-------+---------+-----------+---------------+----+-----+---------+-----------+-------+-----------+---+\n",
            "|Consumo|Cilindros|Cilindradas|RelEixoTraseiro|Peso|Tempo|TipoMotor|Transmissao|Marchas|Carburadors| HP|\n",
            "+-------+---------+-----------+---------------+----+-----+---------+-----------+-------+-----------+---+\n",
            "|     21|        6|        160|             39| 262| 1646|        0|          1|      4|          4|110|\n",
            "|     21|        6|        160|             39|2875| 1702|        0|          1|      4|          4|110|\n",
            "|    228|        4|        108|            385| 232| 1861|        1|          1|      4|          1| 93|\n",
            "|    214|        6|        258|            308|3215| 1944|        1|          0|      3|          1|110|\n",
            "|    187|        8|        360|            315| 344| 1702|        0|          0|      3|          2|175|\n",
            "+-------+---------+-----------+---------------+----+-----+---------+-----------+-------+-----------+---+\n",
            "only showing top 5 rows\n",
            "\n"
          ]
        }
      ]
    },
    {
      "cell_type": "markdown",
      "source": [
        "> Separando as features de interesse e a variável dependente (label/target)"
      ],
      "metadata": {
        "id": "U1BbwUIE3A_r"
      }
    },
    {
      "cell_type": "code",
      "source": [
        "feats = ['Consumo', 'Cilindros', 'Cilindradas', 'HP']\n",
        "\n",
        "carros_ftd = carros_2.select(feats)\n",
        "\n",
        "carros_ftd.show(5)"
      ],
      "metadata": {
        "colab": {
          "base_uri": "https://localhost:8080/"
        },
        "id": "K0IKLjzqy4RO",
        "outputId": "0875bde3-53ca-4ed5-bfc6-5c8f9bba7b91"
      },
      "execution_count": 60,
      "outputs": [
        {
          "output_type": "stream",
          "name": "stdout",
          "text": [
            "+-------+---------+-----------+---+\n",
            "|Consumo|Cilindros|Cilindradas| HP|\n",
            "+-------+---------+-----------+---+\n",
            "|     21|        6|        160|110|\n",
            "|     21|        6|        160|110|\n",
            "|    228|        4|        108| 93|\n",
            "|    214|        6|        258|110|\n",
            "|    187|        8|        360|175|\n",
            "+-------+---------+-----------+---+\n",
            "only showing top 5 rows\n",
            "\n"
          ]
        }
      ]
    },
    {
      "cell_type": "markdown",
      "source": [
        "> Vetorizando as features em uma nova coluna de vetores chamada características:"
      ],
      "metadata": {
        "id": "iti1mDYU4UJg"
      }
    },
    {
      "cell_type": "code",
      "source": [
        "vctzd_feats = VectorAssembler(inputCols=feats[:-1], outputCol='caracteristicas')\n",
        "\n",
        "v_carros_ftd = vctzd_feats.transform(carros_ftd)\n",
        "\n",
        "v_carros_ftd.show(5)"
      ],
      "metadata": {
        "colab": {
          "base_uri": "https://localhost:8080/"
        },
        "id": "6Geoc84VzU-f",
        "outputId": "b6da112f-9765-4cc3-b8d6-a4f50533574f"
      },
      "execution_count": 61,
      "outputs": [
        {
          "output_type": "stream",
          "name": "stdout",
          "text": [
            "+-------+---------+-----------+---+-----------------+\n",
            "|Consumo|Cilindros|Cilindradas| HP|  caracteristicas|\n",
            "+-------+---------+-----------+---+-----------------+\n",
            "|     21|        6|        160|110| [21.0,6.0,160.0]|\n",
            "|     21|        6|        160|110| [21.0,6.0,160.0]|\n",
            "|    228|        4|        108| 93|[228.0,4.0,108.0]|\n",
            "|    214|        6|        258|110|[214.0,6.0,258.0]|\n",
            "|    187|        8|        360|175|[187.0,8.0,360.0]|\n",
            "+-------+---------+-----------+---+-----------------+\n",
            "only showing top 5 rows\n",
            "\n"
          ]
        }
      ]
    },
    {
      "cell_type": "markdown",
      "source": [
        "> Instanciação e treinamento do modelo de regressão linear"
      ],
      "metadata": {
        "id": "aHT52vBX4enb"
      }
    },
    {
      "cell_type": "code",
      "source": [
        "reglin2 = LinearRegression(featuresCol='caracteristicas', labelCol='HP')\n",
        "modelo = reglin2.fit(v_carros_ftd)"
      ],
      "metadata": {
        "id": "dwhsXDpQ0Ajt"
      },
      "execution_count": 62,
      "outputs": []
    },
    {
      "cell_type": "markdown",
      "source": [
        "> Montagem da pipeline com 2 estágios: Vetorização (objeto vctzd_feats) e Configuração do modelo (reglin2)"
      ],
      "metadata": {
        "id": "TcFnEzjx4kdS"
      }
    },
    {
      "cell_type": "code",
      "source": [
        "pipeline = Pipeline(stages=[vctzd_feats, reglin2])\n",
        "\n",
        "pipeModel = pipeline.fit(carros_2)"
      ],
      "metadata": {
        "id": "ZF_MejWq1okW"
      },
      "execution_count": 64,
      "outputs": []
    },
    {
      "cell_type": "markdown",
      "source": [
        "> Previsão usando o objeto pipeModel (com o modelo treinado)"
      ],
      "metadata": {
        "id": "8TLzgVhj42nX"
      }
    },
    {
      "cell_type": "code",
      "source": [
        "prediction = pipeModel.transform(carros_2)\n",
        "prediction.show()"
      ],
      "metadata": {
        "colab": {
          "base_uri": "https://localhost:8080/"
        },
        "id": "9JQ9_WjQ2XM1",
        "outputId": "2233ed70-90ef-4e9c-f530-7d20b9972c6d"
      },
      "execution_count": 65,
      "outputs": [
        {
          "output_type": "stream",
          "name": "stdout",
          "text": [
            "+-------+---------+-----------+---------------+----+-----+---------+-----------+-------+-----------+---+------------------+------------------+\n",
            "|Consumo|Cilindros|Cilindradas|RelEixoTraseiro|Peso|Tempo|TipoMotor|Transmissao|Marchas|Carburadors| HP|   caracteristicas|        prediction|\n",
            "+-------+---------+-----------+---------------+----+-----+---------+-----------+-------+-----------+---+------------------+------------------+\n",
            "|     21|        6|        160|             39| 262| 1646|        0|          1|      4|          4|110|  [21.0,6.0,160.0]|162.32154816816643|\n",
            "|     21|        6|        160|             39|2875| 1702|        0|          1|      4|          4|110|  [21.0,6.0,160.0]|162.32154816816643|\n",
            "|    228|        4|        108|            385| 232| 1861|        1|          1|      4|          1| 93| [228.0,4.0,108.0]| 82.51715587712931|\n",
            "|    214|        6|        258|            308|3215| 1944|        1|          0|      3|          1|110| [214.0,6.0,258.0]|141.86680518718757|\n",
            "|    187|        8|        360|            315| 344| 1702|        0|          0|      3|          2|175| [187.0,8.0,360.0]|202.93528239714834|\n",
            "|    181|        6|        225|            276| 346| 2022|        1|          0|      3|          1|105| [181.0,6.0,225.0]| 145.4980634611832|\n",
            "|    143|        8|        360|            321| 357| 1584|        0|          0|      3|          4|245| [143.0,8.0,360.0]|207.41448530972002|\n",
            "|    244|        4|       1467|            369| 319|   20|        1|          0|      4|          2| 62|[244.0,4.0,1467.0]| 69.69282676584852|\n",
            "|    228|        4|       1408|            392| 315|  229|        1|          0|      4|          2| 95|[228.0,4.0,1408.0]| 71.80767356085781|\n",
            "|    192|        6|       1676|            392| 344|  183|        1|          0|      4|          4|123|[192.0,6.0,1676.0]|132.42483285541724|\n",
            "|    178|        6|       1676|            392| 344|  189|        1|          0|      4|          4|123|[178.0,6.0,1676.0]|133.85003378214458|\n",
            "|    164|        8|       2758|            307| 407|  174|        0|          0|      3|          3|180|[164.0,8.0,2758.0]|185.52180807776816|\n",
            "|    173|        8|       2758|            307| 373|  176|        0|          0|      3|          3|180|[173.0,8.0,2758.0]|184.60560748201488|\n",
            "|    152|        8|       2758|            307| 378|   18|        0|          0|      3|          3|180|[152.0,8.0,2758.0]|186.74340887210587|\n",
            "|    104|        8|        472|            293| 525| 1798|        0|          0|      3|          4|205| [104.0,8.0,472.0]| 210.4620247994542|\n",
            "|    104|        8|        460|              3|5424| 1782|        0|          0|      3|          4|215| [104.0,8.0,460.0]|210.56088155929672|\n",
            "|    147|        8|        440|            323|5345| 1742|        0|          0|      3|          4|230| [147.0,8.0,440.0]|206.34823997932406|\n",
            "|    324|        4|        787|            408|  22| 1947|        1|          1|      4|          1| 66| [324.0,4.0,787.0]|  67.1507045280057|\n",
            "|    304|        4|        757|            493|1615| 1852|        1|          1|      4|          2| 52| [304.0,4.0,757.0]| 69.43384775150818|\n",
            "|    339|        4|        711|            422|1835|  199|        1|          1|      4|          1| 65| [339.0,4.0,711.0]| 66.24979634741942|\n",
            "+-------+---------+-----------+---------------+----+-----+---------+-----------+-------+-----------+---+------------------+------------------+\n",
            "only showing top 20 rows\n",
            "\n"
          ]
        }
      ]
    }
  ]
}