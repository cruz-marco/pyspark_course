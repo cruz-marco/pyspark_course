{
  "nbformat": 4,
  "nbformat_minor": 0,
  "metadata": {
    "colab": {
      "provenance": [],
      "mount_file_id": "1UupLI9ibBROOYB0TYxWJhRqW9kX29TKJ",
      "authorship_tag": "ABX9TyOZyLT/AKOzjGSWijb2otMl",
      "include_colab_link": true
    },
    "kernelspec": {
      "name": "python3",
      "display_name": "Python 3"
    },
    "language_info": {
      "name": "python"
    }
  },
  "cells": [
    {
      "cell_type": "markdown",
      "metadata": {
        "id": "view-in-github",
        "colab_type": "text"
      },
      "source": [
        "<a href=\"https://colab.research.google.com/github/cruz-marco/pyspark_course/blob/main/pyspark_MachineLearning.ipynb\" target=\"_parent\"><img src=\"https://colab.research.google.com/assets/colab-badge.svg\" alt=\"Open In Colab\"/></a>"
      ]
    },
    {
      "cell_type": "code",
      "execution_count": 1,
      "metadata": {
        "id": "mmkJ_z1QDRf0"
      },
      "outputs": [],
      "source": [
        "#@title\n",
        "!apt-get install openjdk-8-jdk-headless -qq > /dev/null\n",
        "!wget -q https://dlcdn.apache.org/spark/spark-3.2.3/spark-3.2.3-bin-hadoop3.2.tgz\n",
        "!tar xf spark-3.2.3-bin-hadoop3.2.tgz\n",
        "\n",
        "import os\n",
        "os.environ[\"JAVA_HOME\"] = \"/usr/lib/jvm/java-8-openjdk-amd64\" \n",
        "os.environ[\"SPARK_HOME\"] = '/content/spark-3.2.3-bin-hadoop3.2'\n",
        "\n",
        "!pip install -q findspark\n",
        "\n",
        "import findspark\n",
        "findspark.init()\n",
        "findspark.find()\n",
        "\n",
        "from pyspark.sql import SparkSession\n",
        "spark = SparkSession.builder.master(\"local[*]\").getOrCreate()\n",
        "sc = spark.sparkContext"
      ]
    },
    {
      "cell_type": "markdown",
      "source": [
        "# Machine Learning com Spark\n",
        "\n",
        "- PySpark tem bibliotecas voltadas para o treinamento e avaliação de modelos de aprendzagem de máquina;\n",
        "\n",
        "- As variáveis independentes devem ficar, todas juntas, em um único vetor;\n",
        "\n",
        "\n",
        "> Importe das bibliotecas a serem usadas:"
      ],
      "metadata": {
        "id": "95j-_A7mId3I"
      }
    },
    {
      "cell_type": "code",
      "source": [
        "from pyspark.ml.regression import LinearRegression, RandomForestRegressor\n",
        "from pyspark.ml.evaluation import RegressionEvaluator\n",
        "from pyspark.ml.feature import VectorAssembler\n",
        "from pyspark.sql import functions as f"
      ],
      "metadata": {
        "id": "kpEt0Ps6D9QB"
      },
      "execution_count": 2,
      "outputs": []
    },
    {
      "cell_type": "markdown",
      "source": [
        "> Criação do DataFrame carros_temp, a idéia deste mini-projeto é prever a potência do carro."
      ],
      "metadata": {
        "id": "SrFLQ67nJFZm"
      }
    },
    {
      "cell_type": "code",
      "source": [
        "carros = spark.read.load(('/content/drive/MyDrive/Datasets/pyspark_course/'\n",
        "                              'Carros.csv'), format='csv', sep=';', header=True,\n",
        "                              inferSchema=True)\n",
        "\n",
        "carros.show()"
      ],
      "metadata": {
        "colab": {
          "base_uri": "https://localhost:8080/"
        },
        "id": "zV6d-GN6Hixe",
        "outputId": "aa5c56ca-6f52-4ce7-9603-cea9477acc66"
      },
      "execution_count": 3,
      "outputs": [
        {
          "output_type": "stream",
          "name": "stdout",
          "text": [
            "+-------+---------+-----------+---------------+----+-----+---------+-----------+-------+-----------+---+\n",
            "|Consumo|Cilindros|Cilindradas|RelEixoTraseiro|Peso|Tempo|TipoMotor|Transmissao|Marchas|Carburadors| HP|\n",
            "+-------+---------+-----------+---------------+----+-----+---------+-----------+-------+-----------+---+\n",
            "|     21|        6|        160|             39| 262| 1646|        0|          1|      4|          4|110|\n",
            "|     21|        6|        160|             39|2875| 1702|        0|          1|      4|          4|110|\n",
            "|    228|        4|        108|            385| 232| 1861|        1|          1|      4|          1| 93|\n",
            "|    214|        6|        258|            308|3215| 1944|        1|          0|      3|          1|110|\n",
            "|    187|        8|        360|            315| 344| 1702|        0|          0|      3|          2|175|\n",
            "|    181|        6|        225|            276| 346| 2022|        1|          0|      3|          1|105|\n",
            "|    143|        8|        360|            321| 357| 1584|        0|          0|      3|          4|245|\n",
            "|    244|        4|       1467|            369| 319|   20|        1|          0|      4|          2| 62|\n",
            "|    228|        4|       1408|            392| 315|  229|        1|          0|      4|          2| 95|\n",
            "|    192|        6|       1676|            392| 344|  183|        1|          0|      4|          4|123|\n",
            "|    178|        6|       1676|            392| 344|  189|        1|          0|      4|          4|123|\n",
            "|    164|        8|       2758|            307| 407|  174|        0|          0|      3|          3|180|\n",
            "|    173|        8|       2758|            307| 373|  176|        0|          0|      3|          3|180|\n",
            "|    152|        8|       2758|            307| 378|   18|        0|          0|      3|          3|180|\n",
            "|    104|        8|        472|            293| 525| 1798|        0|          0|      3|          4|205|\n",
            "|    104|        8|        460|              3|5424| 1782|        0|          0|      3|          4|215|\n",
            "|    147|        8|        440|            323|5345| 1742|        0|          0|      3|          4|230|\n",
            "|    324|        4|        787|            408|  22| 1947|        1|          1|      4|          1| 66|\n",
            "|    304|        4|        757|            493|1615| 1852|        1|          1|      4|          2| 52|\n",
            "|    339|        4|        711|            422|1835|  199|        1|          1|      4|          1| 65|\n",
            "+-------+---------+-----------+---------------+----+-----+---------+-----------+-------+-----------+---+\n",
            "only showing top 20 rows\n",
            "\n"
          ]
        }
      ]
    },
    {
      "cell_type": "code",
      "source": [
        "vect_feats = VectorAssembler(inputCols=carros.columns[:-1], outputCol='vected_feats')"
      ],
      "metadata": {
        "id": "OXkg-HxiJuSb"
      },
      "execution_count": 4,
      "outputs": []
    },
    {
      "cell_type": "code",
      "source": [
        "carros = vect_feats.transform(carros)\n",
        "carros.show()"
      ],
      "metadata": {
        "colab": {
          "base_uri": "https://localhost:8080/"
        },
        "id": "HHFBxlm0LGsh",
        "outputId": "8ac365ac-b7d5-497f-a5eb-05d67eb44aba"
      },
      "execution_count": 5,
      "outputs": [
        {
          "output_type": "stream",
          "name": "stdout",
          "text": [
            "+-------+---------+-----------+---------------+----+-----+---------+-----------+-------+-----------+---+--------------------+\n",
            "|Consumo|Cilindros|Cilindradas|RelEixoTraseiro|Peso|Tempo|TipoMotor|Transmissao|Marchas|Carburadors| HP|        vected_feats|\n",
            "+-------+---------+-----------+---------------+----+-----+---------+-----------+-------+-----------+---+--------------------+\n",
            "|     21|        6|        160|             39| 262| 1646|        0|          1|      4|          4|110|[21.0,6.0,160.0,3...|\n",
            "|     21|        6|        160|             39|2875| 1702|        0|          1|      4|          4|110|[21.0,6.0,160.0,3...|\n",
            "|    228|        4|        108|            385| 232| 1861|        1|          1|      4|          1| 93|[228.0,4.0,108.0,...|\n",
            "|    214|        6|        258|            308|3215| 1944|        1|          0|      3|          1|110|[214.0,6.0,258.0,...|\n",
            "|    187|        8|        360|            315| 344| 1702|        0|          0|      3|          2|175|[187.0,8.0,360.0,...|\n",
            "|    181|        6|        225|            276| 346| 2022|        1|          0|      3|          1|105|[181.0,6.0,225.0,...|\n",
            "|    143|        8|        360|            321| 357| 1584|        0|          0|      3|          4|245|[143.0,8.0,360.0,...|\n",
            "|    244|        4|       1467|            369| 319|   20|        1|          0|      4|          2| 62|[244.0,4.0,1467.0...|\n",
            "|    228|        4|       1408|            392| 315|  229|        1|          0|      4|          2| 95|[228.0,4.0,1408.0...|\n",
            "|    192|        6|       1676|            392| 344|  183|        1|          0|      4|          4|123|[192.0,6.0,1676.0...|\n",
            "|    178|        6|       1676|            392| 344|  189|        1|          0|      4|          4|123|[178.0,6.0,1676.0...|\n",
            "|    164|        8|       2758|            307| 407|  174|        0|          0|      3|          3|180|[164.0,8.0,2758.0...|\n",
            "|    173|        8|       2758|            307| 373|  176|        0|          0|      3|          3|180|[173.0,8.0,2758.0...|\n",
            "|    152|        8|       2758|            307| 378|   18|        0|          0|      3|          3|180|[152.0,8.0,2758.0...|\n",
            "|    104|        8|        472|            293| 525| 1798|        0|          0|      3|          4|205|[104.0,8.0,472.0,...|\n",
            "|    104|        8|        460|              3|5424| 1782|        0|          0|      3|          4|215|[104.0,8.0,460.0,...|\n",
            "|    147|        8|        440|            323|5345| 1742|        0|          0|      3|          4|230|[147.0,8.0,440.0,...|\n",
            "|    324|        4|        787|            408|  22| 1947|        1|          1|      4|          1| 66|[324.0,4.0,787.0,...|\n",
            "|    304|        4|        757|            493|1615| 1852|        1|          1|      4|          2| 52|[304.0,4.0,757.0,...|\n",
            "|    339|        4|        711|            422|1835|  199|        1|          1|      4|          1| 65|[339.0,4.0,711.0,...|\n",
            "+-------+---------+-----------+---------------+----+-----+---------+-----------+-------+-----------+---+--------------------+\n",
            "only showing top 20 rows\n",
            "\n"
          ]
        }
      ]
    },
    {
      "cell_type": "code",
      "source": [
        "carrosTreino, carrosTeste = carros.randomSplit([0.7, 0.3])\n",
        "\n",
        "display(\n",
        "    carrosTreino.count(),\n",
        "    carrosTeste.count()\n",
        ")"
      ],
      "metadata": {
        "colab": {
          "base_uri": "https://localhost:8080/",
          "height": 52
        },
        "id": "_6CJkBACLfzX",
        "outputId": "269a561d-1de5-44a6-cf9e-45b2c0f48e25"
      },
      "execution_count": 6,
      "outputs": [
        {
          "output_type": "display_data",
          "data": {
            "text/plain": [
              "22"
            ]
          },
          "metadata": {}
        },
        {
          "output_type": "display_data",
          "data": {
            "text/plain": [
              "10"
            ]
          },
          "metadata": {}
        }
      ]
    },
    {
      "cell_type": "code",
      "source": [
        "reglin = LinearRegression(featuresCol='vected_feats', labelCol='HP')\n",
        "model_RL = reglin.fit(carrosTreino)"
      ],
      "metadata": {
        "id": "3XsK8xn2NwcK"
      },
      "execution_count": 8,
      "outputs": []
    },
    {
      "cell_type": "code",
      "source": [
        "carrosPred = model_RL.transform(carrosTeste)\n",
        "carrosPred.show()"
      ],
      "metadata": {
        "colab": {
          "base_uri": "https://localhost:8080/"
        },
        "id": "eHtpV84xOWwg",
        "outputId": "5eb24093-5c67-4bd9-a04c-d8d81c5193db"
      },
      "execution_count": 9,
      "outputs": [
        {
          "output_type": "stream",
          "name": "stdout",
          "text": [
            "+-------+---------+-----------+---------------+----+-----+---------+-----------+-------+-----------+---+--------------------+------------------+\n",
            "|Consumo|Cilindros|Cilindradas|RelEixoTraseiro|Peso|Tempo|TipoMotor|Transmissao|Marchas|Carburadors| HP|        vected_feats|        prediction|\n",
            "+-------+---------+-----------+---------------+----+-----+---------+-----------+-------+-----------+---+--------------------+------------------+\n",
            "|    104|        8|        460|              3|5424| 1782|        0|          0|      3|          4|215|[104.0,8.0,460.0,...| 173.5649974544997|\n",
            "|    133|        8|        350|            373| 384| 1541|        0|          0|      3|          4|245|[133.0,8.0,350.0,...|240.80817059157295|\n",
            "|    152|        8|        304|            315|3435|  173|        0|          0|      3|          2|150|[152.0,8.0,304.0,...|151.90544420558822|\n",
            "|    152|        8|       2758|            307| 378|   18|        0|          0|      3|          3|180|[152.0,8.0,2758.0...|177.68414836729426|\n",
            "|    158|        8|        351|            422| 317|  145|        0|          1|      5|          4|264|[158.0,8.0,351.0,...|141.59487813441586|\n",
            "|    178|        6|       1676|            392| 344|  189|        1|          0|      4|          4|123|[178.0,6.0,1676.0...|170.81927245480452|\n",
            "|    187|        8|        360|            315| 344| 1702|        0|          0|      3|          2|175|[187.0,8.0,360.0,...|153.08922728298438|\n",
            "|    244|        4|       1467|            369| 319|   20|        1|          0|      4|          2| 62|[244.0,4.0,1467.0...| 83.80086838941487|\n",
            "|    304|        4|        757|            493|1615| 1852|        1|          1|      4|          2| 52|[304.0,4.0,757.0,...|133.11939010248682|\n",
            "|    304|        4|        951|            377|1513|  169|        1|          1|      5|          2|113|[304.0,4.0,951.0,...| 39.58183007715543|\n",
            "+-------+---------+-----------+---------------+----+-----+---------+-----------+-------+-----------+---+--------------------+------------------+\n",
            "\n"
          ]
        }
      ]
    },
    {
      "cell_type": "code",
      "source": [
        "evaluate = RegressionEvaluator(predictionCol='prediction', labelCol='HP',\n",
        "                               metricName='rmse')\n",
        "\n",
        "rmse_RL = evaluate.evaluate(carrosPred)\n",
        "rmse_RL"
      ],
      "metadata": {
        "colab": {
          "base_uri": "https://localhost:8080/"
        },
        "id": "BgovQVTyOwOb",
        "outputId": "4bb12eaf-372c-4e88-ec9d-caf2ceea728f"
      },
      "execution_count": 13,
      "outputs": [
        {
          "output_type": "execute_result",
          "data": {
            "text/plain": [
              "56.514656844206385"
            ]
          },
          "metadata": {},
          "execution_count": 13
        }
      ]
    },
    {
      "cell_type": "code",
      "source": [
        "rfreg = RandomForestRegressor(featuresCol='vected_feats', labelCol='HP')\n",
        "model_RF = rfreg.fit(carrosTreino)"
      ],
      "metadata": {
        "id": "hfwzR1g8Pp8_"
      },
      "execution_count": 14,
      "outputs": []
    },
    {
      "cell_type": "code",
      "source": [
        "carrosPredRF = model_RF.transform(carrosTeste)\n",
        "carrosPredRF.show()"
      ],
      "metadata": {
        "colab": {
          "base_uri": "https://localhost:8080/"
        },
        "id": "lhvHhfJIQdQP",
        "outputId": "c092e739-8e6c-4af5-db1c-ce9448d28786"
      },
      "execution_count": 16,
      "outputs": [
        {
          "output_type": "stream",
          "name": "stdout",
          "text": [
            "+-------+---------+-----------+---------------+----+-----+---------+-----------+-------+-----------+---+--------------------+------------------+\n",
            "|Consumo|Cilindros|Cilindradas|RelEixoTraseiro|Peso|Tempo|TipoMotor|Transmissao|Marchas|Carburadors| HP|        vected_feats|        prediction|\n",
            "+-------+---------+-----------+---------------+----+-----+---------+-----------+-------+-----------+---+--------------------+------------------+\n",
            "|    104|        8|        460|              3|5424| 1782|        0|          0|      3|          4|215|[104.0,8.0,460.0,...|            198.25|\n",
            "|    133|        8|        350|            373| 384| 1541|        0|          0|      3|          4|245|[133.0,8.0,350.0,...|205.91666666666669|\n",
            "|    152|        8|        304|            315|3435|  173|        0|          0|      3|          2|150|[152.0,8.0,304.0,...|             184.5|\n",
            "|    152|        8|       2758|            307| 378|   18|        0|          0|      3|          3|180|[152.0,8.0,2758.0...|200.11666666666667|\n",
            "|    158|        8|        351|            422| 317|  145|        0|          1|      5|          4|264|[158.0,8.0,351.0,...|201.51666666666668|\n",
            "|    178|        6|       1676|            392| 344|  189|        1|          0|      4|          4|123|[178.0,6.0,1676.0...|118.88166666666666|\n",
            "|    187|        8|        360|            315| 344| 1702|        0|          0|      3|          2|175|[187.0,8.0,360.0,...|             182.0|\n",
            "|    244|        4|       1467|            369| 319|   20|        1|          0|      4|          2| 62|[244.0,4.0,1467.0...| 146.3357142857143|\n",
            "|    304|        4|        757|            493|1615| 1852|        1|          1|      4|          2| 52|[304.0,4.0,757.0,...| 75.33571428571429|\n",
            "|    304|        4|        951|            377|1513|  169|        1|          1|      5|          2|113|[304.0,4.0,951.0,...| 77.43571428571428|\n",
            "+-------+---------+-----------+---------------+----+-----+---------+-----------+-------+-----------+---+--------------------+------------------+\n",
            "\n"
          ]
        }
      ]
    },
    {
      "cell_type": "code",
      "source": [
        "rmse_RF = evaluate.evaluate(carrosPredRF)\n",
        "rmse_RF"
      ],
      "metadata": {
        "colab": {
          "base_uri": "https://localhost:8080/"
        },
        "id": "5B_UEtlcQn4J",
        "outputId": "087b145f-85f6-4061-d81a-cd82732b3248"
      },
      "execution_count": 17,
      "outputs": [
        {
          "output_type": "execute_result",
          "data": {
            "text/plain": [
              "40.36708314924993"
            ]
          },
          "metadata": {},
          "execution_count": 17
        }
      ]
    },
    {
      "cell_type": "code",
      "source": [],
      "metadata": {
        "id": "dt-IjgBXQ1KJ"
      },
      "execution_count": null,
      "outputs": []
    }
  ]
}