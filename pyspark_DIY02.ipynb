{
  "nbformat": 4,
  "nbformat_minor": 0,
  "metadata": {
    "colab": {
      "provenance": [],
      "mount_file_id": "1bmmdquXStCyN50yJ1knnaCLXaoXS3G-U",
      "authorship_tag": "ABX9TyM3IcB33lUn7Z9z4cfm5gYR",
      "include_colab_link": true
    },
    "kernelspec": {
      "name": "python3",
      "display_name": "Python 3"
    },
    "language_info": {
      "name": "python"
    }
  },
  "cells": [
    {
      "cell_type": "markdown",
      "metadata": {
        "id": "view-in-github",
        "colab_type": "text"
      },
      "source": [
        "<a href=\"https://colab.research.google.com/github/cruz-marco/pyspark_course/blob/main/pyspark_DIY02.ipynb\" target=\"_parent\"><img src=\"https://colab.research.google.com/assets/colab-badge.svg\" alt=\"Open In Colab\"/></a>"
      ]
    },
    {
      "cell_type": "code",
      "execution_count": 3,
      "metadata": {
        "cellView": "form",
        "id": "qtmNIYOlb4Yp"
      },
      "outputs": [],
      "source": [
        "#@title\n",
        "!apt-get install openjdk-8-jdk-headless -qq > /dev/null\n",
        "!wget -q https://dlcdn.apache.org/spark/spark-3.2.3/spark-3.2.3-bin-hadoop3.2.tgz\n",
        "!tar xf spark-3.2.3-bin-hadoop3.2.tgz\n",
        "\n",
        "import os\n",
        "os.environ[\"JAVA_HOME\"] = \"/usr/lib/jvm/java-8-openjdk-amd64\" \n",
        "os.environ[\"SPARK_HOME\"] = '/content/spark-3.2.3-bin-hadoop3.2'\n",
        "\n",
        "!pip install -q findspark\n",
        "\n",
        "import findspark\n",
        "findspark.init()\n",
        "findspark.find()\n",
        "\n",
        "from pyspark.sql import SparkSession\n",
        "spark = SparkSession.builder.master(\"local[*]\").getOrCreate()\n",
        "sc = spark.sparkContext"
      ]
    },
    {
      "cell_type": "markdown",
      "source": [
        "# Faça você mesmo 02."
      ],
      "metadata": {
        "id": "ZeMmaoyCcEBH"
      }
    },
    {
      "cell_type": "markdown",
      "source": [
        "## 1. Crie um banco de dados no DW do Spark chamado VendasVarejo, e persista todas as tabelas neste banco de dados."
      ],
      "metadata": {
        "id": "4l1_5454cJT2"
      }
    },
    {
      "cell_type": "code",
      "source": [
        "# Carregando todos os dados no formato DataFrame\n",
        "\n",
        "clientes = spark.read.load(('/content/drive/MyDrive/Datasets/pyspark_course/Ati'\n",
        "                            'vidades/Clientes.parquet'), format=\"parquet\")\n",
        "\n",
        "itens_vendas = spark.read.load((\"/content/drive/MyDrive/Datasets/pyspark_course\"\n",
        "                                \"/Atividades/ItensVendas.parquet\"), \n",
        "                                format=\"parquet\")\n",
        "\n",
        "produtos = spark.read.load((\"/content/drive/MyDrive/Datasets/pyspark_course/Ati\"\n",
        "                            \"vidades/Produtos.parquet\"), format=\"parquet\")\n",
        "\n",
        "vendas = spark.read.load((\"/content/drive/MyDrive/Datasets/pyspark_course/Ativ\"\n",
        "                          \"idades/Vendas.parquet\"), format=\"parquet\")\n",
        "\n",
        "vendedores = spark.read.load((\"/content/drive/MyDrive/Datasets/pyspark_course/A\"\n",
        "                            \"tividades/Vendedores.parquet\"), format=\"parquet\")\n",
        "\n",
        "dataframes = [clientes, itens_vendas, produtos, vendas, vendedores]     \n",
        "frame_names = ['Clientes', 'ItensVendas', 'Produtos', 'Vendas', 'Vendedores']\n",
        "for frame, name in zip(dataframes,frame_names):\n",
        "  print(name)\n",
        "  frame.show(5)"
      ],
      "metadata": {
        "colab": {
          "base_uri": "https://localhost:8080/"
        },
        "id": "UAElLJimcG01",
        "outputId": "ee1f3990-d8ad-456a-ba07-bedf60f64850"
      },
      "execution_count": 15,
      "outputs": [
        {
          "output_type": "stream",
          "name": "stdout",
          "text": [
            "Clientes\n",
            "+---------+--------------------+------+------+--------+\n",
            "|ClienteID|             Cliente|Estado|Genero|  Status|\n",
            "+---------+--------------------+------+------+--------+\n",
            "|        1|Adelina Buenaventura|    RJ|     M|  Silver|\n",
            "|        2|        Adelino Gago|    RJ|     M|  Silver|\n",
            "|        3|     Adolfo Patrício|    PE|     M|  Silver|\n",
            "|        4|    Adriana Guedelha|    RO|     F|Platinum|\n",
            "|        5|       Adélio Lisboa|    SE|     M|  Silver|\n",
            "+---------+--------------------+------+------+--------+\n",
            "only showing top 5 rows\n",
            "\n",
            "ItensVendas\n",
            "+---------+--------+----------+-------------+----------+--------+----------------+\n",
            "|ProdutoID|VendasID|Quantidade|ValorUnitario|ValorTotal|Desconto|TotalComDesconto|\n",
            "+---------+--------+----------+-------------+----------+--------+----------------+\n",
            "|        2|     400|         2|       9201.0|   18402.0| 6256,68|        12145.32|\n",
            "|        2|     385|         2|       9201.0|   18402.0| 5704,62|        12697.38|\n",
            "|        4|     395|         2|       6892.2|   13784.4| 5100,23|         8684.17|\n",
            "|        4|     367|         2|       6509.3|   13018.6| 4816,88|         8201.72|\n",
            "|        2|     380|         2|      7038.77|  14077.54| 4364,04|          9713.5|\n",
            "+---------+--------+----------+-------------+----------+--------+----------------+\n",
            "only showing top 5 rows\n",
            "\n",
            "Produtos\n",
            "+---------+--------------------+---------+\n",
            "|ProdutoID|             Produto|    Preco|\n",
            "+---------+--------------------+---------+\n",
            "|        1|Bicicleta Aro 29 ...|8.852,00 |\n",
            "|        2|Bicicleta Altools...|9.201,00 |\n",
            "|        3|Bicicleta Gts Adv...|4.255,00 |\n",
            "|        4|Bicicleta Trinc C...|7.658,00 |\n",
            "|        5|Bicicleta Gometws...|2.966,00 |\n",
            "+---------+--------------------+---------+\n",
            "only showing top 5 rows\n",
            "\n",
            "Vendas\n",
            "+--------+----------+---------+--------+--------+\n",
            "|VendasID|VendedorID|ClienteID|    Data|   Total|\n",
            "+--------+----------+---------+--------+--------+\n",
            "|       1|         1|       91|1/1/2019|  8053.6|\n",
            "|       2|         6|      185|1/1/2020|   150.4|\n",
            "|       3|         7|       31|2/1/2020|  6087.0|\n",
            "|       4|         5|       31|2/1/2019| 13828.6|\n",
            "|       5|         5|       31|3/1/2018|26096.66|\n",
            "+--------+----------+---------+--------+--------+\n",
            "only showing top 5 rows\n",
            "\n",
            "Vendedores\n",
            "+----------+----------------+\n",
            "|VendedorID|        Vendedor|\n",
            "+----------+----------------+\n",
            "|         1|    Armando Lago|\n",
            "|         2|Capitolino Bahía|\n",
            "|         3|   Daniel Pirajá|\n",
            "|         4| Godo Capiperibe|\n",
            "|         5|  Hélio Liberato|\n",
            "+----------+----------------+\n",
            "only showing top 5 rows\n",
            "\n"
          ]
        }
      ]
    },
    {
      "cell_type": "markdown",
      "source": [
        "- Criando o banco de dados VendasVarejo"
      ],
      "metadata": {
        "id": "tKAKijUM2KvM"
      }
    },
    {
      "cell_type": "code",
      "source": [
        "spark.sql('Create database if not exists VendasVarejo')\n",
        "\n",
        "spark.sql('show databases').show()"
      ],
      "metadata": {
        "colab": {
          "base_uri": "https://localhost:8080/"
        },
        "id": "dGhkF7Q_cteT",
        "outputId": "12fba230-d356-4a2f-f820-8c503a6d51ee"
      },
      "execution_count": 11,
      "outputs": [
        {
          "output_type": "stream",
          "name": "stdout",
          "text": [
            "+------------+\n",
            "|   namespace|\n",
            "+------------+\n",
            "|     default|\n",
            "|vendasvarejo|\n",
            "+------------+\n",
            "\n"
          ]
        }
      ]
    },
    {
      "cell_type": "code",
      "source": [
        "spark.sql('use vendasvarejo').show()"
      ],
      "metadata": {
        "colab": {
          "base_uri": "https://localhost:8080/"
        },
        "id": "oHRsVYEyuu0T",
        "outputId": "e8696c79-a4dc-457a-9061-d49556ec54bb"
      },
      "execution_count": 12,
      "outputs": [
        {
          "output_type": "stream",
          "name": "stdout",
          "text": [
            "++\n",
            "||\n",
            "++\n",
            "++\n",
            "\n"
          ]
        }
      ]
    },
    {
      "cell_type": "markdown",
      "source": [
        "- Escrevendo todos os DataFrames como tabelas usando um loop."
      ],
      "metadata": {
        "id": "MOswR4xD2O4S"
      }
    },
    {
      "cell_type": "code",
      "source": [
        "for frame, name in zip(dataframes, frame_names):\n",
        "  frame.write.saveAsTable(f'{name}')"
      ],
      "metadata": {
        "id": "1vkW_noKuMcw"
      },
      "execution_count": 13,
      "outputs": []
    },
    {
      "cell_type": "code",
      "source": [
        "spark.sql('show tables').show()"
      ],
      "metadata": {
        "colab": {
          "base_uri": "https://localhost:8080/"
        },
        "id": "9PvPKSeOu7jx",
        "outputId": "d2e193f3-62e6-49d4-981b-2af7c7cf76e2"
      },
      "execution_count": 14,
      "outputs": [
        {
          "output_type": "stream",
          "name": "stdout",
          "text": [
            "+------------+-----------+-----------+\n",
            "|   namespace|  tableName|isTemporary|\n",
            "+------------+-----------+-----------+\n",
            "|vendasvarejo|   clientes|      false|\n",
            "|vendasvarejo|itensvendas|      false|\n",
            "|vendasvarejo|   produtos|      false|\n",
            "|vendasvarejo|     vendas|      false|\n",
            "|vendasvarejo| vendedores|      false|\n",
            "+------------+-----------+-----------+\n",
            "\n"
          ]
        }
      ]
    },
    {
      "cell_type": "markdown",
      "source": [
        "## 2. Crie uma consulta que mostre de cada item vendido: Nome do Cliente, Data da Venda, Produto, Vendedor e Valor Total do item."
      ],
      "metadata": {
        "id": "hIRgegVWwtbE"
      }
    },
    {
      "cell_type": "code",
      "source": [
        "spark.sql(('select c.Cliente, v.Data, p.Produto, ve.Vendedor, iv.ValorTotal'\n",
        "' from itensvendas as iv inner join vendas as v on iv.VendasID = v.VendasID '\n",
        "'inner join vendedores as ve on v.VendedorID = ve.VendedorID inner join '\n",
        "'clientes as c on v.ClienteID = c.ClienteID inner join produtos as p on'\n",
        "' iv.ProdutoID = p.ProdutoID')).show()"
      ],
      "metadata": {
        "colab": {
          "base_uri": "https://localhost:8080/"
        },
        "id": "R_qcfCUJwyRW",
        "outputId": "6e6dc157-2fcc-4911-baf9-4a6a44ba6670"
      },
      "execution_count": 18,
      "outputs": [
        {
          "output_type": "stream",
          "name": "stdout",
          "text": [
            "+-----------------+--------+--------------------+----------------+----------+\n",
            "|          Cliente|    Data|             Produto|        Vendedor|ValorTotal|\n",
            "+-----------------+--------+--------------------+----------------+----------+\n",
            "|   Cosme Zambujal|1/1/2019|Bicicleta Altools...|    Armando Lago|   7820.85|\n",
            "|   Cosme Zambujal|1/1/2019|Bermuda Predactor...|    Armando Lago|     97.75|\n",
            "|   Cosme Zambujal|1/1/2019|Camiseta Predacto...|    Armando Lago|     135.0|\n",
            "|Gertrudes Hidalgo|1/1/2020|Luva De Ciclismo ...|   Iberê Lacerda|     150.4|\n",
            "| Antão Corte-Real|2/1/2020|Capacete Gometws ...|Jéssica Castelão|     155.0|\n",
            "| Antão Corte-Real|2/1/2020|Bicicleta Gometws...|Jéssica Castelão|    5932.0|\n",
            "| Antão Corte-Real|2/1/2019|Bicicleta Altools...|  Hélio Liberato|   7820.85|\n",
            "| Antão Corte-Real|2/1/2019|Bermuda Predactor...|  Hélio Liberato|     97.75|\n",
            "| Antão Corte-Real|2/1/2019|Bicicleta Gometws...|  Hélio Liberato|    5910.0|\n",
            "| Antão Corte-Real|3/1/2018|Bicicleta Gometws...|  Hélio Liberato|    2955.0|\n",
            "| Antão Corte-Real|3/1/2018|Bicicleta Trinc C...|  Hélio Liberato|    7658.0|\n",
            "| Antão Corte-Real|3/1/2018|Bicicleta Aro 29 ...|  Hélio Liberato|    8852.0|\n",
            "| Antão Corte-Real|3/1/2018|Camiseta Predacto...|  Hélio Liberato|     121.5|\n",
            "| Antão Corte-Real|3/1/2018|Bicicleta Gts Adv...|  Hélio Liberato|   6510.16|\n",
            "| Antão Corte-Real|4/1/2020|Bicicleta Altools...|  Hélio Liberato|   18402.0|\n",
            "| Antão Corte-Real|6/1/2019|Bicicleta Aro 29 ...|  Hélio Liberato|    7524.2|\n",
            "|Gertrudes Infante|6/1/2019|Luva De Ciclismo ...|  Hélio Liberato|     376.0|\n",
            "|Gertrudes Infante|6/1/2019|Bicicleta Gts Adv...|  Hélio Liberato|   3616.75|\n",
            "|Gertrudes Infante|6/1/2019|Camiseta Predacto...|  Hélio Liberato|     108.0|\n",
            "|Gertrudes Infante|6/1/2019|Bermuda Predactor...|  Hélio Liberato|     115.0|\n",
            "+-----------------+--------+--------------------+----------------+----------+\n",
            "only showing top 20 rows\n",
            "\n"
          ]
        }
      ]
    }
  ]
}