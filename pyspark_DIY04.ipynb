{
  "nbformat": 4,
  "nbformat_minor": 0,
  "metadata": {
    "colab": {
      "provenance": [],
      "mount_file_id": "1tUvSYWRu35XUamRICIQsF2mxLMVj_2Ra",
      "authorship_tag": "ABX9TyNgqeGfLaqaiEGPc1g+lCcM",
      "include_colab_link": true
    },
    "kernelspec": {
      "name": "python3",
      "display_name": "Python 3"
    },
    "language_info": {
      "name": "python"
    }
  },
  "cells": [
    {
      "cell_type": "markdown",
      "metadata": {
        "id": "view-in-github",
        "colab_type": "text"
      },
      "source": [
        "<a href=\"https://colab.research.google.com/github/cruz-marco/pyspark_course/blob/main/pyspark_DIY04.ipynb\" target=\"_parent\"><img src=\"https://colab.research.google.com/assets/colab-badge.svg\" alt=\"Open In Colab\"/></a>"
      ]
    },
    {
      "cell_type": "code",
      "execution_count": 98,
      "metadata": {
        "id": "zbDk5maH6aaH"
      },
      "outputs": [],
      "source": [
        "#@title\n",
        "!apt-get install openjdk-8-jdk-headless -qq > /dev/null\n",
        "!wget -q https://dlcdn.apache.org/spark/spark-3.2.3/spark-3.2.3-bin-hadoop3.2.tgz\n",
        "!tar xf spark-3.2.3-bin-hadoop3.2.tgz\n",
        "\n",
        "import os\n",
        "os.environ[\"JAVA_HOME\"] = \"/usr/lib/jvm/java-8-openjdk-amd64\" \n",
        "os.environ[\"SPARK_HOME\"] = '/content/spark-3.2.3-bin-hadoop3.2'\n",
        "\n",
        "!pip install -q findspark\n",
        "\n",
        "import findspark\n",
        "findspark.init()\n",
        "findspark.find()\n",
        "\n",
        "from pyspark.sql import SparkSession\n",
        "spark = SparkSession.builder.master(\"local[*]\").getOrCreate()\n",
        "sc = spark.sparkContext\n"
      ]
    },
    {
      "cell_type": "markdown",
      "source": [
        "# Faça você mesmo 4"
      ],
      "metadata": {
        "id": "Tcc6ld0K_UEY"
      }
    },
    {
      "cell_type": "markdown",
      "source": [
        "1. Classe é a coluna class,portando Multiclass\n",
        "2. Utilize MultiClassificationEvaluator\n",
        "3. Use accuracy como métrica\n",
        "4. Use um classificador diferente, por exemplo NaiveBayes."
      ],
      "metadata": {
        "id": "9BBq5Ij__rcH"
      }
    },
    {
      "cell_type": "markdown",
      "source": [
        "> Importando as classes"
      ],
      "metadata": {
        "id": "xAF_DN_6BAH2"
      }
    },
    {
      "cell_type": "code",
      "source": [
        "from pyspark.ml.classification import NaiveBayes\n",
        "from pyspark.ml.feature import StandardScaler, VectorAssembler\n",
        "from pyspark.ml.evaluation import MulticlassClassificationEvaluator\n",
        "from pyspark.sql import functions as f, types as t"
      ],
      "metadata": {
        "id": "7yn5pD0_6o7G"
      },
      "execution_count": 99,
      "outputs": []
    },
    {
      "cell_type": "code",
      "source": [
        "schema = ('sepallength FLOAT, sepalwidth FLOAT, petallength FLOAT, petalwidth'\n",
        "          ' FLOAT, class STRING')\n",
        "\n",
        "dataset = spark.read.load(('/content/drive/MyDrive/Datasets/pyspark_course/iri'\n",
        "          's.csv'),format='csv', header=True, schema=schema)\n",
        "\n",
        "dataset.show()"
      ],
      "metadata": {
        "colab": {
          "base_uri": "https://localhost:8080/"
        },
        "id": "crlG__smBE4L",
        "outputId": "60656fc8-5e21-4608-85ff-b9c707ccab1a"
      },
      "execution_count": 100,
      "outputs": [
        {
          "output_type": "stream",
          "name": "stdout",
          "text": [
            "+-----------+----------+-----------+----------+-----------+\n",
            "|sepallength|sepalwidth|petallength|petalwidth|      class|\n",
            "+-----------+----------+-----------+----------+-----------+\n",
            "|        5.1|       3.5|        1.4|       0.2|Iris-setosa|\n",
            "|        4.9|       3.0|        1.4|       0.2|Iris-setosa|\n",
            "|        4.7|       3.2|        1.3|       0.2|Iris-setosa|\n",
            "|        4.6|       3.1|        1.5|       0.2|Iris-setosa|\n",
            "|        5.0|       3.6|        1.4|       0.2|Iris-setosa|\n",
            "|        5.4|       3.9|        1.7|       0.4|Iris-setosa|\n",
            "|        4.6|       3.4|        1.4|       0.3|Iris-setosa|\n",
            "|        5.0|       3.4|        1.5|       0.2|Iris-setosa|\n",
            "|        4.4|       2.9|        1.4|       0.2|Iris-setosa|\n",
            "|        4.9|       3.1|        1.5|       0.1|Iris-setosa|\n",
            "|        5.4|       3.7|        1.5|       0.2|Iris-setosa|\n",
            "|        4.8|       3.4|        1.6|       0.2|Iris-setosa|\n",
            "|        4.8|       3.0|        1.4|       0.1|Iris-setosa|\n",
            "|        4.3|       3.0|        1.1|       0.1|Iris-setosa|\n",
            "|        5.8|       4.0|        1.2|       0.2|Iris-setosa|\n",
            "|        5.7|       4.4|        1.5|       0.4|Iris-setosa|\n",
            "|        5.4|       3.9|        1.3|       0.4|Iris-setosa|\n",
            "|        5.1|       3.5|        1.4|       0.3|Iris-setosa|\n",
            "|        5.7|       3.8|        1.7|       0.3|Iris-setosa|\n",
            "|        5.1|       3.8|        1.5|       0.3|Iris-setosa|\n",
            "+-----------+----------+-----------+----------+-----------+\n",
            "only showing top 20 rows\n",
            "\n"
          ]
        }
      ]
    },
    {
      "cell_type": "markdown",
      "source": [
        "> Classes perfeitamente balanceadas."
      ],
      "metadata": {
        "id": "NgJ2wDVlCMT6"
      }
    },
    {
      "cell_type": "code",
      "source": [
        "dataset.select(f.col('class'))\\\n",
        ".groupBy(f.col('class'))\\\n",
        ".agg(f.count('class').alias('qtd')).show()"
      ],
      "metadata": {
        "colab": {
          "base_uri": "https://localhost:8080/"
        },
        "id": "iBw6q39hBkgo",
        "outputId": "24307b31-e0d3-442d-8ab4-e92ffb92f2f3"
      },
      "execution_count": 101,
      "outputs": [
        {
          "output_type": "stream",
          "name": "stdout",
          "text": [
            "+---------------+---+\n",
            "|          class|qtd|\n",
            "+---------------+---+\n",
            "| Iris-virginica| 50|\n",
            "|    Iris-setosa| 50|\n",
            "|Iris-versicolor| 50|\n",
            "+---------------+---+\n",
            "\n"
          ]
        }
      ]
    },
    {
      "cell_type": "markdown",
      "source": [
        "> Criando uma função para transformar a coluna CLASS em números inteiros."
      ],
      "metadata": {
        "id": "QjOAprEyOyUA"
      }
    },
    {
      "cell_type": "code",
      "source": [
        "def class_transformer(iris):\n",
        "  try:\n",
        "    classes = {\n",
        "        'Iris-setosa': 0,\n",
        "        'Iris-virginica': 1,\n",
        "        'Iris-versicolor': 2\n",
        "    }\n",
        "    return classes[iris]\n",
        "  except:\n",
        "    return None\n",
        "\n",
        "udf_class_trans = f.udf(lambda x: class_transformer(x), t.IntegerType())"
      ],
      "metadata": {
        "id": "ghcE-kINCDBn"
      },
      "execution_count": 102,
      "outputs": []
    },
    {
      "cell_type": "markdown",
      "source": [
        "> Aplicando em uma nova coluna."
      ],
      "metadata": {
        "id": "tVNeBo5eO6hs"
      }
    },
    {
      "cell_type": "code",
      "source": [
        "dataset = dataset.withColumn('label', udf_class_trans('class'))\n",
        "\n",
        "dataset.show()"
      ],
      "metadata": {
        "colab": {
          "base_uri": "https://localhost:8080/"
        },
        "id": "ZCH0rpxnD2F0",
        "outputId": "21b7f7f8-55d6-476e-961b-33c5ebfe77fb"
      },
      "execution_count": 103,
      "outputs": [
        {
          "output_type": "stream",
          "name": "stdout",
          "text": [
            "+-----------+----------+-----------+----------+-----------+-----+\n",
            "|sepallength|sepalwidth|petallength|petalwidth|      class|label|\n",
            "+-----------+----------+-----------+----------+-----------+-----+\n",
            "|        5.1|       3.5|        1.4|       0.2|Iris-setosa|    0|\n",
            "|        4.9|       3.0|        1.4|       0.2|Iris-setosa|    0|\n",
            "|        4.7|       3.2|        1.3|       0.2|Iris-setosa|    0|\n",
            "|        4.6|       3.1|        1.5|       0.2|Iris-setosa|    0|\n",
            "|        5.0|       3.6|        1.4|       0.2|Iris-setosa|    0|\n",
            "|        5.4|       3.9|        1.7|       0.4|Iris-setosa|    0|\n",
            "|        4.6|       3.4|        1.4|       0.3|Iris-setosa|    0|\n",
            "|        5.0|       3.4|        1.5|       0.2|Iris-setosa|    0|\n",
            "|        4.4|       2.9|        1.4|       0.2|Iris-setosa|    0|\n",
            "|        4.9|       3.1|        1.5|       0.1|Iris-setosa|    0|\n",
            "|        5.4|       3.7|        1.5|       0.2|Iris-setosa|    0|\n",
            "|        4.8|       3.4|        1.6|       0.2|Iris-setosa|    0|\n",
            "|        4.8|       3.0|        1.4|       0.1|Iris-setosa|    0|\n",
            "|        4.3|       3.0|        1.1|       0.1|Iris-setosa|    0|\n",
            "|        5.8|       4.0|        1.2|       0.2|Iris-setosa|    0|\n",
            "|        5.7|       4.4|        1.5|       0.4|Iris-setosa|    0|\n",
            "|        5.4|       3.9|        1.3|       0.4|Iris-setosa|    0|\n",
            "|        5.1|       3.5|        1.4|       0.3|Iris-setosa|    0|\n",
            "|        5.7|       3.8|        1.7|       0.3|Iris-setosa|    0|\n",
            "|        5.1|       3.8|        1.5|       0.3|Iris-setosa|    0|\n",
            "+-----------+----------+-----------+----------+-----------+-----+\n",
            "only showing top 20 rows\n",
            "\n"
          ]
        }
      ]
    },
    {
      "cell_type": "markdown",
      "source": [
        "> Vetorizando as variáveis independentes"
      ],
      "metadata": {
        "id": "c922E0lNPJh3"
      }
    },
    {
      "cell_type": "code",
      "source": [
        "assembler = VectorAssembler(inputCols=['sepallength', 'sepalwidth', \n",
        "            'petallength', 'petalwidth'], outputCol='vect_feats')\n",
        "\n",
        "dataset = assembler.transform(dataset)"
      ],
      "metadata": {
        "id": "ARzF83uOJVcU"
      },
      "execution_count": 104,
      "outputs": []
    },
    {
      "cell_type": "markdown",
      "source": [
        "> Separando em treino e teste"
      ],
      "metadata": {
        "id": "tLNfvni8PPah"
      }
    },
    {
      "cell_type": "code",
      "source": [
        "dataTrain, dataTest = dataset.randomSplit([0.7, 0.3])\n",
        "\n",
        "display(\n",
        "    dataTrain.count(),\n",
        "    dataTest.count()\n",
        ")"
      ],
      "metadata": {
        "colab": {
          "base_uri": "https://localhost:8080/",
          "height": 52
        },
        "id": "dHAf5dvMENcz",
        "outputId": "5dcbc29a-96af-49fe-feb1-1b1278201bdb"
      },
      "execution_count": 105,
      "outputs": [
        {
          "output_type": "display_data",
          "data": {
            "text/plain": [
              "104"
            ]
          },
          "metadata": {}
        },
        {
          "output_type": "display_data",
          "data": {
            "text/plain": [
              "46"
            ]
          },
          "metadata": {}
        }
      ]
    },
    {
      "cell_type": "markdown",
      "source": [
        "> Escalonando os dados"
      ],
      "metadata": {
        "id": "NLibbZdQPTUn"
      }
    },
    {
      "cell_type": "code",
      "source": [
        "scaler = StandardScaler(inputCol='vect_feats', outputCol='scaled_feats')\n",
        "m_scaler = scaler.fit(dataTrain)"
      ],
      "metadata": {
        "id": "TuQPYY8iJQxo"
      },
      "execution_count": 106,
      "outputs": []
    },
    {
      "cell_type": "code",
      "source": [
        "s_dataTrain = m_scaler.transform(dataTrain)\n",
        "s_dataTrain.show()"
      ],
      "metadata": {
        "colab": {
          "base_uri": "https://localhost:8080/"
        },
        "id": "wuOTjvTkKvXZ",
        "outputId": "64876cd7-aab4-49fe-ae69-c4bd6c8378f2"
      },
      "execution_count": 107,
      "outputs": [
        {
          "output_type": "stream",
          "name": "stdout",
          "text": [
            "+-----------+----------+-----------+----------+---------------+-----+--------------------+--------------------+\n",
            "|sepallength|sepalwidth|petallength|petalwidth|          class|label|          vect_feats|        scaled_feats|\n",
            "+-----------+----------+-----------+----------+---------------+-----+--------------------+--------------------+\n",
            "|        4.3|       3.0|        1.1|       0.1|    Iris-setosa|    0|[4.30000019073486...|[5.28710831614822...|\n",
            "|        4.4|       2.9|        1.4|       0.2|    Iris-setosa|    0|[4.40000009536743...|[5.41006420078657...|\n",
            "|        4.6|       3.1|        1.5|       0.2|    Iris-setosa|    0|[4.59999990463256...|[5.65597597006327...|\n",
            "|        4.6|       3.2|        1.4|       0.2|    Iris-setosa|    0|[4.59999990463256...|[5.65597597006327...|\n",
            "|        4.6|       3.4|        1.4|       0.3|    Iris-setosa|    0|[4.59999990463256...|[5.65597597006327...|\n",
            "|        4.6|       3.6|        1.0|       0.2|    Iris-setosa|    0|[4.59999990463256...|[5.65597597006327...|\n",
            "|        4.7|       3.2|        1.3|       0.2|    Iris-setosa|    0|[4.69999980926513...|[5.77893185470162...|\n",
            "|        4.8|       3.0|        1.4|       0.3|    Iris-setosa|    0|[4.80000019073486...|[5.90188832563988...|\n",
            "|        4.8|       3.1|        1.6|       0.2|    Iris-setosa|    0|[4.80000019073486...|[5.90188832563988...|\n",
            "|        4.8|       3.4|        1.6|       0.2|    Iris-setosa|    0|[4.80000019073486...|[5.90188832563988...|\n",
            "|        4.9|       2.4|        3.3|       1.0|Iris-versicolor|    2|[4.90000009536743...|[6.02484421027823...|\n",
            "|        4.9|       3.0|        1.4|       0.2|    Iris-setosa|    0|[4.90000009536743...|[6.02484421027823...|\n",
            "|        4.9|       3.1|        1.5|       0.1|    Iris-setosa|    0|[4.90000009536743...|[6.02484421027823...|\n",
            "|        4.9|       3.1|        1.5|       0.1|    Iris-setosa|    0|[4.90000009536743...|[6.02484421027823...|\n",
            "|        5.0|       2.0|        3.5|       1.0|Iris-versicolor|    2|   [5.0,2.0,3.5,1.0]|[6.14780009491658...|\n",
            "|        5.0|       2.3|        3.3|       1.0|Iris-versicolor|    2|[5.0,2.2999999523...|[6.14780009491658...|\n",
            "|        5.0|       3.0|        1.6|       0.2|    Iris-setosa|    0|[5.0,3.0,1.600000...|[6.14780009491658...|\n",
            "|        5.0|       3.4|        1.5|       0.2|    Iris-setosa|    0|[5.0,3.4000000953...|[6.14780009491658...|\n",
            "|        5.0|       3.5|        1.3|       0.3|    Iris-setosa|    0|[5.0,3.5,1.299999...|[6.14780009491658...|\n",
            "|        5.1|       2.5|        3.0|       1.1|Iris-versicolor|    2|[5.09999990463256...|[6.27075597955493...|\n",
            "+-----------+----------+-----------+----------+---------------+-----+--------------------+--------------------+\n",
            "only showing top 20 rows\n",
            "\n"
          ]
        }
      ]
    },
    {
      "cell_type": "markdown",
      "source": [
        "> Instanciando, configurando e treinando o modelo"
      ],
      "metadata": {
        "id": "WzMHOz4RPWAT"
      }
    },
    {
      "cell_type": "code",
      "source": [
        "clf = NaiveBayes(featuresCol='scaled_feats', labelCol='label')\n",
        "model = clf.fit(s_dataTrain)"
      ],
      "metadata": {
        "id": "6VrtELJqLs4u"
      },
      "execution_count": 108,
      "outputs": []
    },
    {
      "cell_type": "markdown",
      "source": [
        "> Escalonando os dados de teste"
      ],
      "metadata": {
        "id": "YKTMj1DBPeJX"
      }
    },
    {
      "cell_type": "code",
      "source": [
        "s_dataTest = m_scaler.transform(dataTest)\n",
        "s_dataTest.show()"
      ],
      "metadata": {
        "colab": {
          "base_uri": "https://localhost:8080/"
        },
        "id": "ClbfIPvuM8jM",
        "outputId": "a0993efa-0662-4371-eed0-4751948790d8"
      },
      "execution_count": 109,
      "outputs": [
        {
          "output_type": "stream",
          "name": "stdout",
          "text": [
            "+-----------+----------+-----------+----------+--------------+-----+--------------------+--------------------+\n",
            "|sepallength|sepalwidth|petallength|petalwidth|         class|label|          vect_feats|        scaled_feats|\n",
            "+-----------+----------+-----------+----------+--------------+-----+--------------------+--------------------+\n",
            "|        4.4|       3.0|        1.3|       0.2|   Iris-setosa|    0|[4.40000009536743...|[5.41006420078657...|\n",
            "|        4.4|       3.2|        1.3|       0.2|   Iris-setosa|    0|[4.40000009536743...|[5.41006420078657...|\n",
            "|        4.5|       2.3|        1.3|       0.3|   Iris-setosa|    0|[4.5,2.2999999523...|[5.53302008542492...|\n",
            "|        4.7|       3.2|        1.6|       0.2|   Iris-setosa|    0|[4.69999980926513...|[5.77893185470162...|\n",
            "|        4.8|       3.0|        1.4|       0.1|   Iris-setosa|    0|[4.80000019073486...|[5.90188832563988...|\n",
            "|        4.8|       3.4|        1.9|       0.2|   Iris-setosa|    0|[4.80000019073486...|[5.90188832563988...|\n",
            "|        4.9|       2.5|        4.5|       1.7|Iris-virginica|    1|[4.90000009536743...|[6.02484421027823...|\n",
            "|        4.9|       3.1|        1.5|       0.1|   Iris-setosa|    0|[4.90000009536743...|[6.02484421027823...|\n",
            "|        5.0|       3.2|        1.2|       0.2|   Iris-setosa|    0|[5.0,3.2000000476...|[6.14780009491658...|\n",
            "|        5.0|       3.3|        1.4|       0.2|   Iris-setosa|    0|[5.0,3.2999999523...|[6.14780009491658...|\n",
            "|        5.0|       3.4|        1.6|       0.4|   Iris-setosa|    0|[5.0,3.4000000953...|[6.14780009491658...|\n",
            "|        5.0|       3.5|        1.6|       0.6|   Iris-setosa|    0|[5.0,3.5,1.600000...|[6.14780009491658...|\n",
            "|        5.0|       3.6|        1.4|       0.2|   Iris-setosa|    0|[5.0,3.5999999046...|[6.14780009491658...|\n",
            "|        5.1|       3.3|        1.7|       0.5|   Iris-setosa|    0|[5.09999990463256...|[6.27075597955493...|\n",
            "|        5.1|       3.7|        1.5|       0.4|   Iris-setosa|    0|[5.09999990463256...|[6.27075597955493...|\n",
            "|        5.1|       3.8|        1.5|       0.3|   Iris-setosa|    0|[5.09999990463256...|[6.27075597955493...|\n",
            "|        5.1|       3.8|        1.6|       0.2|   Iris-setosa|    0|[5.09999990463256...|[6.27075597955493...|\n",
            "|        5.4|       3.4|        1.7|       0.2|   Iris-setosa|    0|[5.40000009536743...|[6.63962421976988...|\n",
            "|        5.4|       3.7|        1.5|       0.2|   Iris-setosa|    0|[5.40000009536743...|[6.63962421976988...|\n",
            "|        5.4|       3.9|        1.7|       0.4|   Iris-setosa|    0|[5.40000009536743...|[6.63962421976988...|\n",
            "+-----------+----------+-----------+----------+--------------+-----+--------------------+--------------------+\n",
            "only showing top 20 rows\n",
            "\n"
          ]
        }
      ]
    },
    {
      "cell_type": "markdown",
      "source": [
        "> Prevendo usando os dados de teste"
      ],
      "metadata": {
        "id": "dVwhNAbzPjIY"
      }
    },
    {
      "cell_type": "code",
      "source": [
        "dataPredict = model.transform(s_dataTest)\n",
        "dataPredict.select('class', 'label', 'prediction').show()"
      ],
      "metadata": {
        "colab": {
          "base_uri": "https://localhost:8080/"
        },
        "id": "DUfAaafrNRMi",
        "outputId": "07ad66e4-e1e8-4b93-9924-6b28351a2781"
      },
      "execution_count": 110,
      "outputs": [
        {
          "output_type": "stream",
          "name": "stdout",
          "text": [
            "+--------------+-----+----------+\n",
            "|         class|label|prediction|\n",
            "+--------------+-----+----------+\n",
            "|   Iris-setosa|    0|       0.0|\n",
            "|   Iris-setosa|    0|       0.0|\n",
            "|   Iris-setosa|    0|       0.0|\n",
            "|   Iris-setosa|    0|       0.0|\n",
            "|   Iris-setosa|    0|       0.0|\n",
            "|   Iris-setosa|    0|       0.0|\n",
            "|Iris-virginica|    1|       1.0|\n",
            "|   Iris-setosa|    0|       0.0|\n",
            "|   Iris-setosa|    0|       0.0|\n",
            "|   Iris-setosa|    0|       0.0|\n",
            "|   Iris-setosa|    0|       0.0|\n",
            "|   Iris-setosa|    0|       0.0|\n",
            "|   Iris-setosa|    0|       0.0|\n",
            "|   Iris-setosa|    0|       0.0|\n",
            "|   Iris-setosa|    0|       0.0|\n",
            "|   Iris-setosa|    0|       0.0|\n",
            "|   Iris-setosa|    0|       0.0|\n",
            "|   Iris-setosa|    0|       0.0|\n",
            "|   Iris-setosa|    0|       0.0|\n",
            "|   Iris-setosa|    0|       0.0|\n",
            "+--------------+-----+----------+\n",
            "only showing top 20 rows\n",
            "\n"
          ]
        }
      ]
    },
    {
      "cell_type": "markdown",
      "source": [
        "> Avaliando a performance do modelo"
      ],
      "metadata": {
        "id": "lpyBLDKwPmx5"
      }
    },
    {
      "cell_type": "code",
      "source": [
        "evl = MulticlassClassificationEvaluator(predictionCol='prediction',\n",
        "                            labelCol='label', metricName='accuracy')\n",
        "\n",
        "acc = evl.evaluate(dataPredict)\n",
        "\n",
        "print(f'{round(acc * 100, 4)} % de Accuracy')"
      ],
      "metadata": {
        "colab": {
          "base_uri": "https://localhost:8080/"
        },
        "id": "GLdjbF8XNr7S",
        "outputId": "3c68d555-f26d-40b8-c0de-e00ae312d778"
      },
      "execution_count": 111,
      "outputs": [
        {
          "output_type": "stream",
          "name": "stdout",
          "text": [
            "93.4783 % de Accuracy\n"
          ]
        }
      ]
    },
    {
      "cell_type": "code",
      "source": [],
      "metadata": {
        "id": "bnQsCVi0OZDu"
      },
      "execution_count": 111,
      "outputs": []
    }
  ]
}