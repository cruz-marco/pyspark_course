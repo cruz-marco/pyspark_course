{
  "nbformat": 4,
  "nbformat_minor": 0,
  "metadata": {
    "colab": {
      "provenance": [],
      "mount_file_id": "1tUvSYWRu35XUamRICIQsF2mxLMVj_2Ra",
      "authorship_tag": "ABX9TyNHTHz7QXYKTCwNUc6tWAA2",
      "include_colab_link": true
    },
    "kernelspec": {
      "name": "python3",
      "display_name": "Python 3"
    },
    "language_info": {
      "name": "python"
    }
  },
  "cells": [
    {
      "cell_type": "markdown",
      "metadata": {
        "id": "view-in-github",
        "colab_type": "text"
      },
      "source": [
        "<a href=\"https://colab.research.google.com/github/cruz-marco/pyspark_course/blob/main/pyspark_DIY04.ipynb\" target=\"_parent\"><img src=\"https://colab.research.google.com/assets/colab-badge.svg\" alt=\"Open In Colab\"/></a>"
      ]
    },
    {
      "cell_type": "code",
      "execution_count": 1,
      "metadata": {
        "id": "zbDk5maH6aaH"
      },
      "outputs": [],
      "source": [
        "#@title\n",
        "!apt-get install openjdk-8-jdk-headless -qq > /dev/null\n",
        "!wget -q https://dlcdn.apache.org/spark/spark-3.2.3/spark-3.2.3-bin-hadoop3.2.tgz\n",
        "!tar xf spark-3.2.3-bin-hadoop3.2.tgz\n",
        "\n",
        "import os\n",
        "os.environ[\"JAVA_HOME\"] = \"/usr/lib/jvm/java-8-openjdk-amd64\" \n",
        "os.environ[\"SPARK_HOME\"] = '/content/spark-3.2.3-bin-hadoop3.2'\n",
        "\n",
        "!pip install -q findspark\n",
        "\n",
        "import findspark\n",
        "findspark.init()\n",
        "findspark.find()\n",
        "\n",
        "from pyspark.sql import SparkSession\n",
        "spark = SparkSession.builder.master(\"local[*]\").getOrCreate()\n",
        "sc = spark.sparkContext\n"
      ]
    },
    {
      "cell_type": "markdown",
      "source": [
        "# Faça você mesmo 4"
      ],
      "metadata": {
        "id": "Tcc6ld0K_UEY"
      }
    },
    {
      "cell_type": "markdown",
      "source": [
        "1. Classe é a coluna class,portando Multiclass\n",
        "2. Utilize MultiClassificationEvaluator\n",
        "3. Use accuracy como métrica\n",
        "4. Use um classificador diferente, por exemplo NaiveBayes."
      ],
      "metadata": {
        "id": "9BBq5Ij__rcH"
      }
    },
    {
      "cell_type": "markdown",
      "source": [
        "> Importando as classes"
      ],
      "metadata": {
        "id": "xAF_DN_6BAH2"
      }
    },
    {
      "cell_type": "code",
      "source": [
        "from pyspark.ml.classification import NaiveBayes\n",
        "from pyspark.ml.feature import StandardScaler, VectorAssembler\n",
        "from pyspark.ml.evaluation import MulticlassClassificationEvaluator\n",
        "from pyspark.sql import functions as f\n",
        "from pyspark.sql import types as t"
      ],
      "metadata": {
        "id": "7yn5pD0_6o7G"
      },
      "execution_count": 24,
      "outputs": []
    },
    {
      "cell_type": "code",
      "source": [
        "schema = ('sepallength FLOAT, sepalwidth FLOAT, petallength FLOAT, petalwidth'\n",
        "          ' FLOAT, class STRING')\n",
        "\n",
        "dataset = spark.read.load(('/content/drive/MyDrive/Datasets/pyspark_course/iri'\n",
        "          's.csv'),format='csv', header=True, schema=schema)\n",
        "\n",
        "dataset.show()"
      ],
      "metadata": {
        "colab": {
          "base_uri": "https://localhost:8080/"
        },
        "id": "crlG__smBE4L",
        "outputId": "c588cc4e-dfc0-4056-eab0-531d5dd4065a"
      },
      "execution_count": 33,
      "outputs": [
        {
          "output_type": "stream",
          "name": "stdout",
          "text": [
            "+-----------+----------+-----------+----------+-----------+\n",
            "|sepallength|sepalwidth|petallength|petalwidth|      class|\n",
            "+-----------+----------+-----------+----------+-----------+\n",
            "|        5.1|       3.5|        1.4|       0.2|Iris-setosa|\n",
            "|        4.9|       3.0|        1.4|       0.2|Iris-setosa|\n",
            "|        4.7|       3.2|        1.3|       0.2|Iris-setosa|\n",
            "|        4.6|       3.1|        1.5|       0.2|Iris-setosa|\n",
            "|        5.0|       3.6|        1.4|       0.2|Iris-setosa|\n",
            "|        5.4|       3.9|        1.7|       0.4|Iris-setosa|\n",
            "|        4.6|       3.4|        1.4|       0.3|Iris-setosa|\n",
            "|        5.0|       3.4|        1.5|       0.2|Iris-setosa|\n",
            "|        4.4|       2.9|        1.4|       0.2|Iris-setosa|\n",
            "|        4.9|       3.1|        1.5|       0.1|Iris-setosa|\n",
            "|        5.4|       3.7|        1.5|       0.2|Iris-setosa|\n",
            "|        4.8|       3.4|        1.6|       0.2|Iris-setosa|\n",
            "|        4.8|       3.0|        1.4|       0.1|Iris-setosa|\n",
            "|        4.3|       3.0|        1.1|       0.1|Iris-setosa|\n",
            "|        5.8|       4.0|        1.2|       0.2|Iris-setosa|\n",
            "|        5.7|       4.4|        1.5|       0.4|Iris-setosa|\n",
            "|        5.4|       3.9|        1.3|       0.4|Iris-setosa|\n",
            "|        5.1|       3.5|        1.4|       0.3|Iris-setosa|\n",
            "|        5.7|       3.8|        1.7|       0.3|Iris-setosa|\n",
            "|        5.1|       3.8|        1.5|       0.3|Iris-setosa|\n",
            "+-----------+----------+-----------+----------+-----------+\n",
            "only showing top 20 rows\n",
            "\n"
          ]
        }
      ]
    },
    {
      "cell_type": "markdown",
      "source": [
        "> Classes perfeitamente balanceadas."
      ],
      "metadata": {
        "id": "NgJ2wDVlCMT6"
      }
    },
    {
      "cell_type": "code",
      "source": [
        "dataset.select(f.col('class'))\\\n",
        ".groupBy(f.col('class'))\\\n",
        ".agg(f.count('class').alias('qtd')).show()"
      ],
      "metadata": {
        "colab": {
          "base_uri": "https://localhost:8080/"
        },
        "id": "iBw6q39hBkgo",
        "outputId": "fa5c2591-ac83-4d9e-8b5a-55b6ba9e4006"
      },
      "execution_count": 34,
      "outputs": [
        {
          "output_type": "stream",
          "name": "stdout",
          "text": [
            "+---------------+---+\n",
            "|          class|qtd|\n",
            "+---------------+---+\n",
            "| Iris-virginica| 50|\n",
            "|    Iris-setosa| 50|\n",
            "|Iris-versicolor| 50|\n",
            "+---------------+---+\n",
            "\n"
          ]
        }
      ]
    },
    {
      "cell_type": "markdown",
      "source": [
        "> Criando uma função para transformar a coluna CLASS em números inteiros."
      ],
      "metadata": {
        "id": "QjOAprEyOyUA"
      }
    },
    {
      "cell_type": "code",
      "source": [
        "def class_transformer(iris):\n",
        "  try:\n",
        "    classes = {\n",
        "        'Iris-setosa': 0,\n",
        "        'Iris-virginica': 1,\n",
        "        'Iris-versicolor': 2\n",
        "    }\n",
        "    return classes[iris]\n",
        "  except:\n",
        "    return 'na'\n",
        "\n",
        "udf_class_trans = f.udf(lambda x: class_transformer(x), t.IntegerType())"
      ],
      "metadata": {
        "id": "ghcE-kINCDBn"
      },
      "execution_count": 35,
      "outputs": []
    },
    {
      "cell_type": "markdown",
      "source": [
        "> Aplicando em uma nova coluna."
      ],
      "metadata": {
        "id": "tVNeBo5eO6hs"
      }
    },
    {
      "cell_type": "code",
      "source": [
        "dataset = dataset.withColumn('label', udf_class_trans('class'))\n",
        "\n",
        "dataset.show()"
      ],
      "metadata": {
        "colab": {
          "base_uri": "https://localhost:8080/"
        },
        "id": "ZCH0rpxnD2F0",
        "outputId": "9c9404fa-ddfa-4035-c61a-f51dbd82e4ed"
      },
      "execution_count": 36,
      "outputs": [
        {
          "output_type": "stream",
          "name": "stdout",
          "text": [
            "+-----------+----------+-----------+----------+-----------+-----+\n",
            "|sepallength|sepalwidth|petallength|petalwidth|      class|label|\n",
            "+-----------+----------+-----------+----------+-----------+-----+\n",
            "|        5.1|       3.5|        1.4|       0.2|Iris-setosa|    0|\n",
            "|        4.9|       3.0|        1.4|       0.2|Iris-setosa|    0|\n",
            "|        4.7|       3.2|        1.3|       0.2|Iris-setosa|    0|\n",
            "|        4.6|       3.1|        1.5|       0.2|Iris-setosa|    0|\n",
            "|        5.0|       3.6|        1.4|       0.2|Iris-setosa|    0|\n",
            "|        5.4|       3.9|        1.7|       0.4|Iris-setosa|    0|\n",
            "|        4.6|       3.4|        1.4|       0.3|Iris-setosa|    0|\n",
            "|        5.0|       3.4|        1.5|       0.2|Iris-setosa|    0|\n",
            "|        4.4|       2.9|        1.4|       0.2|Iris-setosa|    0|\n",
            "|        4.9|       3.1|        1.5|       0.1|Iris-setosa|    0|\n",
            "|        5.4|       3.7|        1.5|       0.2|Iris-setosa|    0|\n",
            "|        4.8|       3.4|        1.6|       0.2|Iris-setosa|    0|\n",
            "|        4.8|       3.0|        1.4|       0.1|Iris-setosa|    0|\n",
            "|        4.3|       3.0|        1.1|       0.1|Iris-setosa|    0|\n",
            "|        5.8|       4.0|        1.2|       0.2|Iris-setosa|    0|\n",
            "|        5.7|       4.4|        1.5|       0.4|Iris-setosa|    0|\n",
            "|        5.4|       3.9|        1.3|       0.4|Iris-setosa|    0|\n",
            "|        5.1|       3.5|        1.4|       0.3|Iris-setosa|    0|\n",
            "|        5.7|       3.8|        1.7|       0.3|Iris-setosa|    0|\n",
            "|        5.1|       3.8|        1.5|       0.3|Iris-setosa|    0|\n",
            "+-----------+----------+-----------+----------+-----------+-----+\n",
            "only showing top 20 rows\n",
            "\n"
          ]
        }
      ]
    },
    {
      "cell_type": "markdown",
      "source": [
        "> Vetorizando as variáveis independentes"
      ],
      "metadata": {
        "id": "c922E0lNPJh3"
      }
    },
    {
      "cell_type": "code",
      "source": [
        "assembler = VectorAssembler(inputCols=['sepallength', 'sepalwidth', \n",
        "            'petallength', 'petalwidth'], outputCol='vect_feats')\n",
        "\n",
        "dataset = assembler.transform(dataset)"
      ],
      "metadata": {
        "id": "ARzF83uOJVcU"
      },
      "execution_count": 37,
      "outputs": []
    },
    {
      "cell_type": "markdown",
      "source": [
        "> Separando em treino e teste"
      ],
      "metadata": {
        "id": "tLNfvni8PPah"
      }
    },
    {
      "cell_type": "code",
      "source": [
        "dataTrain, dataTest = dataset.randomSplit([0.7, 0.3])\n",
        "\n",
        "display(\n",
        "    dataTrain.count(),\n",
        "    dataTest.count()\n",
        ")"
      ],
      "metadata": {
        "colab": {
          "base_uri": "https://localhost:8080/",
          "height": 52
        },
        "id": "dHAf5dvMENcz",
        "outputId": "5fca9569-9a2d-4f02-d2a1-5016e7b23d8f"
      },
      "execution_count": 32,
      "outputs": [
        {
          "output_type": "display_data",
          "data": {
            "text/plain": [
              "98"
            ]
          },
          "metadata": {}
        },
        {
          "output_type": "display_data",
          "data": {
            "text/plain": [
              "52"
            ]
          },
          "metadata": {}
        }
      ]
    },
    {
      "cell_type": "markdown",
      "source": [
        "> Escalonando os dados"
      ],
      "metadata": {
        "id": "NLibbZdQPTUn"
      }
    },
    {
      "cell_type": "code",
      "source": [
        "scaler = StandardScaler(inputCol='vect_feats', outputCol='scaled_feats')\n",
        "m_scaler = scaler.fit(dataTrain)"
      ],
      "metadata": {
        "id": "TuQPYY8iJQxo"
      },
      "execution_count": 41,
      "outputs": []
    },
    {
      "cell_type": "code",
      "source": [
        "s_dataTrain = m_scaler.transform(dataTrain)\n",
        "s_dataTrain.show()"
      ],
      "metadata": {
        "colab": {
          "base_uri": "https://localhost:8080/"
        },
        "id": "wuOTjvTkKvXZ",
        "outputId": "fd9ad803-5bed-44c4-8ed8-05606fc12303"
      },
      "execution_count": 46,
      "outputs": [
        {
          "output_type": "stream",
          "name": "stdout",
          "text": [
            "+-----------+----------+-----------+----------+---------------+-----+--------------------+--------------------+\n",
            "|sepallength|sepalwidth|petallength|petalwidth|          class|label|          vect_feats|        scaled_feats|\n",
            "+-----------+----------+-----------+----------+---------------+-----+--------------------+--------------------+\n",
            "|        4.4|       2.9|        1.4|       0.2|    Iris-setosa|    0|[4.40000009536743...|[5.18275485730156...|\n",
            "|        4.4|       3.0|        1.3|       0.2|    Iris-setosa|    0|[4.40000009536743...|[5.18275485730156...|\n",
            "|        4.6|       3.1|        1.5|       0.2|    Iris-setosa|    0|[4.59999990463256...|[5.41833439377012...|\n",
            "|        4.6|       3.2|        1.4|       0.2|    Iris-setosa|    0|[4.59999990463256...|[5.41833439377012...|\n",
            "|        4.7|       3.2|        1.3|       0.2|    Iris-setosa|    0|[4.69999980926513...|[5.53612416200440...|\n",
            "|        4.7|       3.2|        1.6|       0.2|    Iris-setosa|    0|[4.69999980926513...|[5.53612416200440...|\n",
            "|        4.8|       3.0|        1.4|       0.1|    Iris-setosa|    0|[4.80000019073486...|[5.65391449190460...|\n",
            "|        4.8|       3.0|        1.4|       0.3|    Iris-setosa|    0|[4.80000019073486...|[5.65391449190460...|\n",
            "|        4.8|       3.4|        1.9|       0.2|    Iris-setosa|    0|[4.80000019073486...|[5.65391449190460...|\n",
            "|        4.9|       2.4|        3.3|       1.0|Iris-versicolor|    2|[4.90000009536743...|[5.77170426013888...|\n",
            "|        4.9|       3.0|        1.4|       0.2|    Iris-setosa|    0|[4.90000009536743...|[5.77170426013888...|\n",
            "|        4.9|       3.1|        1.5|       0.1|    Iris-setosa|    0|[4.90000009536743...|[5.77170426013888...|\n",
            "|        5.0|       2.0|        3.5|       1.0|Iris-versicolor|    2|   [5.0,2.0,3.5,1.0]|[5.88949402837316...|\n",
            "|        5.0|       3.0|        1.6|       0.2|    Iris-setosa|    0|[5.0,3.0,1.600000...|[5.88949402837316...|\n",
            "|        5.0|       3.3|        1.4|       0.2|    Iris-setosa|    0|[5.0,3.2999999523...|[5.88949402837316...|\n",
            "|        5.0|       3.4|        1.6|       0.4|    Iris-setosa|    0|[5.0,3.4000000953...|[5.88949402837316...|\n",
            "|        5.0|       3.5|        1.6|       0.6|    Iris-setosa|    0|[5.0,3.5,1.600000...|[5.88949402837316...|\n",
            "|        5.0|       3.6|        1.4|       0.2|    Iris-setosa|    0|[5.0,3.5999999046...|[5.88949402837316...|\n",
            "|        5.1|       2.5|        3.0|       1.1|Iris-versicolor|    2|[5.09999990463256...|[6.00728379660744...|\n",
            "|        5.1|       3.3|        1.7|       0.5|    Iris-setosa|    0|[5.09999990463256...|[6.00728379660744...|\n",
            "+-----------+----------+-----------+----------+---------------+-----+--------------------+--------------------+\n",
            "only showing top 20 rows\n",
            "\n"
          ]
        }
      ]
    },
    {
      "cell_type": "markdown",
      "source": [
        "> Instanciando, configurando e treinando o modelo"
      ],
      "metadata": {
        "id": "WzMHOz4RPWAT"
      }
    },
    {
      "cell_type": "code",
      "source": [
        "clf = NaiveBayes(featuresCol='scaled_feats', labelCol='label')\n",
        "model = clf.fit(s_dataTrain)"
      ],
      "metadata": {
        "id": "6VrtELJqLs4u"
      },
      "execution_count": 48,
      "outputs": []
    },
    {
      "cell_type": "markdown",
      "source": [
        "> Escalonando os dados de teste"
      ],
      "metadata": {
        "id": "YKTMj1DBPeJX"
      }
    },
    {
      "cell_type": "code",
      "source": [
        "s_dataTest = m_scaler.transform(dataTest)\n",
        "s_dataTest.show()"
      ],
      "metadata": {
        "colab": {
          "base_uri": "https://localhost:8080/"
        },
        "id": "ClbfIPvuM8jM",
        "outputId": "d8d60161-13e6-40fd-e584-1161c830934b"
      },
      "execution_count": 51,
      "outputs": [
        {
          "output_type": "stream",
          "name": "stdout",
          "text": [
            "+-----------+----------+-----------+----------+---------------+-----+--------------------+--------------------+\n",
            "|sepallength|sepalwidth|petallength|petalwidth|          class|label|          vect_feats|        scaled_feats|\n",
            "+-----------+----------+-----------+----------+---------------+-----+--------------------+--------------------+\n",
            "|        4.3|       3.0|        1.1|       0.1|    Iris-setosa|    0|[4.30000019073486...|[5.06496508906729...|\n",
            "|        4.4|       3.2|        1.3|       0.2|    Iris-setosa|    0|[4.40000009536743...|[5.18275485730156...|\n",
            "|        4.5|       2.3|        1.3|       0.3|    Iris-setosa|    0|[4.5,2.2999999523...|[5.30054462553584...|\n",
            "|        4.6|       3.4|        1.4|       0.3|    Iris-setosa|    0|[4.59999990463256...|[5.41833439377012...|\n",
            "|        4.6|       3.6|        1.0|       0.2|    Iris-setosa|    0|[4.59999990463256...|[5.41833439377012...|\n",
            "|        4.8|       3.1|        1.6|       0.2|    Iris-setosa|    0|[4.80000019073486...|[5.65391449190460...|\n",
            "|        4.8|       3.4|        1.6|       0.2|    Iris-setosa|    0|[4.80000019073486...|[5.65391449190460...|\n",
            "|        4.9|       2.5|        4.5|       1.7| Iris-virginica|    1|[4.90000009536743...|[5.77170426013888...|\n",
            "|        4.9|       3.1|        1.5|       0.1|    Iris-setosa|    0|[4.90000009536743...|[5.77170426013888...|\n",
            "|        4.9|       3.1|        1.5|       0.1|    Iris-setosa|    0|[4.90000009536743...|[5.77170426013888...|\n",
            "|        5.0|       2.3|        3.3|       1.0|Iris-versicolor|    2|[5.0,2.2999999523...|[5.88949402837316...|\n",
            "|        5.0|       3.2|        1.2|       0.2|    Iris-setosa|    0|[5.0,3.2000000476...|[5.88949402837316...|\n",
            "|        5.0|       3.4|        1.5|       0.2|    Iris-setosa|    0|[5.0,3.4000000953...|[5.88949402837316...|\n",
            "|        5.0|       3.5|        1.3|       0.3|    Iris-setosa|    0|[5.0,3.5,1.299999...|[5.88949402837316...|\n",
            "|        5.1|       3.5|        1.4|       0.3|    Iris-setosa|    0|[5.09999990463256...|[6.00728379660744...|\n",
            "|        5.1|       3.7|        1.5|       0.4|    Iris-setosa|    0|[5.09999990463256...|[6.00728379660744...|\n",
            "|        5.1|       3.8|        1.5|       0.3|    Iris-setosa|    0|[5.09999990463256...|[6.00728379660744...|\n",
            "|        5.1|       3.8|        1.6|       0.2|    Iris-setosa|    0|[5.09999990463256...|[6.00728379660744...|\n",
            "|        5.2|       3.4|        1.4|       0.2|    Iris-setosa|    0|[5.19999980926513...|[6.12507356484172...|\n",
            "|        5.3|       3.7|        1.5|       0.2|    Iris-setosa|    0|[5.30000019073486...|[6.24286389474192...|\n",
            "+-----------+----------+-----------+----------+---------------+-----+--------------------+--------------------+\n",
            "only showing top 20 rows\n",
            "\n"
          ]
        }
      ]
    },
    {
      "cell_type": "markdown",
      "source": [
        "> Prevendo usando os dados de teste"
      ],
      "metadata": {
        "id": "dVwhNAbzPjIY"
      }
    },
    {
      "cell_type": "code",
      "source": [
        "dataPredict = model.transform(s_dataTest)\n",
        "dataPredict.select('class', 'label', 'prediction').show()"
      ],
      "metadata": {
        "colab": {
          "base_uri": "https://localhost:8080/"
        },
        "id": "DUfAaafrNRMi",
        "outputId": "16315c34-e175-4b5a-c179-48341a164966"
      },
      "execution_count": 53,
      "outputs": [
        {
          "output_type": "stream",
          "name": "stdout",
          "text": [
            "+---------------+-----+----------+\n",
            "|          class|label|prediction|\n",
            "+---------------+-----+----------+\n",
            "|    Iris-setosa|    0|       0.0|\n",
            "|    Iris-setosa|    0|       0.0|\n",
            "|    Iris-setosa|    0|       0.0|\n",
            "|    Iris-setosa|    0|       0.0|\n",
            "|    Iris-setosa|    0|       0.0|\n",
            "|    Iris-setosa|    0|       0.0|\n",
            "|    Iris-setosa|    0|       0.0|\n",
            "| Iris-virginica|    1|       1.0|\n",
            "|    Iris-setosa|    0|       0.0|\n",
            "|    Iris-setosa|    0|       0.0|\n",
            "|Iris-versicolor|    2|       2.0|\n",
            "|    Iris-setosa|    0|       0.0|\n",
            "|    Iris-setosa|    0|       0.0|\n",
            "|    Iris-setosa|    0|       0.0|\n",
            "|    Iris-setosa|    0|       0.0|\n",
            "|    Iris-setosa|    0|       0.0|\n",
            "|    Iris-setosa|    0|       0.0|\n",
            "|    Iris-setosa|    0|       0.0|\n",
            "|    Iris-setosa|    0|       0.0|\n",
            "|    Iris-setosa|    0|       0.0|\n",
            "+---------------+-----+----------+\n",
            "only showing top 20 rows\n",
            "\n"
          ]
        }
      ]
    },
    {
      "cell_type": "markdown",
      "source": [
        "> Avaliando a performance do modelo"
      ],
      "metadata": {
        "id": "lpyBLDKwPmx5"
      }
    },
    {
      "cell_type": "code",
      "source": [
        "eval = MulticlassClassificationEvaluator(predictionCol='prediction',\n",
        "                            labelCol='label', metricName='accuracy')\n",
        "\n",
        "acc = eval.evaluate(dataPredict)\n",
        "\n",
        "print(f'{round(acc * 100, 4)} % de Accuracy')"
      ],
      "metadata": {
        "colab": {
          "base_uri": "https://localhost:8080/"
        },
        "id": "GLdjbF8XNr7S",
        "outputId": "ed1bf974-3a6a-4c01-b530-e65a97ddb768"
      },
      "execution_count": 56,
      "outputs": [
        {
          "output_type": "stream",
          "name": "stdout",
          "text": [
            "94.2308 % de Accuracy\n"
          ]
        }
      ]
    },
    {
      "cell_type": "code",
      "source": [],
      "metadata": {
        "id": "bnQsCVi0OZDu"
      },
      "execution_count": null,
      "outputs": []
    }
  ]
}