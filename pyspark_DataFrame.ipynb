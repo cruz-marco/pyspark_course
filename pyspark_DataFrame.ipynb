{
  "nbformat": 4,
  "nbformat_minor": 0,
  "metadata": {
    "colab": {
      "provenance": [],
      "collapsed_sections": [
        "e4l4MNwqBNYt"
      ],
      "mount_file_id": "1X8PfmED3dfL72WQjQn4OyRJUOCDJNSZy",
      "authorship_tag": "ABX9TyMs8v7VARoJ/I41L2h2PTWs",
      "include_colab_link": true
    },
    "kernelspec": {
      "name": "python3",
      "display_name": "Python 3"
    },
    "language_info": {
      "name": "python"
    },
    "gpuClass": "standard"
  },
  "cells": [
    {
      "cell_type": "markdown",
      "metadata": {
        "id": "view-in-github",
        "colab_type": "text"
      },
      "source": [
        "<a href=\"https://colab.research.google.com/github/cruz-marco/pyspark_course/blob/main/pyspark_DataFrame.ipynb\" target=\"_parent\"><img src=\"https://colab.research.google.com/assets/colab-badge.svg\" alt=\"Open In Colab\"/></a>"
      ]
    },
    {
      "cell_type": "markdown",
      "source": [
        "# Instalação e configuração Spark"
      ],
      "metadata": {
        "id": "e4l4MNwqBNYt"
      }
    },
    {
      "cell_type": "code",
      "execution_count": 1,
      "metadata": {
        "id": "lPKFS4-M_m3v"
      },
      "outputs": [],
      "source": [
        "!apt-get install openjdk-8-jdk-headless -qq > /dev/null\n",
        "!wget -q https://dlcdn.apache.org/spark/spark-3.2.3/spark-3.2.3-bin-hadoop3.2.tgz\n",
        "!tar xf spark-3.2.3-bin-hadoop3.2.tgz\n",
        "\n",
        "import os\n",
        "os.environ[\"JAVA_HOME\"] = \"/usr/lib/jvm/java-8-openjdk-amd64\" \n",
        "os.environ[\"SPARK_HOME\"] = '/content/spark-3.2.3-bin-hadoop3.2'\n",
        "\n",
        "!pip install -q findspark\n",
        "\n",
        "import findspark\n",
        "findspark.init()\n",
        "findspark.find()\n",
        "\n",
        "from pyspark.sql import SparkSession\n",
        "spark = SparkSession.builder.master(\"local[*]\").getOrCreate()\n",
        "sc = spark.sparkContext"
      ]
    },
    {
      "cell_type": "markdown",
      "source": [
        "# DataFrames\n",
        "\n",
        "- Tabelas com linhas e colunas;\n",
        "- Imutáveis;\n",
        "- Schema conhecido;\n",
        "- Linhagem Preservada;\n",
        "- Colunas podem ter tipos diferentes;\n",
        "- Podemos agrupar, ordenar e filtrar;\n",
        "- Spark otimiza análises usando planos de execução (DAG's)\n",
        "\n",
        "## Lazy Evaluation\n",
        "> O processamento da transformação só ocorre quando há uma ação: \n",
        "\n",
        "## Ações:\n",
        "> (reduce, collect, count, first, take, takeSample, takeOrdered, saveAsTestFile, saveAsSequenceFile, saveAsObjectFile, countByKey, foreach)\n",
        "\n",
        "## Transformações:\n",
        "> (map, filter, flatMap, mapPartitions, mapPartitionsWithIndex, sample, union, intersection, distinct, groupByKey, reduceByKey, aggregateByKey, sortByKey, join, cogroup, cartesian, pipe, coalesce, repartition, repartitionAndSortWithinPartitions)\n"
      ],
      "metadata": {
        "id": "NfYXPqPABlN-"
      }
    },
    {
      "cell_type": "markdown",
      "source": [
        "### Criando um [DataFrame](https://spark.apache.org/docs/3.1.1/api/python/reference/api/pyspark.sql.DataFrame.html#pyspark.sql.DataFrame) de exemplo:\n",
        "- [spark.createDataFrame()](https://spark.apache.org/docs/3.1.1/api/python/reference/api/pyspark.sql.SparkSession.createDataFrame.html)"
      ],
      "metadata": {
        "id": "6Fl7TU3g0En0"
      }
    },
    {
      "cell_type": "code",
      "source": [
        "data = [(\"Pedro\", 10), (\"Maria\", 20), (\"José\", 40)] #Dados a serem inseridos na tabela\n",
        "df1 = spark.createDataFrame(data) #instanciando o DataFrame\n",
        "df1.show() #Comando para mostar o frame, pode recer um parâmetro com o número."
      ],
      "metadata": {
        "id": "KHayJtLSBkNe",
        "colab": {
          "base_uri": "https://localhost:8080/"
        },
        "outputId": "84ba89a0-384d-41f5-d489-141568c0f6a9"
      },
      "execution_count": 2,
      "outputs": [
        {
          "output_type": "stream",
          "name": "stdout",
          "text": [
            "+-----+---+\n",
            "|   _1| _2|\n",
            "+-----+---+\n",
            "|Pedro| 10|\n",
            "|Maria| 20|\n",
            "| José| 40|\n",
            "+-----+---+\n",
            "\n"
          ]
        }
      ]
    },
    {
      "cell_type": "code",
      "source": [
        "schema = \"Id INT, Nome STRING\" #definindo um schema a ser usado no DataFrame\n",
        "data_2 = [(1, \"Pedro\"), (2, \"Maria\")]\n",
        "\n",
        "df2 = spark.createDataFrame(data_2, schema=schema)\n",
        "\n",
        "df2.show()"
      ],
      "metadata": {
        "colab": {
          "base_uri": "https://localhost:8080/"
        },
        "id": "hSxHM0wLyCHS",
        "outputId": "57a4d04a-4453-408c-d1a3-948cedce3568"
      },
      "execution_count": 3,
      "outputs": [
        {
          "output_type": "stream",
          "name": "stdout",
          "text": [
            "+---+-----+\n",
            "| Id| Nome|\n",
            "+---+-----+\n",
            "|  1|Pedro|\n",
            "|  2|Maria|\n",
            "+---+-----+\n",
            "\n"
          ]
        }
      ]
    },
    {
      "cell_type": "markdown",
      "source": [
        "### Pacote de [funções](https://spark.apache.org/docs/latest/api/python/reference/pyspark.sql/functions.html):"
      ],
      "metadata": {
        "id": "iFTQ5U6n2vlS"
      }
    },
    {
      "cell_type": "code",
      "source": [
        "from pyspark.sql import functions as f #Importando a biblioteca de funções\n",
        "schema_2 = \"produtos STRING, vendas INT\"\n",
        "vendas = [(\"Caneta\", 10), (\"Lápis\", 20), (\"Caneta\", 40)]\n",
        "\n",
        "df3 = spark.createDataFrame(vendas, schema_2)\n",
        "\n",
        "df3.show()"
      ],
      "metadata": {
        "colab": {
          "base_uri": "https://localhost:8080/"
        },
        "id": "oGEHfXFW1ari",
        "outputId": "838eeeb4-b49c-4d8e-bdae-f805cf9bce3f"
      },
      "execution_count": 4,
      "outputs": [
        {
          "output_type": "stream",
          "name": "stdout",
          "text": [
            "+--------+------+\n",
            "|produtos|vendas|\n",
            "+--------+------+\n",
            "|  Caneta|    10|\n",
            "|   Lápis|    20|\n",
            "|  Caneta|    40|\n",
            "+--------+------+\n",
            "\n"
          ]
        }
      ]
    },
    {
      "cell_type": "code",
      "source": [
        "\"\"\"\n",
        "Diferente do Pandas, as funções ficam em um pacote a parte, \n",
        "logo, temos que fazer o import ou do pacote, ou da função \n",
        "específica. Por exemplo, a sum() utilizada com o método de \n",
        "agregação, conforme mostrado abaixo.\n",
        "\"\"\"\n",
        "\n",
        "agrupado = df3.groupBy(\"produtos\")\\\n",
        "            .agg(f.sum(\"vendas\"))\n",
        "\n",
        "agrupado.show()"
      ],
      "metadata": {
        "colab": {
          "base_uri": "https://localhost:8080/"
        },
        "id": "JcX8pjOm2Ki8",
        "outputId": "01daeddf-7042-4047-be88-1f33d51731c6"
      },
      "execution_count": 5,
      "outputs": [
        {
          "output_type": "stream",
          "name": "stdout",
          "text": [
            "+--------+-----------+\n",
            "|produtos|sum(vendas)|\n",
            "+--------+-----------+\n",
            "|  Caneta|         50|\n",
            "|   Lápis|         20|\n",
            "+--------+-----------+\n",
            "\n"
          ]
        }
      ]
    },
    {
      "cell_type": "code",
      "source": [
        "df3.select(\"produtos\").show() # Selecionando uma única coluna no DataFrame, por exemplo."
      ],
      "metadata": {
        "colab": {
          "base_uri": "https://localhost:8080/"
        },
        "id": "WeUhhH5e2hos",
        "outputId": "36d9b713-7b20-4764-8e31-cca5879d7dd3"
      },
      "execution_count": 6,
      "outputs": [
        {
          "output_type": "stream",
          "name": "stdout",
          "text": [
            "+--------+\n",
            "|produtos|\n",
            "+--------+\n",
            "|  Caneta|\n",
            "|   Lápis|\n",
            "|  Caneta|\n",
            "+--------+\n",
            "\n"
          ]
        }
      ]
    },
    {
      "cell_type": "code",
      "source": [
        "df3.select(\"produtos\", \"vendas\", f.expr(\"vendas * 0.2\")).show() \n",
        "\"\"\"\n",
        "A Função EXPR cria uma expressão que pode ser usada para criar mais uma linha\n",
        "no dataframe, enriquecendo a nossa análise. Ela recebe uma string com a\n",
        "expressão a ser processada.\n",
        "\"\"\""
      ],
      "metadata": {
        "colab": {
          "base_uri": "https://localhost:8080/",
          "height": 174
        },
        "id": "O04dJePN3Z5E",
        "outputId": "e1dc4433-8f89-4d41-b608-f94af83a043b"
      },
      "execution_count": 7,
      "outputs": [
        {
          "output_type": "stream",
          "name": "stdout",
          "text": [
            "+--------+------+--------------+\n",
            "|produtos|vendas|(vendas * 0.2)|\n",
            "+--------+------+--------------+\n",
            "|  Caneta|    10|           2.0|\n",
            "|   Lápis|    20|           4.0|\n",
            "|  Caneta|    40|           8.0|\n",
            "+--------+------+--------------+\n",
            "\n"
          ]
        },
        {
          "output_type": "execute_result",
          "data": {
            "text/plain": [
              "'\\nA Função EXPR cria uma expressão que pode ser usada para criar mais uma linha\\nno dataframe, enriquecendo a nossa análise. Ela recebe uma string com a\\nexpressão a ser processada.\\n'"
            ],
            "application/vnd.google.colaboratory.intrinsic+json": {
              "type": "string"
            }
          },
          "metadata": {},
          "execution_count": 7
        }
      ]
    },
    {
      "cell_type": "code",
      "source": [
        "display(\n",
        "    df3.schema, # ver a estrutura das colunas\n",
        "    df3.columns # ver os nomes das colunas\n",
        ")"
      ],
      "metadata": {
        "id": "Kj-y3RuZ41mW",
        "colab": {
          "base_uri": "https://localhost:8080/",
          "height": 52
        },
        "outputId": "4f6f398f-b49c-42e7-bbab-f59a4a424bf8"
      },
      "execution_count": 8,
      "outputs": [
        {
          "output_type": "display_data",
          "data": {
            "text/plain": [
              "StructType(List(StructField(produtos,StringType,true),StructField(vendas,IntegerType,true)))"
            ]
          },
          "metadata": {}
        },
        {
          "output_type": "display_data",
          "data": {
            "text/plain": [
              "['produtos', 'vendas']"
            ]
          },
          "metadata": {}
        }
      ]
    },
    {
      "cell_type": "markdown",
      "source": [
        "### Carregando dados de duas maneiras distintas no Spark (DataFrames)"
      ],
      "metadata": {
        "id": "b6zJZUVCtQqB"
      }
    },
    {
      "cell_type": "markdown",
      "source": [
        "Usando o spark.read.csv:"
      ],
      "metadata": {
        "id": "xsE-IJuStaNq"
      }
    },
    {
      "cell_type": "code",
      "source": [
        "from pyspark.sql.types import *\n",
        "\n",
        "arqschema = \"id INT, nome STRING, status STRING, cidade STRING, vendas INT, data STRING\"\n",
        "# esquema de colunas, colocando seu nome e tipo, em sequência, para ser usado\n",
        "# como referência na leitura dos dados em CSV, para podermos escolher\n",
        "# os tipos de dados e o nome das colunas, visto que o CSV em questão não possui\n",
        "# cabeçalho.\n",
        "\n",
        "despachantes = spark.read.csv(\"/content/drive/MyDrive/Datasets/pyspark_course/despachantes.csv\", \n",
        "                              header=False, schema=arqschema)\n"
      ],
      "metadata": {
        "id": "6ppETgnpN1hS"
      },
      "execution_count": 9,
      "outputs": []
    },
    {
      "cell_type": "code",
      "source": [
        "despachantes.show()"
      ],
      "metadata": {
        "colab": {
          "base_uri": "https://localhost:8080/"
        },
        "id": "f9TY1ZCVb1jm",
        "outputId": "05f99002-cf3b-4df0-803e-664b8637cb1c"
      },
      "execution_count": 10,
      "outputs": [
        {
          "output_type": "stream",
          "name": "stdout",
          "text": [
            "+---+-------------------+------+-------------+------+----------+\n",
            "| id|               nome|status|       cidade|vendas|      data|\n",
            "+---+-------------------+------+-------------+------+----------+\n",
            "|  1|   Carminda Pestana| Ativo|  Santa Maria|    23|2020-08-11|\n",
            "|  2|    Deolinda Vilela| Ativo|Novo Hamburgo|    34|2020-03-05|\n",
            "|  3|   Emídio Dornelles| Ativo| Porto Alegre|    34|2020-02-05|\n",
            "|  4|Felisbela Dornelles| Ativo| Porto Alegre|    36|2020-02-05|\n",
            "|  5|     Graça Ornellas| Ativo| Porto Alegre|    12|2020-02-05|\n",
            "|  6|   Matilde Rebouças| Ativo| Porto Alegre|    22|2019-01-05|\n",
            "|  7|    Noêmia   Orriça| Ativo|  Santa Maria|    45|2019-10-05|\n",
            "|  8|      Roque Vásquez| Ativo| Porto Alegre|    65|2020-03-05|\n",
            "|  9|      Uriel Queiroz| Ativo| Porto Alegre|    54|2018-05-05|\n",
            "| 10|   Viviana Sequeira| Ativo| Porto Alegre|     0|2020-09-05|\n",
            "+---+-------------------+------+-------------+------+----------+\n",
            "\n"
          ]
        }
      ]
    },
    {
      "cell_type": "code",
      "source": [
        "despachantes.groupBy(\"cidade\")\\\n",
        ".agg(f.sum(\"vendas\")).show()\n",
        "# Exemplo de groupBy"
      ],
      "metadata": {
        "colab": {
          "base_uri": "https://localhost:8080/"
        },
        "id": "ENJ2HAvYb7WM",
        "outputId": "02759f68-56be-49bd-e912-1c91e7551e00"
      },
      "execution_count": 11,
      "outputs": [
        {
          "output_type": "stream",
          "name": "stdout",
          "text": [
            "+-------------+-----------+\n",
            "|       cidade|sum(vendas)|\n",
            "+-------------+-----------+\n",
            "|  Santa Maria|         68|\n",
            "|Novo Hamburgo|         34|\n",
            "| Porto Alegre|        223|\n",
            "+-------------+-----------+\n",
            "\n"
          ]
        }
      ]
    },
    {
      "cell_type": "markdown",
      "source": [
        "Usando o spark.read.load:"
      ],
      "metadata": {
        "id": "LAwMwgc_u7lJ"
      }
    },
    {
      "cell_type": "code",
      "source": [
        "desp_autoschema = spark.read.load(\"/content/drive/MyDrive/Datasets/pyspark_course/despachantes.csv\",\n",
        "                                  header=False, format=\"csv\", sep=\",\",\n",
        "                                  inferSchema=True)\n",
        "# forma um tanto mais sucinta, é necessário informar o formato e permitir o \n",
        "# parâmetro inferSchema (valor True) para que o próprio spark deduza o tipo\n",
        "# de dados sozinho. É uma boa prática informar qual o tipo de separador SEP,\n",
        "# pois no Brasil, usamos a vírgula para declarar a parte decimal de um número\n",
        "# não inteiro."
      ],
      "metadata": {
        "id": "eFFlm09ZcPIY"
      },
      "execution_count": 12,
      "outputs": []
    },
    {
      "cell_type": "code",
      "source": [
        "desp_autoschema.show()\n",
        "# como o arquivo não tem cabeçalho, o spark nomeia as colunas automaticamente."
      ],
      "metadata": {
        "colab": {
          "base_uri": "https://localhost:8080/"
        },
        "id": "EjCUntkRczTh",
        "outputId": "3ee052ca-620c-44fc-a799-f0f77881b1fc"
      },
      "execution_count": 13,
      "outputs": [
        {
          "output_type": "stream",
          "name": "stdout",
          "text": [
            "+---+-------------------+-----+-------------+---+----------+\n",
            "|_c0|                _c1|  _c2|          _c3|_c4|       _c5|\n",
            "+---+-------------------+-----+-------------+---+----------+\n",
            "|  1|   Carminda Pestana|Ativo|  Santa Maria| 23|2020-08-11|\n",
            "|  2|    Deolinda Vilela|Ativo|Novo Hamburgo| 34|2020-03-05|\n",
            "|  3|   Emídio Dornelles|Ativo| Porto Alegre| 34|2020-02-05|\n",
            "|  4|Felisbela Dornelles|Ativo| Porto Alegre| 36|2020-02-05|\n",
            "|  5|     Graça Ornellas|Ativo| Porto Alegre| 12|2020-02-05|\n",
            "|  6|   Matilde Rebouças|Ativo| Porto Alegre| 22|2019-01-05|\n",
            "|  7|    Noêmia   Orriça|Ativo|  Santa Maria| 45|2019-10-05|\n",
            "|  8|      Roque Vásquez|Ativo| Porto Alegre| 65|2020-03-05|\n",
            "|  9|      Uriel Queiroz|Ativo| Porto Alegre| 54|2018-05-05|\n",
            "| 10|   Viviana Sequeira|Ativo| Porto Alegre|  0|2020-09-05|\n",
            "+---+-------------------+-----+-------------+---+----------+\n",
            "\n"
          ]
        }
      ]
    },
    {
      "cell_type": "code",
      "source": [
        "display(\n",
        "    despachantes.schema, # comparação dos schemas declarados e inferidos.\n",
        "    \"------------------\",\n",
        "    desp_autoschema.schema\n",
        ")\n"
      ],
      "metadata": {
        "colab": {
          "base_uri": "https://localhost:8080/",
          "height": 90
        },
        "id": "D0NLwA_Sc2wh",
        "outputId": "b19bedfe-d65c-4d97-8263-dedb58cdde65"
      },
      "execution_count": 14,
      "outputs": [
        {
          "output_type": "display_data",
          "data": {
            "text/plain": [
              "StructType(List(StructField(id,IntegerType,true),StructField(nome,StringType,true),StructField(status,StringType,true),StructField(cidade,StringType,true),StructField(vendas,IntegerType,true),StructField(data,StringType,true)))"
            ]
          },
          "metadata": {}
        },
        {
          "output_type": "display_data",
          "data": {
            "text/plain": [
              "'------------------'"
            ],
            "application/vnd.google.colaboratory.intrinsic+json": {
              "type": "string"
            }
          },
          "metadata": {}
        },
        {
          "output_type": "display_data",
          "data": {
            "text/plain": [
              "StructType(List(StructField(_c0,IntegerType,true),StructField(_c1,StringType,true),StructField(_c2,StringType,true),StructField(_c3,StringType,true),StructField(_c4,IntegerType,true),StructField(_c5,StringType,true)))"
            ]
          },
          "metadata": {}
        }
      ]
    },
    {
      "cell_type": "markdown",
      "source": [
        "### Fazendo consultas\n",
        "\n",
        "> Select, Where, OrderBy, Distinct são cláusulas SQL que no PySpark são métodos do objeto DataFrame, diferentemente do pandas, temos que usar o SELECT para selecionar as colunas que nos interessam, no lugar de exibirmos todas."
      ],
      "metadata": {
        "id": "pwcKnFLnv7P0"
      }
    },
    {
      "cell_type": "code",
      "source": [
        "despachantes.select(\"id\", \"nome\", \"vendas\")\\\n",
        "        .where(f.col(\"vendas\") > 20)\\\n",
        "        .show()"
      ],
      "metadata": {
        "colab": {
          "base_uri": "https://localhost:8080/"
        },
        "id": "BVdYdfh0dR1i",
        "outputId": "67e4bbea-a4c7-4387-84c6-bc42ef5e2fb9"
      },
      "execution_count": 15,
      "outputs": [
        {
          "output_type": "stream",
          "name": "stdout",
          "text": [
            "+---+-------------------+------+\n",
            "| id|               nome|vendas|\n",
            "+---+-------------------+------+\n",
            "|  1|   Carminda Pestana|    23|\n",
            "|  2|    Deolinda Vilela|    34|\n",
            "|  3|   Emídio Dornelles|    34|\n",
            "|  4|Felisbela Dornelles|    36|\n",
            "|  6|   Matilde Rebouças|    22|\n",
            "|  7|    Noêmia   Orriça|    45|\n",
            "|  8|      Roque Vásquez|    65|\n",
            "|  9|      Uriel Queiroz|    54|\n",
            "+---+-------------------+------+\n",
            "\n"
          ]
        }
      ]
    },
    {
      "cell_type": "markdown",
      "source": [
        "> A cláusula WHERE deve ser usada juntamente com a função COL do pacote de funções SQL do PySpark. As condições podem ser conectadas usando \"&\" e \"|\", e uma expressão pode ser negada usando \"~\"."
      ],
      "metadata": {
        "id": "RPiSPaUGwdVX"
      }
    },
    {
      "cell_type": "code",
      "source": [
        "despachantes.select(\"id\", \"nome\", \"vendas\")\\\n",
        "        .where((f.col(\"vendas\") > 20) & (f.col(\"vendas\") < 40))\\\n",
        "        .show()"
      ],
      "metadata": {
        "colab": {
          "base_uri": "https://localhost:8080/"
        },
        "id": "3gu_t-qWfKIF",
        "outputId": "aa35d19d-ff8b-4b9f-c131-459213046e0a"
      },
      "execution_count": 16,
      "outputs": [
        {
          "output_type": "stream",
          "name": "stdout",
          "text": [
            "+---+-------------------+------+\n",
            "| id|               nome|vendas|\n",
            "+---+-------------------+------+\n",
            "|  1|   Carminda Pestana|    23|\n",
            "|  2|    Deolinda Vilela|    34|\n",
            "|  3|   Emídio Dornelles|    34|\n",
            "|  4|Felisbela Dornelles|    36|\n",
            "|  6|   Matilde Rebouças|    22|\n",
            "+---+-------------------+------+\n",
            "\n"
          ]
        }
      ]
    },
    {
      "cell_type": "markdown",
      "source": [
        "### Renomeando colunas:\n",
        "> Diferente do pandas, onde podemos renomear diversas colunas passando um dicionário como parâmetro para o método da classe DataFrame; as colunas do DataFrame do PySpark devem ser renomeadas uma a uma. Portanto, faz-se necessário o uso de um loop, caso queiramos renomear mais de uma de forma ágil, por exemplo."
      ],
      "metadata": {
        "id": "C4QAu-GGxG-4"
      }
    },
    {
      "cell_type": "code",
      "source": [
        "#renomeando todas as colunas de uma só vez numa nova variável\n",
        "# novo_desp\n",
        "novo_desp = desp_autoschema\n",
        "for i in list(zip(desp_autoschema.columns, despachantes.columns)):\n",
        "  novo_desp = novo_desp.withColumnRenamed(*i)\n",
        "\n",
        "novo_desp.show()"
      ],
      "metadata": {
        "colab": {
          "base_uri": "https://localhost:8080/"
        },
        "id": "xFVfoxvifjug",
        "outputId": "0a23b374-c68d-4e3b-bd3d-95623d90122c"
      },
      "execution_count": 17,
      "outputs": [
        {
          "output_type": "stream",
          "name": "stdout",
          "text": [
            "+---+-------------------+------+-------------+------+----------+\n",
            "| id|               nome|status|       cidade|vendas|      data|\n",
            "+---+-------------------+------+-------------+------+----------+\n",
            "|  1|   Carminda Pestana| Ativo|  Santa Maria|    23|2020-08-11|\n",
            "|  2|    Deolinda Vilela| Ativo|Novo Hamburgo|    34|2020-03-05|\n",
            "|  3|   Emídio Dornelles| Ativo| Porto Alegre|    34|2020-02-05|\n",
            "|  4|Felisbela Dornelles| Ativo| Porto Alegre|    36|2020-02-05|\n",
            "|  5|     Graça Ornellas| Ativo| Porto Alegre|    12|2020-02-05|\n",
            "|  6|   Matilde Rebouças| Ativo| Porto Alegre|    22|2019-01-05|\n",
            "|  7|    Noêmia   Orriça| Ativo|  Santa Maria|    45|2019-10-05|\n",
            "|  8|      Roque Vásquez| Ativo| Porto Alegre|    65|2020-03-05|\n",
            "|  9|      Uriel Queiroz| Ativo| Porto Alegre|    54|2018-05-05|\n",
            "| 10|   Viviana Sequeira| Ativo| Porto Alegre|     0|2020-09-05|\n",
            "+---+-------------------+------+-------------+------+----------+\n",
            "\n"
          ]
        }
      ]
    },
    {
      "cell_type": "markdown",
      "source": [
        "### Criando uma nova coluna com os dados da coluna data com o tipo timestamp"
      ],
      "metadata": {
        "id": "CU7Q7W3rzw3m"
      }
    },
    {
      "cell_type": "code",
      "source": [
        "novo_desp = novo_desp.withColumn(\"data2\", f.to_timestamp(f.col(\"data\"), \n",
        "                                \"yyyy-MM-dd\"))\n",
        "novo_desp.show()"
      ],
      "metadata": {
        "colab": {
          "base_uri": "https://localhost:8080/"
        },
        "id": "X6RyQMGxnu_R",
        "outputId": "2f24d017-a8ea-412e-ff51-cd36a0224eb9"
      },
      "execution_count": 18,
      "outputs": [
        {
          "output_type": "stream",
          "name": "stdout",
          "text": [
            "+---+-------------------+------+-------------+------+----------+-------------------+\n",
            "| id|               nome|status|       cidade|vendas|      data|              data2|\n",
            "+---+-------------------+------+-------------+------+----------+-------------------+\n",
            "|  1|   Carminda Pestana| Ativo|  Santa Maria|    23|2020-08-11|2020-08-11 00:00:00|\n",
            "|  2|    Deolinda Vilela| Ativo|Novo Hamburgo|    34|2020-03-05|2020-03-05 00:00:00|\n",
            "|  3|   Emídio Dornelles| Ativo| Porto Alegre|    34|2020-02-05|2020-02-05 00:00:00|\n",
            "|  4|Felisbela Dornelles| Ativo| Porto Alegre|    36|2020-02-05|2020-02-05 00:00:00|\n",
            "|  5|     Graça Ornellas| Ativo| Porto Alegre|    12|2020-02-05|2020-02-05 00:00:00|\n",
            "|  6|   Matilde Rebouças| Ativo| Porto Alegre|    22|2019-01-05|2019-01-05 00:00:00|\n",
            "|  7|    Noêmia   Orriça| Ativo|  Santa Maria|    45|2019-10-05|2019-10-05 00:00:00|\n",
            "|  8|      Roque Vásquez| Ativo| Porto Alegre|    65|2020-03-05|2020-03-05 00:00:00|\n",
            "|  9|      Uriel Queiroz| Ativo| Porto Alegre|    54|2018-05-05|2018-05-05 00:00:00|\n",
            "| 10|   Viviana Sequeira| Ativo| Porto Alegre|     0|2020-09-05|2020-09-05 00:00:00|\n",
            "+---+-------------------+------+-------------+------+----------+-------------------+\n",
            "\n"
          ]
        }
      ]
    },
    {
      "cell_type": "code",
      "source": [
        "novo_desp.schema"
      ],
      "metadata": {
        "colab": {
          "base_uri": "https://localhost:8080/"
        },
        "id": "NYA8nTgFo5Fy",
        "outputId": "e1634e39-6dbf-4939-9d93-ed93a339b258"
      },
      "execution_count": 19,
      "outputs": [
        {
          "output_type": "execute_result",
          "data": {
            "text/plain": [
              "StructType(List(StructField(id,IntegerType,true),StructField(nome,StringType,true),StructField(status,StringType,true),StructField(cidade,StringType,true),StructField(vendas,IntegerType,true),StructField(data,StringType,true),StructField(data2,TimestampType,true)))"
            ]
          },
          "metadata": {},
          "execution_count": 19
        }
      ]
    },
    {
      "cell_type": "markdown",
      "source": [
        "> Selecionando os anos das datas (str e timestamp) e os nomes dos despachantes, ordenando por nome."
      ],
      "metadata": {
        "id": "2AJ5qLqF0DVT"
      }
    },
    {
      "cell_type": "code",
      "source": [
        "novo_desp.select(f.year(\"data\"), f.year(\"data2\"), \"nome\")\\\n",
        "                .distinct()\\\n",
        "                .orderBy(\"nome\")\\\n",
        "                .show()"
      ],
      "metadata": {
        "colab": {
          "base_uri": "https://localhost:8080/"
        },
        "id": "RTaA_mcMpBTq",
        "outputId": "1dba29ef-ff55-4504-bdf2-fd8fbdbaa3d7"
      },
      "execution_count": 20,
      "outputs": [
        {
          "output_type": "stream",
          "name": "stdout",
          "text": [
            "+----------+-----------+-------------------+\n",
            "|year(data)|year(data2)|               nome|\n",
            "+----------+-----------+-------------------+\n",
            "|      2020|       2020|   Carminda Pestana|\n",
            "|      2020|       2020|    Deolinda Vilela|\n",
            "|      2020|       2020|   Emídio Dornelles|\n",
            "|      2020|       2020|Felisbela Dornelles|\n",
            "|      2020|       2020|     Graça Ornellas|\n",
            "|      2019|       2019|   Matilde Rebouças|\n",
            "|      2019|       2019|    Noêmia   Orriça|\n",
            "|      2020|       2020|      Roque Vásquez|\n",
            "|      2018|       2018|      Uriel Queiroz|\n",
            "|      2020|       2020|   Viviana Sequeira|\n",
            "+----------+-----------+-------------------+\n",
            "\n"
          ]
        }
      ]
    },
    {
      "cell_type": "markdown",
      "source": [
        "> Usando o ALIAS, podemos dar apelidos para todas as colunas, logo, podemos criar um agrupamento usando as funções do pacote functions e as apelidando e usando a referência do apelido em outros métodos do DataFrame como o groupBy e o orderBy.\n",
        "\n",
        "> Para ordenar crescente o decrescente, usamos .asc() ou .desc(), sendo estes métodos para a função COL do pacote de funções SQL.|"
      ],
      "metadata": {
        "id": "nqkajluI0qLQ"
      }
    },
    {
      "cell_type": "code",
      "source": [
        "novo_desp.select(f.year(\"data\").alias(\"anos\"))\\\n",
        "                .groupBy(\"anos\")\\\n",
        "                .agg(f.count(f.col(\"anos\")).alias(\"ocorr\"))\\\n",
        "                .orderBy(f.col(\"ocorr\").desc())\\\n",
        "                .show()#Só funciona se dermos um apelido para a coluna"
      ],
      "metadata": {
        "colab": {
          "base_uri": "https://localhost:8080/"
        },
        "id": "Q5t7Dyl0psIN",
        "outputId": "a5d87962-0c54-449e-8412-727169086ccb"
      },
      "execution_count": 21,
      "outputs": [
        {
          "output_type": "stream",
          "name": "stdout",
          "text": [
            "+----+-----+\n",
            "|anos|ocorr|\n",
            "+----+-----+\n",
            "|2020|    7|\n",
            "|2019|    2|\n",
            "|2018|    1|\n",
            "+----+-----+\n",
            "\n"
          ]
        }
      ]
    },
    {
      "cell_type": "markdown",
      "source": [
        "> Total de vendas"
      ],
      "metadata": {
        "id": "5giH2hGa0nYK"
      }
    },
    {
      "cell_type": "code",
      "source": [
        "novo_desp.select(f.sum(\"vendas\")).show()"
      ],
      "metadata": {
        "colab": {
          "base_uri": "https://localhost:8080/"
        },
        "id": "KqgeqXFAqBSB",
        "outputId": "67f8c0e8-e115-4ac3-a537-4a00d582e95d"
      },
      "execution_count": 22,
      "outputs": [
        {
          "output_type": "stream",
          "name": "stdout",
          "text": [
            "+-----------+\n",
            "|sum(vendas)|\n",
            "+-----------+\n",
            "|        325|\n",
            "+-----------+\n",
            "\n"
          ]
        }
      ]
    },
    {
      "cell_type": "markdown",
      "source": [
        "# Principais Transformações e Ações:"
      ],
      "metadata": {
        "id": "DK8Mw3mv4ZNI"
      }
    },
    {
      "cell_type": "code",
      "source": [
        "despachantes.take(5)"
      ],
      "metadata": {
        "colab": {
          "base_uri": "https://localhost:8080/"
        },
        "id": "4Jgk8-nWtLPe",
        "outputId": "032d5330-053e-4cc3-dc01-b62bcc66dc4a"
      },
      "execution_count": 23,
      "outputs": [
        {
          "output_type": "execute_result",
          "data": {
            "text/plain": [
              "[Row(id=1, nome='Carminda Pestana', status='Ativo', cidade='Santa Maria', vendas=23, data='2020-08-11'),\n",
              " Row(id=2, nome='Deolinda Vilela', status='Ativo', cidade='Novo Hamburgo', vendas=34, data='2020-03-05'),\n",
              " Row(id=3, nome='Emídio Dornelles', status='Ativo', cidade='Porto Alegre', vendas=34, data='2020-02-05'),\n",
              " Row(id=4, nome='Felisbela Dornelles', status='Ativo', cidade='Porto Alegre', vendas=36, data='2020-02-05'),\n",
              " Row(id=5, nome='Graça Ornellas', status='Ativo', cidade='Porto Alegre', vendas=12, data='2020-02-05')]"
            ]
          },
          "metadata": {},
          "execution_count": 23
        }
      ]
    },
    {
      "cell_type": "code",
      "source": [
        "despachantes.collect() #ação herdada do RDD"
      ],
      "metadata": {
        "colab": {
          "base_uri": "https://localhost:8080/"
        },
        "id": "uIoo6nZr4rik",
        "outputId": "bf40f1df-d98c-4cab-aa1c-c8b01e16eb06"
      },
      "execution_count": 24,
      "outputs": [
        {
          "output_type": "execute_result",
          "data": {
            "text/plain": [
              "[Row(id=1, nome='Carminda Pestana', status='Ativo', cidade='Santa Maria', vendas=23, data='2020-08-11'),\n",
              " Row(id=2, nome='Deolinda Vilela', status='Ativo', cidade='Novo Hamburgo', vendas=34, data='2020-03-05'),\n",
              " Row(id=3, nome='Emídio Dornelles', status='Ativo', cidade='Porto Alegre', vendas=34, data='2020-02-05'),\n",
              " Row(id=4, nome='Felisbela Dornelles', status='Ativo', cidade='Porto Alegre', vendas=36, data='2020-02-05'),\n",
              " Row(id=5, nome='Graça Ornellas', status='Ativo', cidade='Porto Alegre', vendas=12, data='2020-02-05'),\n",
              " Row(id=6, nome='Matilde Rebouças', status='Ativo', cidade='Porto Alegre', vendas=22, data='2019-01-05'),\n",
              " Row(id=7, nome='Noêmia   Orriça', status='Ativo', cidade='Santa Maria', vendas=45, data='2019-10-05'),\n",
              " Row(id=8, nome='Roque Vásquez', status='Ativo', cidade='Porto Alegre', vendas=65, data='2020-03-05'),\n",
              " Row(id=9, nome='Uriel Queiroz', status='Ativo', cidade='Porto Alegre', vendas=54, data='2018-05-05'),\n",
              " Row(id=10, nome='Viviana Sequeira', status='Ativo', cidade='Porto Alegre', vendas=0, data='2020-09-05')]"
            ]
          },
          "metadata": {},
          "execution_count": 24
        }
      ]
    },
    {
      "cell_type": "code",
      "source": [
        "despachantes.count() #sem nenhum argumento, retorna o número de linhas."
      ],
      "metadata": {
        "colab": {
          "base_uri": "https://localhost:8080/"
        },
        "id": "uxC2lV6M4zOe",
        "outputId": "722fb379-cff0-4fc0-b144-21f8ba0395c2"
      },
      "execution_count": 25,
      "outputs": [
        {
          "output_type": "execute_result",
          "data": {
            "text/plain": [
              "10"
            ]
          },
          "metadata": {},
          "execution_count": 25
        }
      ]
    },
    {
      "cell_type": "markdown",
      "source": [
        "> Podemos ordenar por duas colunas usando a função col com o método asc ou desc"
      ],
      "metadata": {
        "id": "GqU3oVf4C5fh"
      }
    },
    {
      "cell_type": "code",
      "source": [
        "despachantes.orderBy(f.col(\"cidade\").asc(),\n",
        "                     f.col(\"vendas\").desc())\\\n",
        "                     .show()"
      ],
      "metadata": {
        "colab": {
          "base_uri": "https://localhost:8080/"
        },
        "id": "vKn3w94v48ri",
        "outputId": "d387caaf-c4cc-462b-c27e-f70e1d611315"
      },
      "execution_count": 26,
      "outputs": [
        {
          "output_type": "stream",
          "name": "stdout",
          "text": [
            "+---+-------------------+------+-------------+------+----------+\n",
            "| id|               nome|status|       cidade|vendas|      data|\n",
            "+---+-------------------+------+-------------+------+----------+\n",
            "|  2|    Deolinda Vilela| Ativo|Novo Hamburgo|    34|2020-03-05|\n",
            "|  8|      Roque Vásquez| Ativo| Porto Alegre|    65|2020-03-05|\n",
            "|  9|      Uriel Queiroz| Ativo| Porto Alegre|    54|2018-05-05|\n",
            "|  4|Felisbela Dornelles| Ativo| Porto Alegre|    36|2020-02-05|\n",
            "|  3|   Emídio Dornelles| Ativo| Porto Alegre|    34|2020-02-05|\n",
            "|  6|   Matilde Rebouças| Ativo| Porto Alegre|    22|2019-01-05|\n",
            "|  5|     Graça Ornellas| Ativo| Porto Alegre|    12|2020-02-05|\n",
            "| 10|   Viviana Sequeira| Ativo| Porto Alegre|     0|2020-09-05|\n",
            "|  7|    Noêmia   Orriça| Ativo|  Santa Maria|    45|2019-10-05|\n",
            "|  1|   Carminda Pestana| Ativo|  Santa Maria|    23|2020-08-11|\n",
            "+---+-------------------+------+-------------+------+----------+\n",
            "\n"
          ]
        }
      ]
    },
    {
      "cell_type": "markdown",
      "source": [
        "> Tabela de agrupamento retornando a quantidade de vendas das cidades da maior para a menor."
      ],
      "metadata": {
        "id": "3h2J1HAsDcuB"
      }
    },
    {
      "cell_type": "code",
      "source": [
        "despachantes.groupBy(\"cidade\")\\\n",
        "            .agg(f.sum(\"vendas\").alias(\"vendas_totais\"))\\\n",
        "            .orderBy(f.col(\"vendas_totais\").desc())\\\n",
        "            .show()"
      ],
      "metadata": {
        "colab": {
          "base_uri": "https://localhost:8080/"
        },
        "id": "0hc_frf_59E7",
        "outputId": "dd1abd0b-d817-4de0-9f4e-8d6dcccd58d3"
      },
      "execution_count": 27,
      "outputs": [
        {
          "output_type": "stream",
          "name": "stdout",
          "text": [
            "+-------------+-------------+\n",
            "|       cidade|vendas_totais|\n",
            "+-------------+-------------+\n",
            "| Porto Alegre|          223|\n",
            "|  Santa Maria|           68|\n",
            "|Novo Hamburgo|           34|\n",
            "+-------------+-------------+\n",
            "\n"
          ]
        }
      ]
    },
    {
      "cell_type": "markdown",
      "source": [
        "> Filtrando o DataFrame inteiro a partir de uma coluna."
      ],
      "metadata": {
        "id": "dTLEEa-MDoAF"
      }
    },
    {
      "cell_type": "code",
      "source": [
        "despachantes.filter(f.col(\"cidade\") != \"Porto Alegre\").show()"
      ],
      "metadata": {
        "colab": {
          "base_uri": "https://localhost:8080/"
        },
        "id": "0sNt54Yr6tiG",
        "outputId": "d260d612-8eff-4b33-e042-89b725382433"
      },
      "execution_count": 28,
      "outputs": [
        {
          "output_type": "stream",
          "name": "stdout",
          "text": [
            "+---+----------------+------+-------------+------+----------+\n",
            "| id|            nome|status|       cidade|vendas|      data|\n",
            "+---+----------------+------+-------------+------+----------+\n",
            "|  1|Carminda Pestana| Ativo|  Santa Maria|    23|2020-08-11|\n",
            "|  2| Deolinda Vilela| Ativo|Novo Hamburgo|    34|2020-03-05|\n",
            "|  7| Noêmia   Orriça| Ativo|  Santa Maria|    45|2019-10-05|\n",
            "+---+----------------+------+-------------+------+----------+\n",
            "\n"
          ]
        }
      ]
    },
    {
      "cell_type": "markdown",
      "source": [
        "## Escrita e Carregamento de Arquivos"
      ],
      "metadata": {
        "id": "zpzc-3ZsDwE8"
      }
    },
    {
      "cell_type": "markdown",
      "source": [
        "> Salvando o novo_desp em arquivo parquet no Drive. O Arquivo Parquet salva o cabeçalho e os tipos de dados automaticamente."
      ],
      "metadata": {
        "id": "KouajXWBD1W6"
      }
    },
    {
      "cell_type": "code",
      "source": [
        "novo_desp.write.format(\"parquet\").save(\"/content/drive/MyDrive/Datasets/pyspark_course/dfpqt\")"
      ],
      "metadata": {
        "id": "6Bj3uACp75gb"
      },
      "execution_count": null,
      "outputs": []
    },
    {
      "cell_type": "markdown",
      "source": [
        "> Importando e testando o arquivo criado:"
      ],
      "metadata": {
        "id": "zW29FrgMEJ5K"
      }
    },
    {
      "cell_type": "code",
      "source": [
        "imported_df = spark.read.load(\"/content/drive/MyDrive/Datasets/pyspark_course/dfpqt/part-00000-c8a74511-ecb8-4fc4-91ba-77fe818d7065-c000.snappy.parquet\",\n",
        "                              format=\"parquet\")"
      ],
      "metadata": {
        "id": "-ALDa1Of-qYG"
      },
      "execution_count": 30,
      "outputs": []
    },
    {
      "cell_type": "code",
      "source": [
        "imported_df.show()"
      ],
      "metadata": {
        "colab": {
          "base_uri": "https://localhost:8080/"
        },
        "id": "hlIs9PrDCmqM",
        "outputId": "b8fe810e-afdf-446b-ec70-5a3e37ad6fc4"
      },
      "execution_count": 31,
      "outputs": [
        {
          "output_type": "stream",
          "name": "stdout",
          "text": [
            "+---+-------------------+------+-------------+------+----------+-------------------+\n",
            "| id|               nome|status|       cidade|vendas|      data|              data2|\n",
            "+---+-------------------+------+-------------+------+----------+-------------------+\n",
            "|  1|   Carminda Pestana| Ativo|  Santa Maria|    23|2020-08-11|2020-08-11 00:00:00|\n",
            "|  2|    Deolinda Vilela| Ativo|Novo Hamburgo|    34|2020-03-05|2020-03-05 00:00:00|\n",
            "|  3|   Emídio Dornelles| Ativo| Porto Alegre|    34|2020-02-05|2020-02-05 00:00:00|\n",
            "|  4|Felisbela Dornelles| Ativo| Porto Alegre|    36|2020-02-05|2020-02-05 00:00:00|\n",
            "|  5|     Graça Ornellas| Ativo| Porto Alegre|    12|2020-02-05|2020-02-05 00:00:00|\n",
            "|  6|   Matilde Rebouças| Ativo| Porto Alegre|    22|2019-01-05|2019-01-05 00:00:00|\n",
            "|  7|    Noêmia   Orriça| Ativo|  Santa Maria|    45|2019-10-05|2019-10-05 00:00:00|\n",
            "|  8|      Roque Vásquez| Ativo| Porto Alegre|    65|2020-03-05|2020-03-05 00:00:00|\n",
            "|  9|      Uriel Queiroz| Ativo| Porto Alegre|    54|2018-05-05|2018-05-05 00:00:00|\n",
            "| 10|   Viviana Sequeira| Ativo| Porto Alegre|     0|2020-09-05|2020-09-05 00:00:00|\n",
            "+---+-------------------+------+-------------+------+----------+-------------------+\n",
            "\n"
          ]
        }
      ]
    },
    {
      "cell_type": "code",
      "source": [
        "imported_df.schema"
      ],
      "metadata": {
        "colab": {
          "base_uri": "https://localhost:8080/"
        },
        "id": "2oVmxp9LCpFd",
        "outputId": "37cf9563-97d1-4be6-b666-2ee475f8b7cd"
      },
      "execution_count": 32,
      "outputs": [
        {
          "output_type": "execute_result",
          "data": {
            "text/plain": [
              "StructType(List(StructField(id,IntegerType,true),StructField(nome,StringType,true),StructField(status,StringType,true),StructField(cidade,StringType,true),StructField(vendas,IntegerType,true),StructField(data,StringType,true),StructField(data2,TimestampType,true)))"
            ]
          },
          "metadata": {},
          "execution_count": 32
        }
      ]
    },
    {
      "cell_type": "code",
      "source": [],
      "metadata": {
        "id": "qhBWU2whDWlj"
      },
      "execution_count": 32,
      "outputs": []
    }
  ]
}