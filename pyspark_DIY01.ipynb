{
  "nbformat": 4,
  "nbformat_minor": 0,
  "metadata": {
    "colab": {
      "provenance": [],
      "mount_file_id": "1ZD2a2po9MgGndxV0WmpdGNvcIi_2eVaZ",
      "authorship_tag": "ABX9TyMAWqN5JGnYmLr22mjlw+U9",
      "include_colab_link": true
    },
    "kernelspec": {
      "name": "python3",
      "display_name": "Python 3"
    },
    "language_info": {
      "name": "python"
    }
  },
  "cells": [
    {
      "cell_type": "markdown",
      "metadata": {
        "id": "view-in-github",
        "colab_type": "text"
      },
      "source": [
        "<a href=\"https://colab.research.google.com/github/cruz-marco/pyspark_course/blob/main/pyspark_DIY01.ipynb\" target=\"_parent\"><img src=\"https://colab.research.google.com/assets/colab-badge.svg\" alt=\"Open In Colab\"/></a>"
      ]
    },
    {
      "cell_type": "markdown",
      "source": [
        "# Config do Spark"
      ],
      "metadata": {
        "id": "zuZ_1edbHzEv"
      }
    },
    {
      "cell_type": "code",
      "execution_count": 1,
      "metadata": {
        "id": "1DwoKXnyF7WH"
      },
      "outputs": [],
      "source": [
        "!apt-get install openjdk-8-jdk-headless -qq > /dev/null\n",
        "!wget -q https://dlcdn.apache.org/spark/spark-3.2.3/spark-3.2.3-bin-hadoop3.2.tgz\n",
        "!tar xf spark-3.2.3-bin-hadoop3.2.tgz\n",
        "\n",
        "import os\n",
        "os.environ[\"JAVA_HOME\"] = \"/usr/lib/jvm/java-8-openjdk-amd64\" \n",
        "os.environ[\"SPARK_HOME\"] = '/content/spark-3.2.3-bin-hadoop3.2'\n",
        "\n",
        "!pip install -q findspark\n",
        "\n",
        "import findspark\n",
        "findspark.init()\n",
        "findspark.find()\n",
        "\n",
        "from pyspark.sql import SparkSession\n",
        "spark = SparkSession.builder.master(\"local[*]\").getOrCreate()\n",
        "sc = spark.sparkContext"
      ]
    },
    {
      "cell_type": "markdown",
      "source": [
        "# Importe do módulo de funções."
      ],
      "metadata": {
        "id": "Q7kyS8YNH390"
      }
    },
    {
      "cell_type": "code",
      "source": [
        "from pyspark.sql import functions as f"
      ],
      "metadata": {
        "id": "NIIYS8Ki2RX-"
      },
      "execution_count": 19,
      "outputs": []
    },
    {
      "cell_type": "markdown",
      "source": [
        "# Criação e verificação dos DataFrames"
      ],
      "metadata": {
        "id": "6xGQc01nH8a-"
      }
    },
    {
      "cell_type": "code",
      "source": [
        "clientes = spark.read.load(('/content/drive/MyDrive/Datasets/pyspark_course/Ati'\n",
        "                            'vidades/Clientes.parquet'), format=\"parquet\")\n",
        "\n",
        "itens_vendas = spark.read.load((\"/content/drive/MyDrive/Datasets/pyspark_course\"\n",
        "                                \"/Atividades/ItensVendas.parquet\"), \n",
        "                                format=\"parquet\")\n",
        "\n",
        "produtos = spark.read.load((\"/content/drive/MyDrive/Datasets/pyspark_course/Ati\"\n",
        "                            \"vidades/Produtos.parquet\"), format=\"parquet\")\n",
        "\n",
        "vendas = spark.read.load((\"/content/drive/MyDrive/Datasets/pyspark_course/Ativ\"\n",
        "                          \"idades/Vendas.parquet\"), format=\"parquet\")\n",
        "\n",
        "vendedores = spark.read.load((\"/content/drive/MyDrive/Datasets/pyspark_course/A\"\n",
        "                            \"tividades/Vendedores.parquet\"), format=\"parquet\")\n",
        "\n",
        "dataframes = [clientes, itens_vendas, produtos, vendas, vendedores]"
      ],
      "metadata": {
        "id": "4akvve98GDIf"
      },
      "execution_count": 79,
      "outputs": []
    },
    {
      "cell_type": "code",
      "source": [
        "for frame in dataframes:\n",
        "  frame.show(5)"
      ],
      "metadata": {
        "colab": {
          "base_uri": "https://localhost:8080/"
        },
        "id": "mgw1UCz2zbML",
        "outputId": "7a9aec6e-a619-417a-b6c8-4941853ab999"
      },
      "execution_count": 80,
      "outputs": [
        {
          "output_type": "stream",
          "name": "stdout",
          "text": [
            "+---------+--------------------+------+------+--------+\n",
            "|ClienteID|             Cliente|Estado|Genero|  Status|\n",
            "+---------+--------------------+------+------+--------+\n",
            "|        1|Adelina Buenaventura|    RJ|     M|  Silver|\n",
            "|        2|        Adelino Gago|    RJ|     M|  Silver|\n",
            "|        3|     Adolfo Patrício|    PE|     M|  Silver|\n",
            "|        4|    Adriana Guedelha|    RO|     F|Platinum|\n",
            "|        5|       Adélio Lisboa|    SE|     M|  Silver|\n",
            "+---------+--------------------+------+------+--------+\n",
            "only showing top 5 rows\n",
            "\n",
            "+---------+--------+----------+-------------+----------+--------+----------------+\n",
            "|ProdutoID|VendasID|Quantidade|ValorUnitario|ValorTotal|Desconto|TotalComDesconto|\n",
            "+---------+--------+----------+-------------+----------+--------+----------------+\n",
            "|        2|     400|         2|       9201.0|   18402.0| 6256,68|        12145.32|\n",
            "|        2|     385|         2|       9201.0|   18402.0| 5704,62|        12697.38|\n",
            "|        4|     395|         2|       6892.2|   13784.4| 5100,23|         8684.17|\n",
            "|        4|     367|         2|       6509.3|   13018.6| 4816,88|         8201.72|\n",
            "|        2|     380|         2|      7038.77|  14077.54| 4364,04|          9713.5|\n",
            "+---------+--------+----------+-------------+----------+--------+----------------+\n",
            "only showing top 5 rows\n",
            "\n",
            "+---------+--------------------+---------+\n",
            "|ProdutoID|             Produto|    Preco|\n",
            "+---------+--------------------+---------+\n",
            "|        1|Bicicleta Aro 29 ...|8.852,00 |\n",
            "|        2|Bicicleta Altools...|9.201,00 |\n",
            "|        3|Bicicleta Gts Adv...|4.255,00 |\n",
            "|        4|Bicicleta Trinc C...|7.658,00 |\n",
            "|        5|Bicicleta Gometws...|2.966,00 |\n",
            "+---------+--------------------+---------+\n",
            "only showing top 5 rows\n",
            "\n",
            "+--------+----------+---------+--------+--------+\n",
            "|VendasID|VendedorID|ClienteID|    Data|   Total|\n",
            "+--------+----------+---------+--------+--------+\n",
            "|       1|         1|       91|1/1/2019|  8053.6|\n",
            "|       2|         6|      185|1/1/2020|   150.4|\n",
            "|       3|         7|       31|2/1/2020|  6087.0|\n",
            "|       4|         5|       31|2/1/2019| 13828.6|\n",
            "|       5|         5|       31|3/1/2018|26096.66|\n",
            "+--------+----------+---------+--------+--------+\n",
            "only showing top 5 rows\n",
            "\n",
            "+----------+----------------+\n",
            "|VendedorID|        Vendedor|\n",
            "+----------+----------------+\n",
            "|         1|    Armando Lago|\n",
            "|         2|Capitolino Bahía|\n",
            "|         3|   Daniel Pirajá|\n",
            "|         4| Godo Capiperibe|\n",
            "|         5|  Hélio Liberato|\n",
            "+----------+----------------+\n",
            "only showing top 5 rows\n",
            "\n"
          ]
        }
      ]
    },
    {
      "cell_type": "markdown",
      "source": [
        "# 1. Criar uma consulta que mostre nome, estado e status dos clientes."
      ],
      "metadata": {
        "id": "gwLBcIaI2swg"
      }
    },
    {
      "cell_type": "code",
      "source": [
        "clientes.select(f.col('Cliente').alias('Nome'), f.col('Estado'), f.col('Status')\n",
        "                ).show()"
      ],
      "metadata": {
        "colab": {
          "base_uri": "https://localhost:8080/"
        },
        "id": "_CoK9AFvz0_0",
        "outputId": "17b744e4-e253-4299-cf83-8a354eb6a12b"
      },
      "execution_count": 81,
      "outputs": [
        {
          "output_type": "stream",
          "name": "stdout",
          "text": [
            "+--------------------+------+--------+\n",
            "|                Nome|Estado|  Status|\n",
            "+--------------------+------+--------+\n",
            "|Adelina Buenaventura|    RJ|  Silver|\n",
            "|        Adelino Gago|    RJ|  Silver|\n",
            "|     Adolfo Patrício|    PE|  Silver|\n",
            "|    Adriana Guedelha|    RO|Platinum|\n",
            "|       Adélio Lisboa|    SE|  Silver|\n",
            "|       Adérito Bahía|    MA|  Silver|\n",
            "|       Aida Dorneles|    RN|  Silver|\n",
            "|   Alarico Quinterno|    AC|  Silver|\n",
            "|    Alberto Cezimbra|    AM|  Silver|\n",
            "|    Alberto Monsanto|    RN|    Gold|\n",
            "|       Albino Canela|    AC|  Silver|\n",
            "|     Alceste Varanda|    RR|  Silver|\n",
            "|  Alcides Carvalhais|    RO|  Silver|\n",
            "|        Aldo Martins|    GO|  Silver|\n",
            "|   Alexandra Tabares|    MG|  Silver|\n",
            "|      Alfredo Cotrim|    SC|  Silver|\n",
            "|     Almeno Figueira|    SC|  Silver|\n",
            "|      Alvito Peralta|    AM|  Silver|\n",
            "|     Amadeu Martinho|    RN|  Silver|\n",
            "|      Amélia Estévez|    PE|  Silver|\n",
            "+--------------------+------+--------+\n",
            "only showing top 20 rows\n",
            "\n"
          ]
        }
      ]
    },
    {
      "cell_type": "markdown",
      "source": [
        "# 2. Crie uma consulta que mostre apenas os clientes do status Gold e Platinum"
      ],
      "metadata": {
        "id": "s6LwSaAI3RLJ"
      }
    },
    {
      "cell_type": "code",
      "source": [
        "conditions = [(f.col('Status') == 'Gold'), \n",
        "              (f.col('Status') == 'Platinum')]\n",
        "\n",
        "clientes.where(conditions[0] | conditions[1])\\\n",
        "        .orderBy(f.col('Status').asc())\\\n",
        "        .show()"
      ],
      "metadata": {
        "colab": {
          "base_uri": "https://localhost:8080/"
        },
        "id": "FHrzRkjO3JCI",
        "outputId": "090a1adf-fd3e-4d1e-8939-4abcefd429b3"
      },
      "execution_count": 82,
      "outputs": [
        {
          "output_type": "stream",
          "name": "stdout",
          "text": [
            "+---------+-------------------+------+------+--------+\n",
            "|ClienteID|            Cliente|Estado|Genero|  Status|\n",
            "+---------+-------------------+------+------+--------+\n",
            "|       68|      Carminda Dias|    AM|     F|    Gold|\n",
            "|       10|   Alberto Monsanto|    RN|     M|    Gold|\n",
            "|      166|   Firmino Meireles|    AM|     M|    Gold|\n",
            "|      220|Honorina Villaverde|    PE|     F|    Gold|\n",
            "|      237|  Iracema Rodríguez|    BA|     F|    Gold|\n",
            "|       83|      Cláudio Jorge|    TO|     M|    Gold|\n",
            "|       28|      Anna Carvajal|    RS|     F|    Gold|\n",
            "|      121|    Dionísio Saltão|    PR|     M|    Gold|\n",
            "|       49|      Bento Quintão|    SP|     M|    Gold|\n",
            "|        4|   Adriana Guedelha|    RO|     F|Platinum|\n",
            "|      170|      Flor Vilanova|    CE|     M|Platinum|\n",
            "|      230|    Ibijara Botelho|    RR|     F|Platinum|\n",
            "|      247|         Joana Ataí|    GO|     F|Platinum|\n",
            "+---------+-------------------+------+------+--------+\n",
            "\n"
          ]
        }
      ]
    },
    {
      "cell_type": "markdown",
      "source": [
        "# 3. Demonstre quanto cada Status de clientes representa em vendas.\n",
        "\n",
        "Documentação do [Join](https://spark.apache.org/docs/3.1.2/api/python/reference/api/pyspark.sql.DataFrame.join.html)"
      ],
      "metadata": {
        "id": "62-HBI8b6MTP"
      }
    },
    {
      "cell_type": "code",
      "source": [
        "vendas.join(clientes, vendas.ClienteID == clientes.ClienteID, how='inner')\\\n",
        "      .select(vendas.ClienteID, f.col('VendasID'), f.col('Total'), \n",
        "              f.col('Status'))\\\n",
        "      .groupBy('Status')\\\n",
        "      .agg(f.sum('Total').alias('Total/Status'), \n",
        "           f.mean('Total').alias('MedTotal/Status'), \n",
        "           f.count('VendasID').alias('Vendas/Status'))\\\n",
        "      .orderBy(f.col('Total/Status').desc())\\\n",
        "      .show()"
      ],
      "metadata": {
        "colab": {
          "base_uri": "https://localhost:8080/"
        },
        "id": "BU1eeia65jlY",
        "outputId": "8d70b237-bb4e-43c6-9aeb-0f94c9fa1301"
      },
      "execution_count": 83,
      "outputs": [
        {
          "output_type": "stream",
          "name": "stdout",
          "text": [
            "+--------+------------------+-----------------+-------------+\n",
            "|  Status|      Total/Status|  MedTotal/Status|Vendas/Status|\n",
            "+--------+------------------+-----------------+-------------+\n",
            "|  Silver|        3014291.36|7631.117367088607|          395|\n",
            "|    Gold|27286.690000000002|9095.563333333334|            3|\n",
            "|Platinum|          12584.68|          6292.34|            2|\n",
            "+--------+------------------+-----------------+-------------+\n",
            "\n"
          ]
        }
      ]
    },
    {
      "cell_type": "code",
      "source": [
        "vendas.join(clientes, vendas.ClienteID == clientes.ClienteID, how='inner')\\\n",
        "      .select(vendas.ClienteID, f.col('VendasID'), f.col('Total'), \n",
        "              f.col('Status'))\\\n",
        "      .groupBy('Status')\\\n",
        "      .agg(f.sum('Total').alias('Total/Status'), \n",
        "           f.mean('Total').alias('MedTotal/Status'), \n",
        "           f.count('VendasID').alias('Vendas/Status'))\\\n",
        "      .orderBy(f.col('MedTotal/Status').desc())\\\n",
        "      .show()"
      ],
      "metadata": {
        "colab": {
          "base_uri": "https://localhost:8080/"
        },
        "id": "3xL4McDX6crn",
        "outputId": "735f9026-e1d9-4172-e078-347836c0c251"
      },
      "execution_count": 84,
      "outputs": [
        {
          "output_type": "stream",
          "name": "stdout",
          "text": [
            "+--------+------------------+-----------------+-------------+\n",
            "|  Status|      Total/Status|  MedTotal/Status|Vendas/Status|\n",
            "+--------+------------------+-----------------+-------------+\n",
            "|    Gold|27286.690000000002|9095.563333333334|            3|\n",
            "|  Silver|        3014291.36|7631.117367088607|          395|\n",
            "|Platinum|          12584.68|          6292.34|            2|\n",
            "+--------+------------------+-----------------+-------------+\n",
            "\n"
          ]
        }
      ]
    },
    {
      "cell_type": "code",
      "source": [
        "vendas.join(clientes, vendas.ClienteID == clientes.ClienteID, how='inner')\\\n",
        "      .select(vendas.ClienteID, f.col('VendasID'), f.col('Total'), \n",
        "              f.col('Status'))\\\n",
        "      .groupBy('Status')\\\n",
        "      .agg(f.sum('Total').alias('Total/Status'), \n",
        "           f.mean('Total').alias('MedTotal/Status'), \n",
        "           f.count('VendasID').alias('Vendas/Status'))\\\n",
        "      .orderBy(f.col('Vendas/Status').desc())\\\n",
        "      .show()"
      ],
      "metadata": {
        "colab": {
          "base_uri": "https://localhost:8080/"
        },
        "id": "NRVVHHUz7l8x",
        "outputId": "6be2c5a3-bbe6-485a-edce-7aef4f96de81"
      },
      "execution_count": 85,
      "outputs": [
        {
          "output_type": "stream",
          "name": "stdout",
          "text": [
            "+--------+------------------+-----------------+-------------+\n",
            "|  Status|      Total/Status|  MedTotal/Status|Vendas/Status|\n",
            "+--------+------------------+-----------------+-------------+\n",
            "|  Silver|        3014291.36|7631.117367088607|          395|\n",
            "|    Gold|27286.690000000002|9095.563333333334|            3|\n",
            "|Platinum|          12584.68|          6292.34|            2|\n",
            "+--------+------------------+-----------------+-------------+\n",
            "\n"
          ]
        }
      ]
    },
    {
      "cell_type": "code",
      "source": [
        "vendas.join(clientes, vendas.ClienteID == clientes.ClienteID, how='inner')\\\n",
        "      .select(vendas.ClienteID, f.col('VendasID'), f.col('Total'), \n",
        "              f.col('Status'))\\\n",
        "      .groupBy('Status')\\\n",
        "      .agg(f.sum('Total').alias('Total/Status'), \n",
        "           f.mean('Total').alias('MedTotal/Status'), \n",
        "           f.count('VendasID').alias('Vendas/Status'))\\\n",
        "      .withColumn('% Volume', (f.col('Vendas/Status') / vendas.count()) * 100)\\\n",
        "      .orderBy(f.col('% Volume').desc())\\\n",
        "      .show()"
      ],
      "metadata": {
        "colab": {
          "base_uri": "https://localhost:8080/"
        },
        "id": "lCMTMlHCDQxI",
        "outputId": "8525c3e4-0772-482e-b806-91d89d765ca9"
      },
      "execution_count": 86,
      "outputs": [
        {
          "output_type": "stream",
          "name": "stdout",
          "text": [
            "+--------+------------------+-----------------+-------------+--------+\n",
            "|  Status|      Total/Status|  MedTotal/Status|Vendas/Status|% Volume|\n",
            "+--------+------------------+-----------------+-------------+--------+\n",
            "|  Silver|        3014291.36|7631.117367088607|          395|   98.75|\n",
            "|    Gold|27286.690000000002|9095.563333333334|            3|    0.75|\n",
            "|Platinum|          12584.68|          6292.34|            2|     0.5|\n",
            "+--------+------------------+-----------------+-------------+--------+\n",
            "\n"
          ]
        }
      ]
    },
    {
      "cell_type": "markdown",
      "source": [
        "- Certamente os clientes Platinum são os menos lucrativos. possuem uma fração ínfima do volume de vendas, seu ticket médio e total do valor gerado em vendas é muito menor que os dos status Gold e Silver.\n",
        "\n",
        "- Gold tem ticket médio acima de Platinum e Silver, entretanto apenas 3 ocorrências. São clientes que possivelmente compram pouco mas produtos com altíssimo valor agregado.\n",
        "\n",
        "- Silver movimenta a quase totalidade do volume de vendas. Embora seu valor de ticket médio seja abaixo de Gold, sua receita total é também a mais promissora das três categorias."
      ],
      "metadata": {
        "id": "iyIcLyUI__g6"
      }
    }
  ]
}